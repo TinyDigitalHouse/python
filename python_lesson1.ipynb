{
  "nbformat": 4,
  "nbformat_minor": 0,
  "metadata": {
    "colab": {
      "provenance": [],
      "authorship_tag": "ABX9TyOIoX7sIPhDDDAo5wO2kOTo",
      "include_colab_link": true
    },
    "kernelspec": {
      "name": "python3",
      "display_name": "Python 3"
    },
    "language_info": {
      "name": "python"
    }
  },
  "cells": [
    {
      "cell_type": "markdown",
      "metadata": {
        "id": "view-in-github",
        "colab_type": "text"
      },
      "source": [
        "<a href=\"https://colab.research.google.com/github/TinyDigitalHouse/python/blob/main/python_lesson1.ipynb\" target=\"_parent\"><img src=\"https://colab.research.google.com/assets/colab-badge.svg\" alt=\"Open In Colab\"/></a>"
      ]
    },
    {
      "cell_type": "markdown",
      "source": [
        "# Anyone can code\n",
        "\n",
        "To be a coder you just need to learn a few basic rules and\n",
        "commands, and then you can start writing programs to\n",
        "suit your skills and interests. If you’re into science, for\n",
        "example, you could make an app that draws graphs from\n",
        "the results of your experiments. Or you could use your art\n",
        "skills to design an alien world for your own video game"
      ],
      "metadata": {
        "id": "vTvClLsWhYVa"
      }
    },
    {
      "cell_type": "code",
      "source": [
        "# Using numbers"
      ],
      "metadata": {
        "id": "A91UBi7YD_1J"
      },
      "execution_count": null,
      "outputs": []
    },
    {
      "cell_type": "code",
      "source": [
        "# Symbol Meaning\n",
        "# +  add\n",
        "# –  subtract\n",
        "# *  multiply\n",
        "# /  divide\n",
        "\n",
        "\n",
        "\n"
      ],
      "metadata": {
        "id": "6zJKd2LIEan3"
      },
      "execution_count": null,
      "outputs": []
    },
    {
      "cell_type": "code",
      "source": [],
      "metadata": {
        "id": "frrh1oyPFDKX"
      },
      "execution_count": null,
      "outputs": []
    },
    {
      "cell_type": "markdown",
      "source": [
        "# Basic Math Operations"
      ],
      "metadata": {
        "id": "82isI0TRIKNo"
      }
    },
    {
      "cell_type": "code",
      "source": [
        "10 + 3"
      ],
      "metadata": {
        "id": "rctnQmWoIF-i",
        "colab": {
          "base_uri": "https://localhost:8080/"
        },
        "outputId": "c0034452-4c62-4f28-8df9-d45fc9e4ee1f"
      },
      "execution_count": null,
      "outputs": [
        {
          "output_type": "execute_result",
          "data": {
            "text/plain": [
              "13"
            ]
          },
          "metadata": {},
          "execution_count": 1
        }
      ]
    },
    {
      "cell_type": "code",
      "source": [
        "10 - 3"
      ],
      "metadata": {
        "id": "p9EO4RvxIRMb",
        "colab": {
          "base_uri": "https://localhost:8080/"
        },
        "outputId": "3d0472a4-b1fb-4126-da77-de3eb8738e8c"
      },
      "execution_count": null,
      "outputs": [
        {
          "output_type": "execute_result",
          "data": {
            "text/plain": [
              "7"
            ]
          },
          "metadata": {},
          "execution_count": 2
        }
      ]
    },
    {
      "cell_type": "code",
      "source": [
        "10 * 3"
      ],
      "metadata": {
        "id": "mMzX33Y2ISV4",
        "colab": {
          "base_uri": "https://localhost:8080/"
        },
        "outputId": "98bc6889-e248-4f00-80c8-69ccf442a977"
      },
      "execution_count": null,
      "outputs": [
        {
          "output_type": "execute_result",
          "data": {
            "text/plain": [
              "30"
            ]
          },
          "metadata": {},
          "execution_count": 3
        }
      ]
    },
    {
      "cell_type": "code",
      "source": [
        "10 / 3"
      ],
      "metadata": {
        "id": "6khw2BE8IS9F",
        "colab": {
          "base_uri": "https://localhost:8080/"
        },
        "outputId": "3084ea71-f716-44b8-d143-7421909b9055"
      },
      "execution_count": null,
      "outputs": [
        {
          "output_type": "execute_result",
          "data": {
            "text/plain": [
              "3.3333333333333335"
            ]
          },
          "metadata": {},
          "execution_count": 4
        }
      ]
    },
    {
      "cell_type": "code",
      "source": [
        "10 // 3"
      ],
      "metadata": {
        "id": "V5TOmX49ITkE",
        "colab": {
          "base_uri": "https://localhost:8080/"
        },
        "outputId": "a3a2c84f-e66f-422f-bdc9-4eab73c41c92"
      },
      "execution_count": null,
      "outputs": [
        {
          "output_type": "execute_result",
          "data": {
            "text/plain": [
              "3"
            ]
          },
          "metadata": {},
          "execution_count": 5
        }
      ]
    },
    {
      "cell_type": "code",
      "source": [
        "10.5 // 3"
      ],
      "metadata": {
        "id": "eDXQ97_tIUOI",
        "colab": {
          "base_uri": "https://localhost:8080/"
        },
        "outputId": "f5e54d94-8baf-48aa-a71d-38feb28d27df"
      },
      "execution_count": null,
      "outputs": [
        {
          "output_type": "execute_result",
          "data": {
            "text/plain": [
              "3.0"
            ]
          },
          "metadata": {},
          "execution_count": 6
        }
      ]
    },
    {
      "cell_type": "code",
      "source": [
        "10 ** 3"
      ],
      "metadata": {
        "id": "WtOtHSuSIcOs",
        "colab": {
          "base_uri": "https://localhost:8080/"
        },
        "outputId": "d367cd5d-a803-40d3-a32b-002807dad557"
      },
      "execution_count": null,
      "outputs": [
        {
          "output_type": "execute_result",
          "data": {
            "text/plain": [
              "1000"
            ]
          },
          "metadata": {},
          "execution_count": 7
        }
      ]
    },
    {
      "cell_type": "code",
      "source": [
        "1e3\n",
        "1e4\n",
        "1e4"
      ],
      "metadata": {
        "id": "Gd7mww5JIgVQ",
        "colab": {
          "base_uri": "https://localhost:8080/"
        },
        "outputId": "2257768a-f0b3-470d-b70a-f40e4852ee4e"
      },
      "execution_count": null,
      "outputs": [
        {
          "output_type": "execute_result",
          "data": {
            "text/plain": [
              "10000.0"
            ]
          },
          "metadata": {},
          "execution_count": 11
        }
      ]
    },
    {
      "cell_type": "code",
      "source": [
        "10 % 3"
      ],
      "metadata": {
        "id": "sJrr1ctIIhQz",
        "colab": {
          "base_uri": "https://localhost:8080/"
        },
        "outputId": "2551f2a1-2f4e-47cc-dfb6-ac17528d4759"
      },
      "execution_count": null,
      "outputs": [
        {
          "output_type": "execute_result",
          "data": {
            "text/plain": [
              "1"
            ]
          },
          "metadata": {},
          "execution_count": 12
        }
      ]
    },
    {
      "cell_type": "code",
      "source": [
        "1 + 2 * 5 ** 2"
      ],
      "metadata": {
        "id": "8Jz71HfdIjdl",
        "colab": {
          "base_uri": "https://localhost:8080/"
        },
        "outputId": "780b72b8-c463-48c6-8c0a-791fb782767d"
      },
      "execution_count": null,
      "outputs": [
        {
          "output_type": "execute_result",
          "data": {
            "text/plain": [
              "51"
            ]
          },
          "metadata": {},
          "execution_count": 10
        }
      ]
    },
    {
      "cell_type": "code",
      "source": [
        "# Try it your self"
      ],
      "metadata": {
        "id": "zRXg5wIRFUXA"
      },
      "execution_count": null,
      "outputs": []
    },
    {
      "cell_type": "code",
      "source": [],
      "metadata": {
        "id": "0IIVSsBZZ7bY"
      },
      "execution_count": null,
      "outputs": []
    },
    {
      "cell_type": "markdown",
      "source": [
        "# print"
      ],
      "metadata": {
        "id": "cBlNOy1sFHle"
      }
    },
    {
      "cell_type": "code",
      "execution_count": null,
      "metadata": {
        "id": "4y544ltDE6gW",
        "colab": {
          "base_uri": "https://localhost:8080/"
        },
        "outputId": "4a657dd2-843e-4e00-9a69-984a0e151eb7"
      },
      "outputs": [
        {
          "output_type": "stream",
          "name": "stdout",
          "text": [
            "สวัสดีครับ\n"
          ]
        }
      ],
      "source": [
        "print('สวัสดีครับ')"
      ]
    },
    {
      "cell_type": "code",
      "source": [
        "greeting = 'สวัสดีครับ คุณ'\n",
        "name = 'สมชาย'\n",
        "print(f'{greeting}{name}')"
      ],
      "metadata": {
        "id": "15oEkKoWFoel",
        "colab": {
          "base_uri": "https://localhost:8080/"
        },
        "outputId": "9e2a563e-1dcf-481a-ba17-126ea7ec09b1"
      },
      "execution_count": null,
      "outputs": [
        {
          "output_type": "stream",
          "name": "stdout",
          "text": [
            "สวัสดีครับ คุณสมชาย\n"
          ]
        }
      ]
    },
    {
      "cell_type": "code",
      "source": [
        "money = 123.44578\n",
        "print(f'ยอดเงินคงเหลือของท่านคือ {money:.2f}')"
      ],
      "metadata": {
        "id": "9WuCyud-F-1D",
        "colab": {
          "base_uri": "https://localhost:8080/"
        },
        "outputId": "42ca9efa-0154-42a9-cc20-38769f4609c4"
      },
      "execution_count": null,
      "outputs": [
        {
          "output_type": "stream",
          "name": "stdout",
          "text": [
            "ยอดเงินคงเหลือของท่านคือ 123.45\n"
          ]
        }
      ]
    },
    {
      "cell_type": "markdown",
      "source": [
        "# input"
      ],
      "metadata": {
        "id": "hwZBrYhHGltJ"
      }
    },
    {
      "cell_type": "code",
      "source": [
        "name = input('กรุณาบอกชื่อของคุณ:')\n",
        "print(f'{greeting}{name}')"
      ],
      "metadata": {
        "colab": {
          "base_uri": "https://localhost:8080/"
        },
        "id": "bgBfTnvTGRSS",
        "outputId": "fba2b94a-2e47-49cb-e413-5aa41ca98c9a"
      },
      "execution_count": null,
      "outputs": [
        {
          "output_type": "stream",
          "name": "stdout",
          "text": [
            "กรุณาบอกชื่อของคุณ:ปริญญา\n",
            "สวัสดีครับ คุณปริญญา\n"
          ]
        }
      ]
    },
    {
      "cell_type": "code",
      "source": [
        "a = input('จำนวนแรก:')\n",
        "b = input('จำนวนที่สอง:')\n",
        "print(a + b)  # always str"
      ],
      "metadata": {
        "colab": {
          "base_uri": "https://localhost:8080/"
        },
        "id": "wNBEwC_vGwls",
        "outputId": "bbf99acf-dc94-437c-82c3-60d75fc1557c"
      },
      "execution_count": null,
      "outputs": [
        {
          "output_type": "stream",
          "name": "stdout",
          "text": [
            "จำนวนแรก:1\n",
            "จำนวนที่สอง:2\n",
            "12\n"
          ]
        }
      ]
    },
    {
      "cell_type": "code",
      "source": [
        "a = input('จำนวนแรก:')\n",
        "b = input('จำนวนที่สอง:')\n",
        "print(int(a) + int(b))"
      ],
      "metadata": {
        "colab": {
          "base_uri": "https://localhost:8080/"
        },
        "id": "xUCeIc9kHAYy",
        "outputId": "de642d6c-ae0f-4591-b283-5fc7517d8a93"
      },
      "execution_count": null,
      "outputs": [
        {
          "output_type": "stream",
          "name": "stdout",
          "text": [
            "จำนวนแรก:3\n",
            "จำนวนที่สอง:4\n",
            "7\n"
          ]
        }
      ]
    },
    {
      "cell_type": "markdown",
      "source": [
        "# **String**"
      ],
      "metadata": {
        "id": "yr5UqNY8XOJp"
      }
    },
    {
      "cell_type": "code",
      "source": [
        "# create a string using double quotes\n",
        "string1 = \"Python programming\"\n",
        "\n",
        "# create a string using single quotes\n",
        "string1 = 'Python programming'"
      ],
      "metadata": {
        "id": "d7-YxnLlXL7B"
      },
      "execution_count": null,
      "outputs": []
    },
    {
      "cell_type": "code",
      "source": [
        "# create string type variables\n",
        "\n",
        "name = \"Python\"\n",
        "print(name)\n",
        "\n",
        "message = \"I love Python.\"\n",
        "print(message)"
      ],
      "metadata": {
        "id": "r6vP_Dn6XYsZ"
      },
      "execution_count": null,
      "outputs": []
    },
    {
      "cell_type": "code",
      "source": [
        "greet = 'hello'\n",
        "\n",
        "# access 1st index element\n",
        "print(greet[1]) # \"e\""
      ],
      "metadata": {
        "colab": {
          "base_uri": "https://localhost:8080/"
        },
        "id": "tlQP8KhNXc6g",
        "outputId": "eae89d3c-24a0-407e-9bba-6f33895139a1"
      },
      "execution_count": null,
      "outputs": [
        {
          "output_type": "stream",
          "name": "stdout",
          "text": [
            "e\n"
          ]
        }
      ]
    },
    {
      "cell_type": "code",
      "source": [
        "greet = 'hello'\n",
        "\n",
        "# access 4th last element\n",
        "print(greet[-4]) # \"e\""
      ],
      "metadata": {
        "id": "GIaSoa7FXjVn"
      },
      "execution_count": null,
      "outputs": []
    },
    {
      "cell_type": "code",
      "source": [
        "message = 'Hola Amigos'\n",
        "message[0] = 'H'\n",
        "print(message)"
      ],
      "metadata": {
        "id": "H4DwId5AXvup"
      },
      "execution_count": null,
      "outputs": []
    },
    {
      "cell_type": "code",
      "source": [
        "message = 'Hola Amigos'\n",
        "\n",
        "# assign new string to message variable\n",
        "message = 'Hello Friends'\n",
        "\n",
        "prints(message); # prints \"Hello Friends\""
      ],
      "metadata": {
        "colab": {
          "base_uri": "https://localhost:8080/",
          "height": 200
        },
        "id": "d99tnFiJXzE4",
        "outputId": "b3f49340-9bb2-400c-d85c-7ec717d371ba"
      },
      "execution_count": null,
      "outputs": [
        {
          "output_type": "error",
          "ename": "NameError",
          "evalue": "ignored",
          "traceback": [
            "\u001b[0;31m---------------------------------------------------------------------------\u001b[0m",
            "\u001b[0;31mNameError\u001b[0m                                 Traceback (most recent call last)",
            "\u001b[0;32m<ipython-input-4-ac01be1f3f8a>\u001b[0m in \u001b[0;36m<module>\u001b[0;34m\u001b[0m\n\u001b[1;32m      4\u001b[0m \u001b[0mmessage\u001b[0m \u001b[0;34m=\u001b[0m \u001b[0;34m'Hello Friends'\u001b[0m\u001b[0;34m\u001b[0m\u001b[0;34m\u001b[0m\u001b[0m\n\u001b[1;32m      5\u001b[0m \u001b[0;34m\u001b[0m\u001b[0m\n\u001b[0;32m----> 6\u001b[0;31m \u001b[0mprints\u001b[0m\u001b[0;34m(\u001b[0m\u001b[0mmessage\u001b[0m\u001b[0;34m)\u001b[0m\u001b[0;34m;\u001b[0m \u001b[0;31m# prints \"Hello Friends\"\u001b[0m\u001b[0;34m\u001b[0m\u001b[0;34m\u001b[0m\u001b[0m\n\u001b[0m",
            "\u001b[0;31mNameError\u001b[0m: name 'prints' is not defined"
          ]
        }
      ]
    },
    {
      "cell_type": "code",
      "source": [],
      "metadata": {
        "id": "GHJ1gOP1X2G5"
      },
      "execution_count": null,
      "outputs": []
    },
    {
      "cell_type": "code",
      "source": [
        "# multiline string \n",
        "message = \"\"\"\n",
        "Never gonna give you up\n",
        "Never gonna let you down\n",
        "\"\"\"\n",
        "\n",
        "print(message)"
      ],
      "metadata": {
        "id": "FymqUyTwX5JY"
      },
      "execution_count": null,
      "outputs": []
    },
    {
      "cell_type": "code",
      "source": [],
      "metadata": {
        "id": "emm2dsABX6kq"
      },
      "execution_count": null,
      "outputs": []
    },
    {
      "cell_type": "markdown",
      "source": [
        "# **Python String Operations**"
      ],
      "metadata": {
        "id": "rWYevKq8X9MD"
      }
    },
    {
      "cell_type": "code",
      "source": [
        "str1 = \"Hello, world!\"\n",
        "str2 = \"I love Python.\"\n",
        "str3 = \"Hello, world!\"\n",
        "\n",
        "# compare str1 and str2\n",
        "print(str1 == str2)\n",
        "\n",
        "# compare str1 and str3\n",
        "print(str1 == str3)"
      ],
      "metadata": {
        "id": "dbbJclDnYAGz"
      },
      "execution_count": null,
      "outputs": []
    },
    {
      "cell_type": "markdown",
      "source": [
        "# **Join Two or More Strings**"
      ],
      "metadata": {
        "id": "K5iZxP9mYJd4"
      }
    },
    {
      "cell_type": "code",
      "source": [
        "greet = \"Hello, \"\n",
        "name = \"Jack\"\n",
        "\n",
        "# using + operator\n",
        "result = greet + name\n",
        "print(result)\n",
        "\n",
        "# Output: Hello, Jack"
      ],
      "metadata": {
        "id": "OGTCtSUBYM9n"
      },
      "execution_count": null,
      "outputs": []
    },
    {
      "cell_type": "code",
      "source": [
        "#The * operator multiplies two integer or floating-point values. \n",
        "#But when the * operator is used on one string value and one integer value, it becomes the string replication operator.\n",
        "# Enter a string multiplied by a number into the interactive shell to see this in action.\n",
        "'Alice' * 5"
      ],
      "metadata": {
        "colab": {
          "base_uri": "https://localhost:8080/",
          "height": 36
        },
        "id": "iZBxHTFUV88Y",
        "outputId": "f31d53fa-cbdb-4c53-eba4-7a0d8e428fc0"
      },
      "execution_count": null,
      "outputs": [
        {
          "output_type": "execute_result",
          "data": {
            "text/plain": [
              "'AliceAliceAliceAliceAlice'"
            ],
            "application/vnd.google.colaboratory.intrinsic+json": {
              "type": "string"
            }
          },
          "metadata": {},
          "execution_count": 1
        }
      ]
    },
    {
      "cell_type": "markdown",
      "source": [
        "# **Iterate Through a Python String**"
      ],
      "metadata": {
        "id": "a78H0GFCYZJX"
      }
    },
    {
      "cell_type": "code",
      "source": [
        "greet = 'Hello'\n",
        "\n",
        "# iterating through greet string\n",
        "for letter in greet:\n",
        "    print(letter)"
      ],
      "metadata": {
        "id": "Bq3VePVeYb0R"
      },
      "execution_count": null,
      "outputs": []
    },
    {
      "cell_type": "markdown",
      "source": [
        "# **Python String Length**\n",
        "In Python, we use the len() method to find the length of a string. For example,"
      ],
      "metadata": {
        "id": "7F6TJtqYYjAv"
      }
    },
    {
      "cell_type": "code",
      "source": [
        "greet = 'Hello'\n",
        "\n",
        "# count length of greet string\n",
        "print(len(greet))\n",
        "\n",
        "# Output: 5"
      ],
      "metadata": {
        "id": "TrhI4RnbYlhK"
      },
      "execution_count": null,
      "outputs": []
    },
    {
      "cell_type": "markdown",
      "source": [
        "# **String Membership Test**\n",
        "We can test if a substring exists within a string or not, using the keyword in."
      ],
      "metadata": {
        "id": "8X6tydoXYsz3"
      }
    },
    {
      "cell_type": "code",
      "source": [
        "print('a' in 'program') # True\n",
        "print('at' not in 'battle') #False"
      ],
      "metadata": {
        "id": "9sVNgsyHYv-J"
      },
      "execution_count": null,
      "outputs": []
    },
    {
      "cell_type": "code",
      "source": [],
      "metadata": {
        "id": "Cv-FGjKqY13f"
      },
      "execution_count": null,
      "outputs": []
    },
    {
      "cell_type": "markdown",
      "source": [
        "# **Escape Sequences in Python**\n",
        "The escape sequence is used to escape some of the characters present inside a string.\n",
        "\n",
        "Suppose we need to include both double quote and single quote inside a string,"
      ],
      "metadata": {
        "id": "0HutW1v6ZZwx"
      }
    },
    {
      "cell_type": "code",
      "source": [
        "example = \"He said, \"What's there?\"\"\n",
        "\n",
        "print(example) # throws error"
      ],
      "metadata": {
        "id": "i-Oj28UsZbzQ",
        "colab": {
          "base_uri": "https://localhost:8080/",
          "height": 130
        },
        "outputId": "56c448e1-8793-45b8-e328-2a0aac8c8698"
      },
      "execution_count": 1,
      "outputs": [
        {
          "output_type": "error",
          "ename": "SyntaxError",
          "evalue": "ignored",
          "traceback": [
            "\u001b[0;36m  File \u001b[0;32m\"<ipython-input-1-2fc0c518eba2>\"\u001b[0;36m, line \u001b[0;32m1\u001b[0m\n\u001b[0;31m    example = \"He said, \"What's there?\"\"\u001b[0m\n\u001b[0m                         ^\u001b[0m\n\u001b[0;31mSyntaxError\u001b[0m\u001b[0;31m:\u001b[0m invalid syntax\n"
          ]
        }
      ]
    }
  ]
}