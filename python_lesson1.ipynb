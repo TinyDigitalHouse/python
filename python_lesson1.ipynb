{
  "nbformat": 4,
  "nbformat_minor": 0,
  "metadata": {
    "colab": {
      "provenance": [],
      "authorship_tag": "ABX9TyP1Cu7vt1T3+y8nE8VzdUjF",
      "include_colab_link": true
    },
    "kernelspec": {
      "name": "python3",
      "display_name": "Python 3"
    },
    "language_info": {
      "name": "python"
    }
  },
  "cells": [
    {
      "cell_type": "markdown",
      "metadata": {
        "id": "view-in-github",
        "colab_type": "text"
      },
      "source": [
        "<a href=\"https://colab.research.google.com/github/TinyDigitalHouse/python/blob/main/python_lesson1.ipynb\" target=\"_parent\"><img src=\"https://colab.research.google.com/assets/colab-badge.svg\" alt=\"Open In Colab\"/></a>"
      ]
    },
    {
      "cell_type": "markdown",
      "source": [
        "# Anyone can code\n",
        "\n",
        "To be a coder you just need to learn a few basic rules and\n",
        "commands, and then you can start writing programs to\n",
        "suit your skills and interests. If you’re into science, for\n",
        "example, you could make an app that draws graphs from\n",
        "the results of your experiments. Or you could use your art\n",
        "skills to design an alien world for your own video game"
      ],
      "metadata": {
        "id": "vTvClLsWhYVa"
      }
    },
    {
      "cell_type": "code",
      "source": [
        "# Using numbers"
      ],
      "metadata": {
        "id": "A91UBi7YD_1J"
      },
      "execution_count": 6,
      "outputs": []
    },
    {
      "cell_type": "code",
      "source": [
        "# Symbol Meaning\n",
        "# +  add\n",
        "# –  subtract\n",
        "# *  multiply\n",
        "# /  divide\n",
        "\n",
        "\n",
        "\n"
      ],
      "metadata": {
        "id": "6zJKd2LIEan3"
      },
      "execution_count": null,
      "outputs": []
    },
    {
      "cell_type": "code",
      "source": [],
      "metadata": {
        "id": "frrh1oyPFDKX"
      },
      "execution_count": null,
      "outputs": []
    },
    {
      "cell_type": "markdown",
      "source": [
        "# Basic Math Operations"
      ],
      "metadata": {
        "id": "82isI0TRIKNo"
      }
    },
    {
      "cell_type": "code",
      "source": [
        "10 + 3"
      ],
      "metadata": {
        "id": "rctnQmWoIF-i"
      },
      "execution_count": null,
      "outputs": []
    },
    {
      "cell_type": "code",
      "source": [
        "10 - 3"
      ],
      "metadata": {
        "id": "p9EO4RvxIRMb"
      },
      "execution_count": null,
      "outputs": []
    },
    {
      "cell_type": "code",
      "source": [
        "10 * 3"
      ],
      "metadata": {
        "id": "mMzX33Y2ISV4"
      },
      "execution_count": null,
      "outputs": []
    },
    {
      "cell_type": "code",
      "source": [
        "10 / 3"
      ],
      "metadata": {
        "id": "6khw2BE8IS9F"
      },
      "execution_count": null,
      "outputs": []
    },
    {
      "cell_type": "code",
      "source": [
        "10 // 3"
      ],
      "metadata": {
        "id": "V5TOmX49ITkE"
      },
      "execution_count": null,
      "outputs": []
    },
    {
      "cell_type": "code",
      "source": [
        "10.5 // 3"
      ],
      "metadata": {
        "id": "eDXQ97_tIUOI"
      },
      "execution_count": null,
      "outputs": []
    },
    {
      "cell_type": "code",
      "source": [
        "10 ** 3"
      ],
      "metadata": {
        "id": "WtOtHSuSIcOs"
      },
      "execution_count": null,
      "outputs": []
    },
    {
      "cell_type": "code",
      "source": [
        "1e3"
      ],
      "metadata": {
        "id": "Gd7mww5JIgVQ"
      },
      "execution_count": null,
      "outputs": []
    },
    {
      "cell_type": "code",
      "source": [
        "10 % 3"
      ],
      "metadata": {
        "id": "sJrr1ctIIhQz"
      },
      "execution_count": null,
      "outputs": []
    },
    {
      "cell_type": "code",
      "source": [
        "1 + 2 * 5 ** 2"
      ],
      "metadata": {
        "id": "8Jz71HfdIjdl"
      },
      "execution_count": null,
      "outputs": []
    },
    {
      "cell_type": "code",
      "source": [
        "# Try it your self"
      ],
      "metadata": {
        "id": "zRXg5wIRFUXA"
      },
      "execution_count": null,
      "outputs": []
    },
    {
      "cell_type": "code",
      "source": [],
      "metadata": {
        "id": "0IIVSsBZZ7bY"
      },
      "execution_count": null,
      "outputs": []
    },
    {
      "cell_type": "markdown",
      "source": [
        "# print"
      ],
      "metadata": {
        "id": "cBlNOy1sFHle"
      }
    },
    {
      "cell_type": "code",
      "execution_count": null,
      "metadata": {
        "id": "4y544ltDE6gW"
      },
      "outputs": [],
      "source": [
        "print('สวัสดีครับ')"
      ]
    },
    {
      "cell_type": "code",
      "source": [
        "greeting = 'สวัสดีครับ คุณ'\n",
        "name = 'สมชาย'\n",
        "print(f'{greeting}{name}')"
      ],
      "metadata": {
        "id": "15oEkKoWFoel"
      },
      "execution_count": null,
      "outputs": []
    },
    {
      "cell_type": "code",
      "source": [
        "money = 123.44578\n",
        "print(f'ยอดเงินคงเหลือของท่านคือ {money:.2f}')"
      ],
      "metadata": {
        "id": "9WuCyud-F-1D"
      },
      "execution_count": null,
      "outputs": []
    },
    {
      "cell_type": "markdown",
      "source": [
        "# input"
      ],
      "metadata": {
        "id": "hwZBrYhHGltJ"
      }
    },
    {
      "cell_type": "code",
      "source": [
        "name = input('กรุณาบอกชื่อของคุณ:')\n",
        "print(f'{greeting}{name}')"
      ],
      "metadata": {
        "colab": {
          "base_uri": "https://localhost:8080/"
        },
        "id": "bgBfTnvTGRSS",
        "outputId": "fba2b94a-2e47-49cb-e413-5aa41ca98c9a"
      },
      "execution_count": null,
      "outputs": [
        {
          "output_type": "stream",
          "name": "stdout",
          "text": [
            "กรุณาบอกชื่อของคุณ:ปริญญา\n",
            "สวัสดีครับ คุณปริญญา\n"
          ]
        }
      ]
    },
    {
      "cell_type": "code",
      "source": [
        "a = input('จำนวนแรก:')\n",
        "b = input('จำนวนที่สอง:')\n",
        "print(a + b)  # always str"
      ],
      "metadata": {
        "colab": {
          "base_uri": "https://localhost:8080/"
        },
        "id": "wNBEwC_vGwls",
        "outputId": "bbf99acf-dc94-437c-82c3-60d75fc1557c"
      },
      "execution_count": null,
      "outputs": [
        {
          "output_type": "stream",
          "name": "stdout",
          "text": [
            "จำนวนแรก:1\n",
            "จำนวนที่สอง:2\n",
            "12\n"
          ]
        }
      ]
    },
    {
      "cell_type": "code",
      "source": [
        "a = input('จำนวนแรก:')\n",
        "b = input('จำนวนที่สอง:')\n",
        "print(int(a) + int(b))"
      ],
      "metadata": {
        "colab": {
          "base_uri": "https://localhost:8080/"
        },
        "id": "xUCeIc9kHAYy",
        "outputId": "de642d6c-ae0f-4591-b283-5fc7517d8a93"
      },
      "execution_count": null,
      "outputs": [
        {
          "output_type": "stream",
          "name": "stdout",
          "text": [
            "จำนวนแรก:3\n",
            "จำนวนที่สอง:4\n",
            "7\n"
          ]
        }
      ]
    },
    {
      "cell_type": "markdown",
      "source": [
        "# **String**"
      ],
      "metadata": {
        "id": "yr5UqNY8XOJp"
      }
    },
    {
      "cell_type": "code",
      "source": [
        "# create a string using double quotes\n",
        "string1 = \"Python programming\"\n",
        "\n",
        "# create a string using single quotes\n",
        "string1 = 'Python programming'"
      ],
      "metadata": {
        "id": "d7-YxnLlXL7B"
      },
      "execution_count": null,
      "outputs": []
    },
    {
      "cell_type": "code",
      "source": [
        "# create string type variables\n",
        "\n",
        "name = \"Python\"\n",
        "print(name)\n",
        "\n",
        "message = \"I love Python.\"\n",
        "print(message)"
      ],
      "metadata": {
        "id": "r6vP_Dn6XYsZ"
      },
      "execution_count": null,
      "outputs": []
    },
    {
      "cell_type": "code",
      "source": [
        "greet = 'hello'\n",
        "\n",
        "# access 1st index element\n",
        "print(greet[1]) # \"e\""
      ],
      "metadata": {
        "colab": {
          "base_uri": "https://localhost:8080/"
        },
        "id": "tlQP8KhNXc6g",
        "outputId": "eae89d3c-24a0-407e-9bba-6f33895139a1"
      },
      "execution_count": null,
      "outputs": [
        {
          "output_type": "stream",
          "name": "stdout",
          "text": [
            "e\n"
          ]
        }
      ]
    },
    {
      "cell_type": "code",
      "source": [
        "greet = 'hello'\n",
        "\n",
        "# access 4th last element\n",
        "print(greet[-4]) # \"e\""
      ],
      "metadata": {
        "id": "GIaSoa7FXjVn"
      },
      "execution_count": null,
      "outputs": []
    },
    {
      "cell_type": "code",
      "source": [
        "message = 'Hola Amigos'\n",
        "message[0] = 'H'\n",
        "print(message)"
      ],
      "metadata": {
        "id": "H4DwId5AXvup"
      },
      "execution_count": null,
      "outputs": []
    },
    {
      "cell_type": "code",
      "source": [
        "message = 'Hola Amigos'\n",
        "\n",
        "# assign new string to message variable\n",
        "message = 'Hello Friends'\n",
        "\n",
        "prints(message); # prints \"Hello Friends\""
      ],
      "metadata": {
        "colab": {
          "base_uri": "https://localhost:8080/",
          "height": 200
        },
        "id": "d99tnFiJXzE4",
        "outputId": "b3f49340-9bb2-400c-d85c-7ec717d371ba"
      },
      "execution_count": null,
      "outputs": [
        {
          "output_type": "error",
          "ename": "NameError",
          "evalue": "ignored",
          "traceback": [
            "\u001b[0;31m---------------------------------------------------------------------------\u001b[0m",
            "\u001b[0;31mNameError\u001b[0m                                 Traceback (most recent call last)",
            "\u001b[0;32m<ipython-input-4-ac01be1f3f8a>\u001b[0m in \u001b[0;36m<module>\u001b[0;34m\u001b[0m\n\u001b[1;32m      4\u001b[0m \u001b[0mmessage\u001b[0m \u001b[0;34m=\u001b[0m \u001b[0;34m'Hello Friends'\u001b[0m\u001b[0;34m\u001b[0m\u001b[0;34m\u001b[0m\u001b[0m\n\u001b[1;32m      5\u001b[0m \u001b[0;34m\u001b[0m\u001b[0m\n\u001b[0;32m----> 6\u001b[0;31m \u001b[0mprints\u001b[0m\u001b[0;34m(\u001b[0m\u001b[0mmessage\u001b[0m\u001b[0;34m)\u001b[0m\u001b[0;34m;\u001b[0m \u001b[0;31m# prints \"Hello Friends\"\u001b[0m\u001b[0;34m\u001b[0m\u001b[0;34m\u001b[0m\u001b[0m\n\u001b[0m",
            "\u001b[0;31mNameError\u001b[0m: name 'prints' is not defined"
          ]
        }
      ]
    },
    {
      "cell_type": "code",
      "source": [],
      "metadata": {
        "id": "GHJ1gOP1X2G5"
      },
      "execution_count": null,
      "outputs": []
    },
    {
      "cell_type": "code",
      "source": [
        "# multiline string \n",
        "message = \"\"\"\n",
        "Never gonna give you up\n",
        "Never gonna let you down\n",
        "\"\"\"\n",
        "\n",
        "print(message)"
      ],
      "metadata": {
        "id": "FymqUyTwX5JY"
      },
      "execution_count": null,
      "outputs": []
    },
    {
      "cell_type": "code",
      "source": [],
      "metadata": {
        "id": "emm2dsABX6kq"
      },
      "execution_count": null,
      "outputs": []
    },
    {
      "cell_type": "markdown",
      "source": [
        "# **Python String Operations**"
      ],
      "metadata": {
        "id": "rWYevKq8X9MD"
      }
    },
    {
      "cell_type": "code",
      "source": [
        "str1 = \"Hello, world!\"\n",
        "str2 = \"I love Python.\"\n",
        "str3 = \"Hello, world!\"\n",
        "\n",
        "# compare str1 and str2\n",
        "print(str1 == str2)\n",
        "\n",
        "# compare str1 and str3\n",
        "print(str1 == str3)"
      ],
      "metadata": {
        "id": "dbbJclDnYAGz"
      },
      "execution_count": null,
      "outputs": []
    },
    {
      "cell_type": "markdown",
      "source": [
        "# **Join Two or More Strings**"
      ],
      "metadata": {
        "id": "K5iZxP9mYJd4"
      }
    },
    {
      "cell_type": "code",
      "source": [
        "greet = \"Hello, \"\n",
        "name = \"Jack\"\n",
        "\n",
        "# using + operator\n",
        "result = greet + name\n",
        "print(result)\n",
        "\n",
        "# Output: Hello, Jack"
      ],
      "metadata": {
        "id": "OGTCtSUBYM9n"
      },
      "execution_count": null,
      "outputs": []
    },
    {
      "cell_type": "markdown",
      "source": [
        "# **Iterate Through a Python String**"
      ],
      "metadata": {
        "id": "a78H0GFCYZJX"
      }
    },
    {
      "cell_type": "code",
      "source": [
        "greet = 'Hello'\n",
        "\n",
        "# iterating through greet string\n",
        "for letter in greet:\n",
        "    print(letter)"
      ],
      "metadata": {
        "id": "Bq3VePVeYb0R"
      },
      "execution_count": null,
      "outputs": []
    },
    {
      "cell_type": "markdown",
      "source": [
        "# **Python String Length**\n",
        "In Python, we use the len() method to find the length of a string. For example,"
      ],
      "metadata": {
        "id": "7F6TJtqYYjAv"
      }
    },
    {
      "cell_type": "code",
      "source": [
        "greet = 'Hello'\n",
        "\n",
        "# count length of greet string\n",
        "print(len(greet))\n",
        "\n",
        "# Output: 5"
      ],
      "metadata": {
        "id": "TrhI4RnbYlhK"
      },
      "execution_count": null,
      "outputs": []
    },
    {
      "cell_type": "markdown",
      "source": [
        "# **String Membership Test**\n",
        "We can test if a substring exists within a string or not, using the keyword in."
      ],
      "metadata": {
        "id": "8X6tydoXYsz3"
      }
    },
    {
      "cell_type": "code",
      "source": [
        "print('a' in 'program') # True\n",
        "print('at' not in 'battle') #False"
      ],
      "metadata": {
        "id": "9sVNgsyHYv-J"
      },
      "execution_count": null,
      "outputs": []
    },
    {
      "cell_type": "code",
      "source": [],
      "metadata": {
        "id": "Cv-FGjKqY13f"
      },
      "execution_count": null,
      "outputs": []
    },
    {
      "cell_type": "markdown",
      "source": [
        "# **Escape Sequences in Python**\n",
        "The escape sequence is used to escape some of the characters present inside a string.\n",
        "\n",
        "Suppose we need to include both double quote and single quote inside a string,"
      ],
      "metadata": {
        "id": "0HutW1v6ZZwx"
      }
    },
    {
      "cell_type": "code",
      "source": [
        "example = \"He said, \"What's there?\"\"\n",
        "\n",
        "print(example) # throws error"
      ],
      "metadata": {
        "id": "i-Oj28UsZbzQ"
      },
      "execution_count": null,
      "outputs": []
    }
  ]
}