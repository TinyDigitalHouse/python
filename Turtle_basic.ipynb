{
  "nbformat": 4,
  "nbformat_minor": 0,
  "metadata": {
    "colab": {
      "provenance": [],
      "authorship_tag": "ABX9TyML1DKf3v+UNKT568vsFuiH",
      "include_colab_link": true
    },
    "kernelspec": {
      "name": "python3",
      "display_name": "Python 3"
    },
    "language_info": {
      "name": "python"
    }
  },
  "cells": [
    {
      "cell_type": "markdown",
      "metadata": {
        "id": "view-in-github",
        "colab_type": "text"
      },
      "source": [
        "<a href=\"https://colab.research.google.com/github/TinyDigitalHouse/python/blob/main/Turtle_basic.ipynb\" target=\"_parent\"><img src=\"https://colab.research.google.com/assets/colab-badge.svg\" alt=\"Open In Colab\"/></a>"
      ]
    },
    {
      "cell_type": "markdown",
      "source": [
        "# Documentation for ColabTurtlePlus version 1.5 (non-classes)\n",
        "[The most recent version is 2.0.1 at PyPI. See the documentation for that version.]"
      ],
      "metadata": {
        "id": "ElRwZoSo1cs6"
      }
    },
    {
      "cell_type": "code",
      "execution_count": 1,
      "metadata": {
        "colab": {
          "base_uri": "https://localhost:8080/"
        },
        "id": "fvPlWCu-zXq1",
        "outputId": "f0053d86-0741-4801-a8a9-651adf12eafc"
      },
      "outputs": [
        {
          "output_type": "stream",
          "name": "stdout",
          "text": [
            "Looking in indexes: https://pypi.org/simple, https://us-python.pkg.dev/colab-wheels/public/simple/\n",
            "Collecting ColabTurtlePlus\n",
            "  Downloading ColabTurtlePlus-2.0.1-py3-none-any.whl (31 kB)\n",
            "Installing collected packages: ColabTurtlePlus\n",
            "Successfully installed ColabTurtlePlus-2.0.1\n"
          ]
        }
      ],
      "source": [
        "!pip install ColabTurtlePlus #Run the code cell to install the library."
      ]
    },
    {
      "cell_type": "code",
      "source": [
        "import ColabTurtlePlus.Turtle as turtle #import the package using either "
      ],
      "metadata": {
        "id": "UpO3K_JnzoQK",
        "outputId": "4663a9e5-78e1-401d-f5ba-03c6b830e6ee",
        "colab": {
          "base_uri": "https://localhost:8080/"
        }
      },
      "execution_count": 2,
      "outputs": [
        {
          "output_type": "stream",
          "name": "stdout",
          "text": [
            "Put clearscreen() as the first line in a cell (after the import command) to re-run turtle commands in the cell\n"
          ]
        }
      ]
    },
    {
      "cell_type": "markdown",
      "source": [
        "where turtle (or other name) is the name of the turtle. As Colab stores the declared variables in the runtime, call this before using"
      ],
      "metadata": {
        "id": "RRfIITJb2CEy"
      }
    },
    {
      "cell_type": "code",
      "source": [
        "turtle.initializeTurtle()\n",
        "turtle.home()\n",
        "turtle.pencolor(\"green\")\n",
        "turtle.circle(120, 360)\n"
      ],
      "metadata": {
        "id": "0NNP--9Nz-Ay"
      },
      "execution_count": null,
      "outputs": []
    },
    {
      "cell_type": "code",
      "source": [
        "t = turtle.Turtle()"
      ],
      "metadata": {
        "id": "3mUViekPt7sA",
        "outputId": "1e705180-2c11-4a2d-ea67-8ad95786e4df",
        "colab": {
          "base_uri": "https://localhost:8080/",
          "height": 621
        }
      },
      "execution_count": 3,
      "outputs": [
        {
          "output_type": "display_data",
          "data": {
            "text/plain": [
              "<IPython.core.display.HTML object>"
            ],
            "text/html": [
              "\n",
              "      <svg width=\"800\" height=\"600\">  \n",
              "        <rect width=\"100%\" height=\"100%\" style=\"fill:white;stroke:;stroke-width:1\"/>\n",
              "        \n",
              "        \n",
              "        \n",
              "        \n",
              "        \n",
              "        <g id=\"classic\" visibility=\"visible\" transform=\"rotate(-90,400.0,300.0) translate(400.0, 300.0)\">\n",
              "<polygon points=\"-5,-4.5 0,-2.5 5,-4.5 0,4.5\" transform=\"skewX(0) scale(1,1)\" style=\"stroke:black;fill:black;stroke-width:1\" />\n",
              "</g>\n",
              "      </svg>\n",
              "    "
            ]
          },
          "metadata": {}
        }
      ]
    },
    {
      "cell_type": "markdown",
      "source": [
        "# Turtle Motion"
      ],
      "metadata": {
        "id": "8NMcLchF2Rd0"
      }
    },
    {
      "cell_type": "markdown",
      "source": [
        "forward(units) | fd(units) -> Moves the turtle in the direction it is facing, by units pixels"
      ],
      "metadata": {
        "id": "2gFFkt8o2YCZ"
      }
    },
    {
      "cell_type": "code",
      "source": [
        "turtle.initializeTurtle()\n",
        "turtle.forward(100)"
      ],
      "metadata": {
        "colab": {
          "base_uri": "https://localhost:8080/",
          "height": 622
        },
        "id": "pjQNuG_s2Tnw",
        "outputId": "a9ba7618-673d-4101-f743-ba201bdb4229"
      },
      "execution_count": null,
      "outputs": [
        {
          "output_type": "display_data",
          "data": {
            "text/plain": [
              "<IPython.core.display.HTML object>"
            ],
            "text/html": [
              "\n",
              "      <svg width=\"800\" height=\"600\">  \n",
              "        <rect width=\"100%\" height=\"100%\" style=\"fill:white;stroke:;stroke-width:1\"/>\n",
              "        \n",
              "        \n",
              "        <line x1=\"400.0\" y1=\"300.0\" x2=\"410.0\" y2=\"300.0\" stroke-linecap=\"round\" style=\"stroke:black;stroke-width:1\" /><line x1=\"410.0\" y1=\"300.0\" x2=\"420.0\" y2=\"300.0\" stroke-linecap=\"round\" style=\"stroke:black;stroke-width:1\" /><line x1=\"420.0\" y1=\"300.0\" x2=\"430.0\" y2=\"300.0\" stroke-linecap=\"round\" style=\"stroke:black;stroke-width:1\" /><line x1=\"430.0\" y1=\"300.0\" x2=\"440.0\" y2=\"300.0\" stroke-linecap=\"round\" style=\"stroke:black;stroke-width:1\" /><line x1=\"440.0\" y1=\"300.0\" x2=\"450.0\" y2=\"300.0\" stroke-linecap=\"round\" style=\"stroke:black;stroke-width:1\" /><line x1=\"450.0\" y1=\"300.0\" x2=\"460.0\" y2=\"300.0\" stroke-linecap=\"round\" style=\"stroke:black;stroke-width:1\" /><line x1=\"460.0\" y1=\"300.0\" x2=\"470.0\" y2=\"300.0\" stroke-linecap=\"round\" style=\"stroke:black;stroke-width:1\" /><line x1=\"470.0\" y1=\"300.0\" x2=\"480.0\" y2=\"300.0\" stroke-linecap=\"round\" style=\"stroke:black;stroke-width:1\" /><line x1=\"480.0\" y1=\"300.0\" x2=\"490.0\" y2=\"300.0\" stroke-linecap=\"round\" style=\"stroke:black;stroke-width:1\" /><line x1=\"490.0\" y1=\"300.0\" x2=\"500.0\" y2=\"300.0\" stroke-linecap=\"round\" style=\"stroke:black;stroke-width:1\" />\n",
              "        \n",
              "        \n",
              "        <g id=\"classic\" visibility=\"visible\" transform=\"rotate(-90,500.0,300.0) translate(500.0, 300.0)\">\n",
              "<polygon points=\"-5,-4.5 0,-2.5 5,-4.5 0,4.5\" transform=\"skewX(0) scale(1,1)\" style=\"stroke:black;fill:black;stroke-width:1\" />\n",
              "</g>\n",
              "      </svg>\n",
              "    "
            ]
          },
          "metadata": {}
        }
      ]
    },
    {
      "cell_type": "markdown",
      "source": [
        "backward(units) | bk(units) | back(units) -> Moves the turtle in the opposite of the direction it is facing, by units pixels"
      ],
      "metadata": {
        "id": "t57IjT434bpC"
      }
    },
    {
      "cell_type": "code",
      "source": [
        "turtle.backward(100)"
      ],
      "metadata": {
        "colab": {
          "base_uri": "https://localhost:8080/",
          "height": 622
        },
        "id": "c2z19PAU4a4H",
        "outputId": "ceb731b1-3276-43f6-a4a3-663c7cfd7bc4"
      },
      "execution_count": null,
      "outputs": [
        {
          "output_type": "display_data",
          "data": {
            "text/plain": [
              "<IPython.core.display.HTML object>"
            ],
            "text/html": [
              "\n",
              "      <svg width=\"800\" height=\"600\">  \n",
              "        <rect width=\"100%\" height=\"100%\" style=\"fill:white;stroke:;stroke-width:1\"/>\n",
              "        \n",
              "        \n",
              "        <line x1=\"400.0\" y1=\"300.0\" x2=\"500.0\" y2=\"300.0\" stroke-linecap=\"round\" style=\"stroke:black;stroke-width:1\" /><line x1=\"500.0\" y1=\"300.0\" x2=\"490.0\" y2=\"300.0\" stroke-linecap=\"round\" style=\"stroke:black;stroke-width:1\" /><line x1=\"490.0\" y1=\"300.0\" x2=\"480.0\" y2=\"300.0\" stroke-linecap=\"round\" style=\"stroke:black;stroke-width:1\" /><line x1=\"480.0\" y1=\"300.0\" x2=\"470.0\" y2=\"300.0\" stroke-linecap=\"round\" style=\"stroke:black;stroke-width:1\" /><line x1=\"470.0\" y1=\"300.0\" x2=\"460.0\" y2=\"300.0\" stroke-linecap=\"round\" style=\"stroke:black;stroke-width:1\" /><line x1=\"460.0\" y1=\"300.0\" x2=\"450.0\" y2=\"300.0\" stroke-linecap=\"round\" style=\"stroke:black;stroke-width:1\" /><line x1=\"450.0\" y1=\"300.0\" x2=\"440.0\" y2=\"300.0\" stroke-linecap=\"round\" style=\"stroke:black;stroke-width:1\" /><line x1=\"440.0\" y1=\"300.0\" x2=\"430.0\" y2=\"300.0\" stroke-linecap=\"round\" style=\"stroke:black;stroke-width:1\" /><line x1=\"430.0\" y1=\"300.0\" x2=\"420.0\" y2=\"300.0\" stroke-linecap=\"round\" style=\"stroke:black;stroke-width:1\" /><line x1=\"420.0\" y1=\"300.0\" x2=\"410.0\" y2=\"300.0\" stroke-linecap=\"round\" style=\"stroke:black;stroke-width:1\" /><line x1=\"410.0\" y1=\"300.0\" x2=\"400.0\" y2=\"300.0\" stroke-linecap=\"round\" style=\"stroke:black;stroke-width:1\" />\n",
              "        \n",
              "        \n",
              "        <g id=\"classic\" visibility=\"visible\" transform=\"rotate(-90,400.0,300.0) translate(400.0, 300.0)\">\n",
              "<polygon points=\"-5,-4.5 0,-2.5 5,-4.5 0,4.5\" transform=\"skewX(0) scale(1,1)\" style=\"stroke:black;fill:black;stroke-width:1\" />\n",
              "</g>\n",
              "      </svg>\n",
              "    "
            ]
          },
          "metadata": {}
        }
      ]
    },
    {
      "cell_type": "markdown",
      "source": [
        "right(degrees) | rt(degrees) -> Turns the turtle to right by the given degrees\n",
        "\n",
        "left(degrees) | lt(degrees) -> Turns the turtle to left by the given degrees"
      ],
      "metadata": {
        "id": "rkrORrCO4yMk"
      }
    },
    {
      "cell_type": "code",
      "source": [
        "#turtle.rt(90)\n",
        "#turtle.fd(100)\n",
        "turtle.lt(90)\n",
        "turtle.fd(100)"
      ],
      "metadata": {
        "colab": {
          "base_uri": "https://localhost:8080/",
          "height": 622
        },
        "id": "Aa2CqPFX42h3",
        "outputId": "88f64481-98db-4137-a569-c82868ffad59"
      },
      "execution_count": null,
      "outputs": [
        {
          "output_type": "display_data",
          "data": {
            "text/plain": [
              "<IPython.core.display.HTML object>"
            ],
            "text/html": [
              "\n",
              "      <svg width=\"800\" height=\"600\">  \n",
              "        <rect width=\"100%\" height=\"100%\" style=\"fill:white;stroke:;stroke-width:1\"/>\n",
              "        \n",
              "        \n",
              "        <line x1=\"400.0\" y1=\"300.0\" x2=\"500.0\" y2=\"300.0\" stroke-linecap=\"round\" style=\"stroke:black;stroke-width:1\" /><line x1=\"500.0\" y1=\"300.0\" x2=\"400.0\" y2=\"300.0\" stroke-linecap=\"round\" style=\"stroke:black;stroke-width:1\" /><line x1=\"400.0\" y1=\"300.0\" x2=\"400.0\" y2=\"290.0\" stroke-linecap=\"round\" style=\"stroke:black;stroke-width:1\" /><line x1=\"400.0\" y1=\"290.0\" x2=\"400.0\" y2=\"280.0\" stroke-linecap=\"round\" style=\"stroke:black;stroke-width:1\" /><line x1=\"400.0\" y1=\"280.0\" x2=\"400.0\" y2=\"270.0\" stroke-linecap=\"round\" style=\"stroke:black;stroke-width:1\" /><line x1=\"400.0\" y1=\"270.0\" x2=\"400.0\" y2=\"260.0\" stroke-linecap=\"round\" style=\"stroke:black;stroke-width:1\" /><line x1=\"400.0\" y1=\"260.0\" x2=\"400.0\" y2=\"250.0\" stroke-linecap=\"round\" style=\"stroke:black;stroke-width:1\" /><line x1=\"400.0\" y1=\"250.0\" x2=\"400.0\" y2=\"240.0\" stroke-linecap=\"round\" style=\"stroke:black;stroke-width:1\" /><line x1=\"400.0\" y1=\"240.0\" x2=\"400.0\" y2=\"230.0\" stroke-linecap=\"round\" style=\"stroke:black;stroke-width:1\" /><line x1=\"400.0\" y1=\"230.0\" x2=\"400.0\" y2=\"220.0\" stroke-linecap=\"round\" style=\"stroke:black;stroke-width:1\" /><line x1=\"400.0\" y1=\"220.0\" x2=\"400.0\" y2=\"210.0\" stroke-linecap=\"round\" style=\"stroke:black;stroke-width:1\" /><line x1=\"400.0\" y1=\"210.0\" x2=\"400.0\" y2=\"200.0\" stroke-linecap=\"round\" style=\"stroke:black;stroke-width:1\" />\n",
              "        \n",
              "        \n",
              "        <g id=\"classic\" visibility=\"visible\" transform=\"rotate(180,400.0,200.0) translate(400.0, 200.0)\">\n",
              "<polygon points=\"-5,-4.5 0,-2.5 5,-4.5 0,4.5\" transform=\"skewX(0) scale(1,1)\" style=\"stroke:black;fill:black;stroke-width:1\" />\n",
              "</g>\n",
              "      </svg>\n",
              "    "
            ]
          },
          "metadata": {}
        }
      ]
    },
    {
      "cell_type": "markdown",
      "source": [
        "goto(x,y) | setpos(x,y) | setposition(x,y)\n",
        "goto((x,y)) | setpos((x,y)) | setposition((x,y))\n",
        "\n",
        "Moves the turtle to the point defined by x,y. The coordinates can be given separately, or in a single tuple."
      ],
      "metadata": {
        "id": "oLU-mJJ9-Rca"
      }
    },
    {
      "cell_type": "code",
      "source": [],
      "metadata": {
        "id": "s6egUlGj-Szo"
      },
      "execution_count": null,
      "outputs": []
    },
    {
      "cell_type": "markdown",
      "source": [
        "home() -> Returns the turtle to the beginning position and angle.\n",
        "The turtle will continue drawing during this operation if the pen is down."
      ],
      "metadata": {
        "id": "z3krEDkE-e_7"
      }
    },
    {
      "cell_type": "code",
      "source": [],
      "metadata": {
        "id": "431s80Kx-iIj"
      },
      "execution_count": null,
      "outputs": []
    },
    {
      "cell_type": "code",
      "source": [
        "# Draw Rectangle"
      ],
      "metadata": {
        "id": "-qnEsU_J-l-z"
      },
      "execution_count": null,
      "outputs": []
    },
    {
      "cell_type": "code",
      "source": [
        "# Draw 2 rectangles"
      ],
      "metadata": {
        "id": "E34zhZP--u-J"
      },
      "execution_count": null,
      "outputs": []
    },
    {
      "cell_type": "markdown",
      "source": [
        "circle(radius, extent, steps)\n",
        "Draws a circle of radius radius covering an extent of extent degrees. If extent is not given, draws the complete circle"
      ],
      "metadata": {
        "id": "gze6gnvR_IN6"
      }
    },
    {
      "cell_type": "code",
      "source": [
        "turtle.circle(100)"
      ],
      "metadata": {
        "id": "OL0pgYxE_PZ6"
      },
      "execution_count": null,
      "outputs": []
    },
    {
      "cell_type": "markdown",
      "source": [
        "pendown() | pd()\n",
        "Puts the pen down, causing the turtle movements to start drawing again.\n",
        "\n",
        "penup() | pu() | up()\n",
        "Lifts the pen, turtles movement will not draw anything after this function is called.\n",
        "\n",
        "pensize(w) | width(w)\n",
        "Changes the width of the pen. If the parameter is omitted, returns the current pen width."
      ],
      "metadata": {
        "id": "IOKXu4irB8tv"
      }
    },
    {
      "cell_type": "code",
      "source": [],
      "metadata": {
        "id": "iLi_6nnFCCei"
      },
      "execution_count": null,
      "outputs": []
    },
    {
      "cell_type": "markdown",
      "source": [
        "#Square"
      ],
      "metadata": {
        "id": "zzw7rT4-tF0w"
      }
    },
    {
      "cell_type": "code",
      "source": [
        "t.reset()\n",
        "for x in range(1, 5):\n",
        "  t.forward(50)\n",
        "  t.left(90)"
      ],
      "metadata": {
        "id": "A8bqBFoStJ3n",
        "outputId": "e3ca9f46-db8f-4d2d-8c7b-cc436af56b24",
        "colab": {
          "base_uri": "https://localhost:8080/",
          "height": 621
        }
      },
      "execution_count": 4,
      "outputs": [
        {
          "output_type": "display_data",
          "data": {
            "text/plain": [
              "<IPython.core.display.HTML object>"
            ],
            "text/html": [
              "\n",
              "      <svg width=\"800\" height=\"600\">  \n",
              "        <rect width=\"100%\" height=\"100%\" style=\"fill:white;stroke:;stroke-width:1\"/>\n",
              "        \n",
              "        \n",
              "        <line x1=\"400.0\" y1=\"300.0\" x2=\"450.0\" y2=\"300.0\" stroke-linecap=\"round\" style=\"stroke:black;stroke-width:1\" /><line x1=\"450.0\" y1=\"300.0\" x2=\"450.0\" y2=\"250.0\" stroke-linecap=\"round\" style=\"stroke:black;stroke-width:1\" /><line x1=\"450.0\" y1=\"250.0\" x2=\"400.0\" y2=\"250.0\" stroke-linecap=\"round\" style=\"stroke:black;stroke-width:1\" /><line x1=\"400.0\" y1=\"250.0\" x2=\"400.0\" y2=\"300.0\" stroke-linecap=\"round\" style=\"stroke:black;stroke-width:1\" />\n",
              "        \n",
              "        \n",
              "        <g id=\"classic\" visibility=\"visible\" transform=\"rotate(0,400.0,300.0) translate(400.0, 300.0)\">\n",
              "<polygon points=\"-5,-4.5 0,-2.5 5,-4.5 0,4.5\" transform=\"skewX(0) scale(1,1)\" style=\"stroke:black;fill:black;stroke-width:1\" />\n",
              "<animateTransform id = \"one\" attributeName=\"transform\" \n",
              "                      type=\"scale\"\n",
              "                      from=\"1 1\" to=\"1 1\"\n",
              "                      begin=\"0s\" dur=\"0.01s\"\n",
              "                      repeatCount=\"1\"\n",
              "                      additive=\"sum\"\n",
              "                      fill=\"freeze\"\n",
              "                /><animateTransform attributeName=\"transform\"\n",
              "                    type=\"rotate\"\n",
              "                    from=\"0 0 0\" to =\"-90 0 0\"\n",
              "                    begin=\"one.end\" dur=\"0.25s\"\n",
              "                    repeatCount=\"1\"\n",
              "                    additive=\"sum\"\n",
              "                    fill=\"freeze\"\n",
              "                /></g>\n",
              "      </svg>\n",
              "    "
            ]
          },
          "metadata": {}
        }
      ]
    },
    {
      "cell_type": "markdown",
      "source": [
        "#Drawing Star"
      ],
      "metadata": {
        "id": "Er0t7-uduJCr"
      }
    },
    {
      "cell_type": "code",
      "source": [
        "t.reset()\n",
        "for x in range(1, 9):\n",
        "  t.forward(100)\n",
        "  t.left(225)"
      ],
      "metadata": {
        "id": "Fc3WGUCcuL2_",
        "outputId": "b13e9194-be94-4567-b11f-18d5ccca3e9b",
        "colab": {
          "base_uri": "https://localhost:8080/",
          "height": 621
        }
      },
      "execution_count": 5,
      "outputs": [
        {
          "output_type": "display_data",
          "data": {
            "text/plain": [
              "<IPython.core.display.HTML object>"
            ],
            "text/html": [
              "\n",
              "      <svg width=\"800\" height=\"600\">  \n",
              "        <rect width=\"100%\" height=\"100%\" style=\"fill:white;stroke:;stroke-width:1\"/>\n",
              "        \n",
              "        \n",
              "        <line x1=\"400.0\" y1=\"300.0\" x2=\"500.0\" y2=\"300.0\" stroke-linecap=\"round\" style=\"stroke:black;stroke-width:1\" /><line x1=\"500.0\" y1=\"300.0\" x2=\"429.289\" y2=\"370.711\" stroke-linecap=\"round\" style=\"stroke:black;stroke-width:1\" /><line x1=\"429.289\" y1=\"370.711\" x2=\"429.289\" y2=\"270.711\" stroke-linecap=\"round\" style=\"stroke:black;stroke-width:1\" /><line x1=\"429.289\" y1=\"270.711\" x2=\"500.0\" y2=\"341.422\" stroke-linecap=\"round\" style=\"stroke:black;stroke-width:1\" /><line x1=\"500.0\" y1=\"341.422\" x2=\"400.0\" y2=\"341.422\" stroke-linecap=\"round\" style=\"stroke:black;stroke-width:1\" /><line x1=\"400.0\" y1=\"341.422\" x2=\"470.711\" y2=\"270.711\" stroke-linecap=\"round\" style=\"stroke:black;stroke-width:1\" /><line x1=\"470.711\" y1=\"270.711\" x2=\"470.711\" y2=\"370.711\" stroke-linecap=\"round\" style=\"stroke:black;stroke-width:1\" /><line x1=\"470.711\" y1=\"370.711\" x2=\"400.0\" y2=\"300.0\" stroke-linecap=\"round\" style=\"stroke:black;stroke-width:1\" />\n",
              "        \n",
              "        \n",
              "        <g id=\"classic\" visibility=\"visible\" transform=\"rotate(135,400.0,300.0) translate(400.0, 300.0)\">\n",
              "<polygon points=\"-5,-4.5 0,-2.5 5,-4.5 0,4.5\" transform=\"skewX(0) scale(1,1)\" style=\"stroke:black;fill:black;stroke-width:1\" />\n",
              "<animateTransform id = \"one\" attributeName=\"transform\" \n",
              "                      type=\"scale\"\n",
              "                      from=\"1 1\" to=\"1 1\"\n",
              "                      begin=\"0s\" dur=\"0.01s\"\n",
              "                      repeatCount=\"1\"\n",
              "                      additive=\"sum\"\n",
              "                      fill=\"freeze\"\n",
              "                /><animateTransform attributeName=\"transform\"\n",
              "                    type=\"rotate\"\n",
              "                    from=\"0 0 0\" to =\"-225 0 0\"\n",
              "                    begin=\"one.end\" dur=\"0.625s\"\n",
              "                    repeatCount=\"1\"\n",
              "                    additive=\"sum\"\n",
              "                    fill=\"freeze\"\n",
              "                /></g>\n",
              "      </svg>\n",
              "    "
            ]
          },
          "metadata": {}
        }
      ]
    },
    {
      "cell_type": "code",
      "source": [
        "t.reset()\n",
        "for x in range(100):\n",
        " t.forward(x)\n",
        " t.left(90)"
      ],
      "metadata": {
        "id": "N0BpnxjHIRXf",
        "outputId": "906176c8-c183-4127-c81a-711072d56152",
        "colab": {
          "base_uri": "https://localhost:8080/",
          "height": 621
        }
      },
      "execution_count": 9,
      "outputs": [
        {
          "output_type": "display_data",
          "data": {
            "text/plain": [
              "<IPython.core.display.HTML object>"
            ],
            "text/html": [
              "\n",
              "      <svg width=\"800\" height=\"600\">  \n",
              "        <rect width=\"100%\" height=\"100%\" style=\"fill:white;stroke:;stroke-width:1\"/>\n",
              "        \n",
              "        \n",
              "        <line x1=\"400.0\" y1=\"300.0\" x2=\"400.0\" y2=\"300.0\" stroke-linecap=\"round\" style=\"stroke:black;stroke-width:1\" /><line x1=\"400.0\" y1=\"300.0\" x2=\"400.0\" y2=\"299.0\" stroke-linecap=\"round\" style=\"stroke:black;stroke-width:1\" /><line x1=\"400.0\" y1=\"299.0\" x2=\"398.0\" y2=\"299.0\" stroke-linecap=\"round\" style=\"stroke:black;stroke-width:1\" /><line x1=\"398.0\" y1=\"299.0\" x2=\"398.0\" y2=\"302.0\" stroke-linecap=\"round\" style=\"stroke:black;stroke-width:1\" /><line x1=\"398.0\" y1=\"302.0\" x2=\"402.0\" y2=\"302.0\" stroke-linecap=\"round\" style=\"stroke:black;stroke-width:1\" /><line x1=\"402.0\" y1=\"302.0\" x2=\"402.0\" y2=\"297.0\" stroke-linecap=\"round\" style=\"stroke:black;stroke-width:1\" /><line x1=\"402.0\" y1=\"297.0\" x2=\"396.0\" y2=\"297.0\" stroke-linecap=\"round\" style=\"stroke:black;stroke-width:1\" /><line x1=\"396.0\" y1=\"297.0\" x2=\"396.0\" y2=\"304.0\" stroke-linecap=\"round\" style=\"stroke:black;stroke-width:1\" /><line x1=\"396.0\" y1=\"304.0\" x2=\"404.0\" y2=\"304.0\" stroke-linecap=\"round\" style=\"stroke:black;stroke-width:1\" /><line x1=\"404.0\" y1=\"304.0\" x2=\"404.0\" y2=\"295.0\" stroke-linecap=\"round\" style=\"stroke:black;stroke-width:1\" /><line x1=\"404.0\" y1=\"295.0\" x2=\"394.0\" y2=\"295.0\" stroke-linecap=\"round\" style=\"stroke:black;stroke-width:1\" /><line x1=\"394.0\" y1=\"295.0\" x2=\"394.0\" y2=\"306.0\" stroke-linecap=\"round\" style=\"stroke:black;stroke-width:1\" /><line x1=\"394.0\" y1=\"306.0\" x2=\"406.0\" y2=\"306.0\" stroke-linecap=\"round\" style=\"stroke:black;stroke-width:1\" /><line x1=\"406.0\" y1=\"306.0\" x2=\"406.0\" y2=\"293.0\" stroke-linecap=\"round\" style=\"stroke:black;stroke-width:1\" /><line x1=\"406.0\" y1=\"293.0\" x2=\"392.0\" y2=\"293.0\" stroke-linecap=\"round\" style=\"stroke:black;stroke-width:1\" /><line x1=\"392.0\" y1=\"293.0\" x2=\"392.0\" y2=\"308.0\" stroke-linecap=\"round\" style=\"stroke:black;stroke-width:1\" /><line x1=\"392.0\" y1=\"308.0\" x2=\"408.0\" y2=\"308.0\" stroke-linecap=\"round\" style=\"stroke:black;stroke-width:1\" /><line x1=\"408.0\" y1=\"308.0\" x2=\"408.0\" y2=\"291.0\" stroke-linecap=\"round\" style=\"stroke:black;stroke-width:1\" /><line x1=\"408.0\" y1=\"291.0\" x2=\"390.0\" y2=\"291.0\" stroke-linecap=\"round\" style=\"stroke:black;stroke-width:1\" /><line x1=\"390.0\" y1=\"291.0\" x2=\"390.0\" y2=\"310.0\" stroke-linecap=\"round\" style=\"stroke:black;stroke-width:1\" /><line x1=\"390.0\" y1=\"310.0\" x2=\"410.0\" y2=\"310.0\" stroke-linecap=\"round\" style=\"stroke:black;stroke-width:1\" /><line x1=\"410.0\" y1=\"310.0\" x2=\"410.0\" y2=\"289.0\" stroke-linecap=\"round\" style=\"stroke:black;stroke-width:1\" /><line x1=\"410.0\" y1=\"289.0\" x2=\"388.0\" y2=\"289.0\" stroke-linecap=\"round\" style=\"stroke:black;stroke-width:1\" /><line x1=\"388.0\" y1=\"289.0\" x2=\"388.0\" y2=\"312.0\" stroke-linecap=\"round\" style=\"stroke:black;stroke-width:1\" /><line x1=\"388.0\" y1=\"312.0\" x2=\"412.0\" y2=\"312.0\" stroke-linecap=\"round\" style=\"stroke:black;stroke-width:1\" /><line x1=\"412.0\" y1=\"312.0\" x2=\"412.0\" y2=\"287.0\" stroke-linecap=\"round\" style=\"stroke:black;stroke-width:1\" /><line x1=\"412.0\" y1=\"287.0\" x2=\"386.0\" y2=\"287.0\" stroke-linecap=\"round\" style=\"stroke:black;stroke-width:1\" /><line x1=\"386.0\" y1=\"287.0\" x2=\"386.0\" y2=\"314.0\" stroke-linecap=\"round\" style=\"stroke:black;stroke-width:1\" /><line x1=\"386.0\" y1=\"314.0\" x2=\"414.0\" y2=\"314.0\" stroke-linecap=\"round\" style=\"stroke:black;stroke-width:1\" /><line x1=\"414.0\" y1=\"314.0\" x2=\"414.0\" y2=\"285.0\" stroke-linecap=\"round\" style=\"stroke:black;stroke-width:1\" /><line x1=\"414.0\" y1=\"285.0\" x2=\"384.0\" y2=\"285.0\" stroke-linecap=\"round\" style=\"stroke:black;stroke-width:1\" /><line x1=\"384.0\" y1=\"285.0\" x2=\"384.0\" y2=\"316.0\" stroke-linecap=\"round\" style=\"stroke:black;stroke-width:1\" /><line x1=\"384.0\" y1=\"316.0\" x2=\"416.0\" y2=\"316.0\" stroke-linecap=\"round\" style=\"stroke:black;stroke-width:1\" /><line x1=\"416.0\" y1=\"316.0\" x2=\"416.0\" y2=\"283.0\" stroke-linecap=\"round\" style=\"stroke:black;stroke-width:1\" /><line x1=\"416.0\" y1=\"283.0\" x2=\"382.0\" y2=\"283.0\" stroke-linecap=\"round\" style=\"stroke:black;stroke-width:1\" /><line x1=\"382.0\" y1=\"283.0\" x2=\"382.0\" y2=\"318.0\" stroke-linecap=\"round\" style=\"stroke:black;stroke-width:1\" /><line x1=\"382.0\" y1=\"318.0\" x2=\"418.0\" y2=\"318.0\" stroke-linecap=\"round\" style=\"stroke:black;stroke-width:1\" /><line x1=\"418.0\" y1=\"318.0\" x2=\"418.0\" y2=\"281.0\" stroke-linecap=\"round\" style=\"stroke:black;stroke-width:1\" /><line x1=\"418.0\" y1=\"281.0\" x2=\"380.0\" y2=\"281.0\" stroke-linecap=\"round\" style=\"stroke:black;stroke-width:1\" /><line x1=\"380.0\" y1=\"281.0\" x2=\"380.0\" y2=\"320.0\" stroke-linecap=\"round\" style=\"stroke:black;stroke-width:1\" /><line x1=\"380.0\" y1=\"320.0\" x2=\"420.0\" y2=\"320.0\" stroke-linecap=\"round\" style=\"stroke:black;stroke-width:1\" /><line x1=\"420.0\" y1=\"320.0\" x2=\"420.0\" y2=\"279.0\" stroke-linecap=\"round\" style=\"stroke:black;stroke-width:1\" /><line x1=\"420.0\" y1=\"279.0\" x2=\"378.0\" y2=\"279.0\" stroke-linecap=\"round\" style=\"stroke:black;stroke-width:1\" /><line x1=\"378.0\" y1=\"279.0\" x2=\"378.0\" y2=\"322.0\" stroke-linecap=\"round\" style=\"stroke:black;stroke-width:1\" /><line x1=\"378.0\" y1=\"322.0\" x2=\"422.0\" y2=\"322.0\" stroke-linecap=\"round\" style=\"stroke:black;stroke-width:1\" /><line x1=\"422.0\" y1=\"322.0\" x2=\"422.0\" y2=\"277.0\" stroke-linecap=\"round\" style=\"stroke:black;stroke-width:1\" /><line x1=\"422.0\" y1=\"277.0\" x2=\"376.0\" y2=\"277.0\" stroke-linecap=\"round\" style=\"stroke:black;stroke-width:1\" /><line x1=\"376.0\" y1=\"277.0\" x2=\"376.0\" y2=\"324.0\" stroke-linecap=\"round\" style=\"stroke:black;stroke-width:1\" /><line x1=\"376.0\" y1=\"324.0\" x2=\"424.0\" y2=\"324.0\" stroke-linecap=\"round\" style=\"stroke:black;stroke-width:1\" /><line x1=\"424.0\" y1=\"324.0\" x2=\"424.0\" y2=\"275.0\" stroke-linecap=\"round\" style=\"stroke:black;stroke-width:1\" /><line x1=\"424.0\" y1=\"275.0\" x2=\"374.0\" y2=\"275.0\" stroke-linecap=\"round\" style=\"stroke:black;stroke-width:1\" /><line x1=\"374.0\" y1=\"275.0\" x2=\"374.0\" y2=\"326.0\" stroke-linecap=\"round\" style=\"stroke:black;stroke-width:1\" /><line x1=\"374.0\" y1=\"326.0\" x2=\"426.0\" y2=\"326.0\" stroke-linecap=\"round\" style=\"stroke:black;stroke-width:1\" /><line x1=\"426.0\" y1=\"326.0\" x2=\"426.0\" y2=\"273.0\" stroke-linecap=\"round\" style=\"stroke:black;stroke-width:1\" /><line x1=\"426.0\" y1=\"273.0\" x2=\"372.0\" y2=\"273.0\" stroke-linecap=\"round\" style=\"stroke:black;stroke-width:1\" /><line x1=\"372.0\" y1=\"273.0\" x2=\"372.0\" y2=\"328.0\" stroke-linecap=\"round\" style=\"stroke:black;stroke-width:1\" /><line x1=\"372.0\" y1=\"328.0\" x2=\"428.0\" y2=\"328.0\" stroke-linecap=\"round\" style=\"stroke:black;stroke-width:1\" /><line x1=\"428.0\" y1=\"328.0\" x2=\"428.0\" y2=\"271.0\" stroke-linecap=\"round\" style=\"stroke:black;stroke-width:1\" /><line x1=\"428.0\" y1=\"271.0\" x2=\"370.0\" y2=\"271.0\" stroke-linecap=\"round\" style=\"stroke:black;stroke-width:1\" /><line x1=\"370.0\" y1=\"271.0\" x2=\"370.0\" y2=\"330.0\" stroke-linecap=\"round\" style=\"stroke:black;stroke-width:1\" /><line x1=\"370.0\" y1=\"330.0\" x2=\"430.0\" y2=\"330.0\" stroke-linecap=\"round\" style=\"stroke:black;stroke-width:1\" /><line x1=\"430.0\" y1=\"330.0\" x2=\"430.0\" y2=\"269.0\" stroke-linecap=\"round\" style=\"stroke:black;stroke-width:1\" /><line x1=\"430.0\" y1=\"269.0\" x2=\"368.0\" y2=\"269.0\" stroke-linecap=\"round\" style=\"stroke:black;stroke-width:1\" /><line x1=\"368.0\" y1=\"269.0\" x2=\"368.0\" y2=\"332.0\" stroke-linecap=\"round\" style=\"stroke:black;stroke-width:1\" /><line x1=\"368.0\" y1=\"332.0\" x2=\"432.0\" y2=\"332.0\" stroke-linecap=\"round\" style=\"stroke:black;stroke-width:1\" /><line x1=\"432.0\" y1=\"332.0\" x2=\"432.0\" y2=\"267.0\" stroke-linecap=\"round\" style=\"stroke:black;stroke-width:1\" /><line x1=\"432.0\" y1=\"267.0\" x2=\"366.0\" y2=\"267.0\" stroke-linecap=\"round\" style=\"stroke:black;stroke-width:1\" /><line x1=\"366.0\" y1=\"267.0\" x2=\"366.0\" y2=\"334.0\" stroke-linecap=\"round\" style=\"stroke:black;stroke-width:1\" /><line x1=\"366.0\" y1=\"334.0\" x2=\"434.0\" y2=\"334.0\" stroke-linecap=\"round\" style=\"stroke:black;stroke-width:1\" /><line x1=\"434.0\" y1=\"334.0\" x2=\"434.0\" y2=\"265.0\" stroke-linecap=\"round\" style=\"stroke:black;stroke-width:1\" /><line x1=\"434.0\" y1=\"265.0\" x2=\"364.0\" y2=\"265.0\" stroke-linecap=\"round\" style=\"stroke:black;stroke-width:1\" /><line x1=\"364.0\" y1=\"265.0\" x2=\"364.0\" y2=\"336.0\" stroke-linecap=\"round\" style=\"stroke:black;stroke-width:1\" /><line x1=\"364.0\" y1=\"336.0\" x2=\"436.0\" y2=\"336.0\" stroke-linecap=\"round\" style=\"stroke:black;stroke-width:1\" /><line x1=\"436.0\" y1=\"336.0\" x2=\"436.0\" y2=\"263.0\" stroke-linecap=\"round\" style=\"stroke:black;stroke-width:1\" /><line x1=\"436.0\" y1=\"263.0\" x2=\"362.0\" y2=\"263.0\" stroke-linecap=\"round\" style=\"stroke:black;stroke-width:1\" /><line x1=\"362.0\" y1=\"263.0\" x2=\"362.0\" y2=\"338.0\" stroke-linecap=\"round\" style=\"stroke:black;stroke-width:1\" /><line x1=\"362.0\" y1=\"338.0\" x2=\"438.0\" y2=\"338.0\" stroke-linecap=\"round\" style=\"stroke:black;stroke-width:1\" /><line x1=\"438.0\" y1=\"338.0\" x2=\"438.0\" y2=\"261.0\" stroke-linecap=\"round\" style=\"stroke:black;stroke-width:1\" /><line x1=\"438.0\" y1=\"261.0\" x2=\"360.0\" y2=\"261.0\" stroke-linecap=\"round\" style=\"stroke:black;stroke-width:1\" /><line x1=\"360.0\" y1=\"261.0\" x2=\"360.0\" y2=\"340.0\" stroke-linecap=\"round\" style=\"stroke:black;stroke-width:1\" /><line x1=\"360.0\" y1=\"340.0\" x2=\"440.0\" y2=\"340.0\" stroke-linecap=\"round\" style=\"stroke:black;stroke-width:1\" /><line x1=\"440.0\" y1=\"340.0\" x2=\"440.0\" y2=\"259.0\" stroke-linecap=\"round\" style=\"stroke:black;stroke-width:1\" /><line x1=\"440.0\" y1=\"259.0\" x2=\"358.0\" y2=\"259.0\" stroke-linecap=\"round\" style=\"stroke:black;stroke-width:1\" /><line x1=\"358.0\" y1=\"259.0\" x2=\"358.0\" y2=\"342.0\" stroke-linecap=\"round\" style=\"stroke:black;stroke-width:1\" /><line x1=\"358.0\" y1=\"342.0\" x2=\"442.0\" y2=\"342.0\" stroke-linecap=\"round\" style=\"stroke:black;stroke-width:1\" /><line x1=\"442.0\" y1=\"342.0\" x2=\"442.0\" y2=\"257.0\" stroke-linecap=\"round\" style=\"stroke:black;stroke-width:1\" /><line x1=\"442.0\" y1=\"257.0\" x2=\"356.0\" y2=\"257.0\" stroke-linecap=\"round\" style=\"stroke:black;stroke-width:1\" /><line x1=\"356.0\" y1=\"257.0\" x2=\"356.0\" y2=\"344.0\" stroke-linecap=\"round\" style=\"stroke:black;stroke-width:1\" /><line x1=\"356.0\" y1=\"344.0\" x2=\"444.0\" y2=\"344.0\" stroke-linecap=\"round\" style=\"stroke:black;stroke-width:1\" /><line x1=\"444.0\" y1=\"344.0\" x2=\"444.0\" y2=\"255.0\" stroke-linecap=\"round\" style=\"stroke:black;stroke-width:1\" /><line x1=\"444.0\" y1=\"255.0\" x2=\"354.0\" y2=\"255.0\" stroke-linecap=\"round\" style=\"stroke:black;stroke-width:1\" /><line x1=\"354.0\" y1=\"255.0\" x2=\"354.0\" y2=\"346.0\" stroke-linecap=\"round\" style=\"stroke:black;stroke-width:1\" /><line x1=\"354.0\" y1=\"346.0\" x2=\"446.0\" y2=\"346.0\" stroke-linecap=\"round\" style=\"stroke:black;stroke-width:1\" /><line x1=\"446.0\" y1=\"346.0\" x2=\"446.0\" y2=\"253.0\" stroke-linecap=\"round\" style=\"stroke:black;stroke-width:1\" /><line x1=\"446.0\" y1=\"253.0\" x2=\"352.0\" y2=\"253.0\" stroke-linecap=\"round\" style=\"stroke:black;stroke-width:1\" /><line x1=\"352.0\" y1=\"253.0\" x2=\"352.0\" y2=\"348.0\" stroke-linecap=\"round\" style=\"stroke:black;stroke-width:1\" /><line x1=\"352.0\" y1=\"348.0\" x2=\"448.0\" y2=\"348.0\" stroke-linecap=\"round\" style=\"stroke:black;stroke-width:1\" /><line x1=\"448.0\" y1=\"348.0\" x2=\"448.0\" y2=\"251.0\" stroke-linecap=\"round\" style=\"stroke:black;stroke-width:1\" /><line x1=\"448.0\" y1=\"251.0\" x2=\"350.0\" y2=\"251.0\" stroke-linecap=\"round\" style=\"stroke:black;stroke-width:1\" /><line x1=\"350.0\" y1=\"251.0\" x2=\"350.0\" y2=\"350.0\" stroke-linecap=\"round\" style=\"stroke:black;stroke-width:1\" />\n",
              "        \n",
              "        \n",
              "        <g id=\"classic\" visibility=\"visible\" transform=\"rotate(0,350.0,350.0) translate(350.0, 350.0)\">\n",
              "<polygon points=\"-5,-4.5 0,-2.5 5,-4.5 0,4.5\" transform=\"skewX(0) scale(1,1)\" style=\"stroke:black;fill:black;stroke-width:1\" />\n",
              "<animateTransform id = \"one\" attributeName=\"transform\" \n",
              "                      type=\"scale\"\n",
              "                      from=\"1 1\" to=\"1 1\"\n",
              "                      begin=\"0s\" dur=\"0.01s\"\n",
              "                      repeatCount=\"1\"\n",
              "                      additive=\"sum\"\n",
              "                      fill=\"freeze\"\n",
              "                /><animateTransform attributeName=\"transform\"\n",
              "                    type=\"rotate\"\n",
              "                    from=\"0 0 0\" to =\"-90 0 0\"\n",
              "                    begin=\"one.end\" dur=\"0.05s\"\n",
              "                    repeatCount=\"1\"\n",
              "                    additive=\"sum\"\n",
              "                    fill=\"freeze\"\n",
              "                /></g>\n",
              "      </svg>\n",
              "    "
            ]
          },
          "metadata": {}
        }
      ]
    },
    {
      "cell_type": "code",
      "source": [
        "t.reset()\n",
        "for x in range(100):\n",
        "  t.forward(x)\n",
        "  t.left(91)"
      ],
      "metadata": {
        "id": "vSp0rqtgIxiI",
        "outputId": "095a3ab9-b64c-471c-a623-5eab14b80f5a",
        "colab": {
          "base_uri": "https://localhost:8080/",
          "height": 621
        }
      },
      "execution_count": 10,
      "outputs": [
        {
          "output_type": "display_data",
          "data": {
            "text/plain": [
              "<IPython.core.display.HTML object>"
            ],
            "text/html": [
              "\n",
              "      <svg width=\"800\" height=\"600\">  \n",
              "        <rect width=\"100%\" height=\"100%\" style=\"fill:white;stroke:;stroke-width:1\"/>\n",
              "        \n",
              "        \n",
              "        <line x1=\"400.0\" y1=\"300.0\" x2=\"400.0\" y2=\"300.0\" stroke-linecap=\"round\" style=\"stroke:black;stroke-width:1\" /><line x1=\"400.0\" y1=\"300.0\" x2=\"399.983\" y2=\"299.0\" stroke-linecap=\"round\" style=\"stroke:black;stroke-width:1\" /><line x1=\"399.983\" y1=\"299.0\" x2=\"397.984\" y2=\"299.07\" stroke-linecap=\"round\" style=\"stroke:black;stroke-width:1\" /><line x1=\"397.984\" y1=\"299.07\" x2=\"398.141\" y2=\"302.066\" stroke-linecap=\"round\" style=\"stroke:black;stroke-width:1\" /><line x1=\"398.141\" y1=\"302.066\" x2=\"402.131\" y2=\"301.787\" stroke-linecap=\"round\" style=\"stroke:black;stroke-width:1\" /><line x1=\"402.131\" y1=\"301.787\" x2=\"401.695\" y2=\"296.806\" stroke-linecap=\"round\" style=\"stroke:black;stroke-width:1\" /><line x1=\"401.695\" y1=\"296.806\" x2=\"395.728\" y2=\"297.433\" stroke-linecap=\"round\" style=\"stroke:black;stroke-width:1\" /><line x1=\"395.728\" y1=\"297.433\" x2=\"396.581\" y2=\"304.381\" stroke-linecap=\"round\" style=\"stroke:black;stroke-width:1\" /><line x1=\"396.581\" y1=\"304.381\" x2=\"404.503\" y2=\"303.268\" stroke-linecap=\"round\" style=\"stroke:black;stroke-width:1\" /><line x1=\"404.503\" y1=\"303.268\" x2=\"403.095\" y2=\"294.379\" stroke-linecap=\"round\" style=\"stroke:black;stroke-width:1\" /><line x1=\"403.095\" y1=\"294.379\" x2=\"393.247\" y2=\"296.115\" stroke-linecap=\"round\" style=\"stroke:black;stroke-width:1\" /><line x1=\"393.247\" y1=\"296.115\" x2=\"395.346\" y2=\"306.913\" stroke-linecap=\"round\" style=\"stroke:black;stroke-width:1\" /><line x1=\"395.346\" y1=\"306.913\" x2=\"407.084\" y2=\"304.418\" stroke-linecap=\"round\" style=\"stroke:black;stroke-width:1\" /><line x1=\"407.084\" y1=\"304.418\" x2=\"404.16\" y2=\"291.751\" stroke-linecap=\"round\" style=\"stroke:black;stroke-width:1\" /><line x1=\"404.16\" y1=\"291.751\" x2=\"390.576\" y2=\"295.138\" stroke-linecap=\"round\" style=\"stroke:black;stroke-width:1\" /><line x1=\"390.576\" y1=\"295.138\" x2=\"394.458\" y2=\"309.627\" stroke-linecap=\"round\" style=\"stroke:black;stroke-width:1\" /><line x1=\"394.458\" y1=\"309.627\" x2=\"409.838\" y2=\"305.217\" stroke-linecap=\"round\" style=\"stroke:black;stroke-width:1\" /><line x1=\"409.838\" y1=\"305.217\" x2=\"404.868\" y2=\"288.96\" stroke-linecap=\"round\" style=\"stroke:black;stroke-width:1\" /><line x1=\"404.868\" y1=\"288.96\" x2=\"387.749\" y2=\"294.522\" stroke-linecap=\"round\" style=\"stroke:black;stroke-width:1\" /><line x1=\"387.749\" y1=\"294.522\" x2=\"393.935\" y2=\"312.487\" stroke-linecap=\"round\" style=\"stroke:black;stroke-width:1\" /><line x1=\"393.935\" y1=\"312.487\" x2=\"412.729\" y2=\"305.647\" stroke-linecap=\"round\" style=\"stroke:black;stroke-width:1\" /><line x1=\"412.729\" y1=\"305.647\" x2=\"405.203\" y2=\"286.042\" stroke-linecap=\"round\" style=\"stroke:black;stroke-width:1\" /><line x1=\"405.203\" y1=\"286.042\" x2=\"384.805\" y2=\"294.283\" stroke-linecap=\"round\" style=\"stroke:black;stroke-width:1\" /><line x1=\"384.805\" y1=\"294.283\" x2=\"393.792\" y2=\"315.455\" stroke-linecap=\"round\" style=\"stroke:black;stroke-width:1\" /><line x1=\"393.792\" y1=\"315.455\" x2=\"415.717\" y2=\"305.693\" stroke-linecap=\"round\" style=\"stroke:black;stroke-width:1\" /><line x1=\"415.717\" y1=\"305.693\" x2=\"405.152\" y2=\"283.035\" stroke-linecap=\"round\" style=\"stroke:black;stroke-width:1\" /><line x1=\"405.152\" y1=\"283.035\" x2=\"381.783\" y2=\"294.433\" stroke-linecap=\"round\" style=\"stroke:black;stroke-width:1\" /><line x1=\"381.783\" y1=\"294.433\" x2=\"394.041\" y2=\"318.49\" stroke-linecap=\"round\" style=\"stroke:black;stroke-width:1\" /><line x1=\"394.041\" y1=\"318.49\" x2=\"418.764\" y2=\"305.345\" stroke-linecap=\"round\" style=\"stroke:black;stroke-width:1\" /><line x1=\"418.764\" y1=\"305.345\" x2=\"404.705\" y2=\"279.981\" stroke-linecap=\"round\" style=\"stroke:black;stroke-width:1\" /><line x1=\"404.705\" y1=\"279.981\" x2=\"378.724\" y2=\"294.981\" stroke-linecap=\"round\" style=\"stroke:black;stroke-width:1\" /><line x1=\"378.724\" y1=\"294.981\" x2=\"394.69\" y2=\"321.553\" stroke-linecap=\"round\" style=\"stroke:black;stroke-width:1\" /><line x1=\"394.69\" y1=\"321.553\" x2=\"421.828\" y2=\"304.596\" stroke-linecap=\"round\" style=\"stroke:black;stroke-width:1\" /><line x1=\"421.828\" y1=\"304.596\" x2=\"403.855\" y2=\"276.92\" stroke-linecap=\"round\" style=\"stroke:black;stroke-width:1\" /><line x1=\"403.855\" y1=\"276.92\" x2=\"375.668\" y2=\"295.933\" stroke-linecap=\"round\" style=\"stroke:black;stroke-width:1\" /><line x1=\"375.668\" y1=\"295.933\" x2=\"395.743\" y2=\"324.603\" stroke-linecap=\"round\" style=\"stroke:black;stroke-width:1\" /><line x1=\"395.743\" y1=\"324.603\" x2=\"424.868\" y2=\"303.443\" stroke-linecap=\"round\" style=\"stroke:black;stroke-width:1\" /><line x1=\"424.868\" y1=\"303.443\" x2=\"402.601\" y2=\"273.893\" stroke-linecap=\"round\" style=\"stroke:black;stroke-width:1\" /><line x1=\"402.601\" y1=\"273.893\" x2=\"372.657\" y2=\"297.288\" stroke-linecap=\"round\" style=\"stroke:black;stroke-width:1\" /><line x1=\"372.657\" y1=\"297.288\" x2=\"397.2\" y2=\"327.597\" stroke-linecap=\"round\" style=\"stroke:black;stroke-width:1\" /><line x1=\"397.2\" y1=\"327.597\" x2=\"427.842\" y2=\"301.885\" stroke-linecap=\"round\" style=\"stroke:black;stroke-width:1\" /><line x1=\"427.842\" y1=\"301.885\" x2=\"400.944\" y2=\"270.942\" stroke-linecap=\"round\" style=\"stroke:black;stroke-width:1\" /><line x1=\"400.944\" y1=\"270.942\" x2=\"369.732\" y2=\"299.045\" stroke-linecap=\"round\" style=\"stroke:black;stroke-width:1\" /><line x1=\"369.732\" y1=\"299.045\" x2=\"399.058\" y2=\"330.493\" stroke-linecap=\"round\" style=\"stroke:black;stroke-width:1\" /><line x1=\"399.058\" y1=\"330.493\" x2=\"430.709\" y2=\"299.928\" stroke-linecap=\"round\" style=\"stroke:black;stroke-width:1\" /><line x1=\"430.709\" y1=\"299.928\" x2=\"398.889\" y2=\"268.108\" stroke-linecap=\"round\" style=\"stroke:black;stroke-width:1\" /><line x1=\"398.889\" y1=\"268.108\" x2=\"366.935\" y2=\"301.198\" stroke-linecap=\"round\" style=\"stroke:black;stroke-width:1\" /><line x1=\"366.935\" y1=\"301.198\" x2=\"401.309\" y2=\"333.252\" stroke-linecap=\"round\" style=\"stroke:black;stroke-width:1\" /><line x1=\"401.309\" y1=\"333.252\" x2=\"433.427\" y2=\"297.581\" stroke-linecap=\"round\" style=\"stroke:black;stroke-width:1\" /><line x1=\"433.427\" y1=\"297.581\" x2=\"396.446\" y2=\"265.434\" stroke-linecap=\"round\" style=\"stroke:black;stroke-width:1\" /><line x1=\"396.446\" y1=\"265.434\" x2=\"364.307\" y2=\"303.736\" stroke-linecap=\"round\" style=\"stroke:black;stroke-width:1\" /><line x1=\"364.307\" y1=\"303.736\" x2=\"403.941\" y2=\"335.831\" stroke-linecap=\"round\" style=\"stroke:black;stroke-width:1\" /><line x1=\"403.941\" y1=\"335.831\" x2=\"435.955\" y2=\"294.854\" stroke-linecap=\"round\" style=\"stroke:black;stroke-width:1\" /><line x1=\"435.955\" y1=\"294.854\" x2=\"393.627\" y2=\"262.958\" stroke-linecap=\"round\" style=\"stroke:black;stroke-width:1\" /><line x1=\"393.627\" y1=\"262.958\" x2=\"361.887\" y2=\"306.645\" stroke-linecap=\"round\" style=\"stroke:black;stroke-width:1\" /><line x1=\"361.887\" y1=\"306.645\" x2=\"406.94\" y2=\"338.192\" stroke-linecap=\"round\" style=\"stroke:black;stroke-width:1\" /><line x1=\"406.94\" y1=\"338.192\" x2=\"438.255\" y2=\"291.766\" stroke-linecap=\"round\" style=\"stroke:black;stroke-width:1\" /><line x1=\"438.255\" y1=\"291.766\" x2=\"390.451\" y2=\"260.722\" stroke-linecap=\"round\" style=\"stroke:black;stroke-width:1\" /><line x1=\"390.451\" y1=\"260.722\" x2=\"359.716\" y2=\"309.909\" stroke-linecap=\"round\" style=\"stroke:black;stroke-width:1\" /><line x1=\"359.716\" y1=\"309.909\" x2=\"410.289\" y2=\"340.296\" stroke-linecap=\"round\" style=\"stroke:black;stroke-width:1\" /><line x1=\"410.289\" y1=\"340.296\" x2=\"440.289\" y2=\"288.334\" stroke-linecap=\"round\" style=\"stroke:black;stroke-width:1\" /><line x1=\"440.289\" y1=\"288.334\" x2=\"386.937\" y2=\"258.761\" stroke-linecap=\"round\" style=\"stroke:black;stroke-width:1\" /><line x1=\"386.937\" y1=\"258.761\" x2=\"357.83\" y2=\"313.504\" stroke-linecap=\"round\" style=\"stroke:black;stroke-width:1\" /><line x1=\"357.83\" y1=\"313.504\" x2=\"413.963\" y2=\"342.105\" stroke-linecap=\"round\" style=\"stroke:black;stroke-width:1\" /><line x1=\"413.963\" y1=\"342.105\" x2=\"442.019\" y2=\"284.582\" stroke-linecap=\"round\" style=\"stroke:black;stroke-width:1\" /><line x1=\"442.019\" y1=\"284.582\" x2=\"383.109\" y2=\"257.112\" stroke-linecap=\"round\" style=\"stroke:black;stroke-width:1\" /><line x1=\"383.109\" y1=\"257.112\" x2=\"356.264\" y2=\"317.406\" stroke-linecap=\"round\" style=\"stroke:black;stroke-width:1\" /><line x1=\"356.264\" y1=\"317.406\" x2=\"417.938\" y2=\"343.585\" stroke-linecap=\"round\" style=\"stroke:black;stroke-width:1\" /><line x1=\"417.938\" y1=\"343.585\" x2=\"443.411\" y2=\"280.536\" stroke-linecap=\"round\" style=\"stroke:black;stroke-width:1\" /><line x1=\"443.411\" y1=\"280.536\" x2=\"378.994\" y2=\"255.809\" stroke-linecap=\"round\" style=\"stroke:black;stroke-width:1\" /><line x1=\"378.994\" y1=\"255.809\" x2=\"355.053\" y2=\"321.587\" stroke-linecap=\"round\" style=\"stroke:black;stroke-width:1\" /><line x1=\"355.053\" y1=\"321.587\" x2=\"422.185\" y2=\"344.702\" stroke-linecap=\"round\" style=\"stroke:black;stroke-width:1\" /><line x1=\"422.185\" y1=\"344.702\" x2=\"444.434\" y2=\"276.226\" stroke-linecap=\"round\" style=\"stroke:black;stroke-width:1\" /><line x1=\"444.434\" y1=\"276.226\" x2=\"374.624\" y2=\"254.883\" stroke-linecap=\"round\" style=\"stroke:black;stroke-width:1\" /><line x1=\"374.624\" y1=\"254.883\" x2=\"354.227\" y2=\"326.016\" stroke-linecap=\"round\" style=\"stroke:black;stroke-width:1\" /><line x1=\"354.227\" y1=\"326.016\" x2=\"426.671\" y2=\"345.427\" stroke-linecap=\"round\" style=\"stroke:black;stroke-width:1\" /><line x1=\"426.671\" y1=\"345.427\" x2=\"445.057\" y2=\"271.685\" stroke-linecap=\"round\" style=\"stroke:black;stroke-width:1\" /><line x1=\"445.057\" y1=\"271.685\" x2=\"370.031\" y2=\"254.364\" stroke-linecap=\"round\" style=\"stroke:black;stroke-width:1\" /><line x1=\"370.031\" y1=\"254.364\" x2=\"353.814\" y2=\"330.66\" stroke-linecap=\"round\" style=\"stroke:black;stroke-width:1\" /><line x1=\"353.814\" y1=\"330.66\" x2=\"431.363\" y2=\"345.734\" stroke-linecap=\"round\" style=\"stroke:black;stroke-width:1\" /><line x1=\"431.363\" y1=\"345.734\" x2=\"445.255\" y2=\"266.949\" stroke-linecap=\"round\" style=\"stroke:black;stroke-width:1\" /><line x1=\"445.255\" y1=\"266.949\" x2=\"365.252\" y2=\"254.278\" stroke-linecap=\"round\" style=\"stroke:black;stroke-width:1\" /><line x1=\"365.252\" y1=\"254.278\" x2=\"353.84\" y2=\"335.48\" stroke-linecap=\"round\" style=\"stroke:black;stroke-width:1\" /><line x1=\"353.84\" y1=\"335.48\" x2=\"436.221\" y2=\"345.595\" stroke-linecap=\"round\" style=\"stroke:black;stroke-width:1\" /><line x1=\"436.221\" y1=\"345.595\" x2=\"445.001\" y2=\"262.055\" stroke-linecap=\"round\" style=\"stroke:black;stroke-width:1\" /><line x1=\"445.001\" y1=\"262.055\" x2=\"360.324\" y2=\"254.647\" stroke-linecap=\"round\" style=\"stroke:black;stroke-width:1\" /><line x1=\"360.324\" y1=\"254.647\" x2=\"354.325\" y2=\"340.438\" stroke-linecap=\"round\" style=\"stroke:black;stroke-width:1\" /><line x1=\"354.325\" y1=\"340.438\" x2=\"441.206\" y2=\"344.991\" stroke-linecap=\"round\" style=\"stroke:black;stroke-width:1\" /><line x1=\"441.206\" y1=\"344.991\" x2=\"444.277\" y2=\"257.045\" stroke-linecap=\"round\" style=\"stroke:black;stroke-width:1\" /><line x1=\"444.277\" y1=\"257.045\" x2=\"355.291\" y2=\"255.492\" stroke-linecap=\"round\" style=\"stroke:black;stroke-width:1\" /><line x1=\"355.291\" y1=\"255.492\" x2=\"355.291\" y2=\"345.492\" stroke-linecap=\"round\" style=\"stroke:black;stroke-width:1\" /><line x1=\"355.291\" y1=\"345.492\" x2=\"446.277\" y2=\"343.904\" stroke-linecap=\"round\" style=\"stroke:black;stroke-width:1\" /><line x1=\"446.277\" y1=\"343.904\" x2=\"443.066\" y2=\"251.96\" stroke-linecap=\"round\" style=\"stroke:black;stroke-width:1\" /><line x1=\"443.066\" y1=\"251.96\" x2=\"350.193\" y2=\"256.827\" stroke-linecap=\"round\" style=\"stroke:black;stroke-width:1\" /><line x1=\"350.193\" y1=\"256.827\" x2=\"356.75\" y2=\"350.598\" stroke-linecap=\"round\" style=\"stroke:black;stroke-width:1\" /><line x1=\"356.75\" y1=\"350.598\" x2=\"451.388\" y2=\"342.318\" stroke-linecap=\"round\" style=\"stroke:black;stroke-width:1\" /><line x1=\"451.388\" y1=\"342.318\" x2=\"441.353\" y2=\"246.844\" stroke-linecap=\"round\" style=\"stroke:black;stroke-width:1\" /><line x1=\"441.353\" y1=\"246.844\" x2=\"345.076\" y2=\"258.665\" stroke-linecap=\"round\" style=\"stroke:black;stroke-width:1\" /><line x1=\"345.076\" y1=\"258.665\" x2=\"358.715\" y2=\"355.711\" stroke-linecap=\"round\" style=\"stroke:black;stroke-width:1\" /><line x1=\"358.715\" y1=\"355.711\" x2=\"456.496\" y2=\"340.224\" stroke-linecap=\"round\" style=\"stroke:black;stroke-width:1\" />\n",
              "        \n",
              "        \n",
              "        <g id=\"classic\" visibility=\"visible\" transform=\"rotate(261,456.496,340.224) translate(456.496, 340.224)\">\n",
              "<polygon points=\"-5,-4.5 0,-2.5 5,-4.5 0,4.5\" transform=\"skewX(0) scale(1,1)\" style=\"stroke:black;fill:black;stroke-width:1\" />\n",
              "<animateTransform id = \"one\" attributeName=\"transform\" \n",
              "                      type=\"scale\"\n",
              "                      from=\"1 1\" to=\"1 1\"\n",
              "                      begin=\"0s\" dur=\"0.01s\"\n",
              "                      repeatCount=\"1\"\n",
              "                      additive=\"sum\"\n",
              "                      fill=\"freeze\"\n",
              "                /><animateTransform attributeName=\"transform\"\n",
              "                    type=\"rotate\"\n",
              "                    from=\"0 0 0\" to =\"-91 0 0\"\n",
              "                    begin=\"one.end\" dur=\"0.050555555555555555s\"\n",
              "                    repeatCount=\"1\"\n",
              "                    additive=\"sum\"\n",
              "                    fill=\"freeze\"\n",
              "                /></g>\n",
              "      </svg>\n",
              "    "
            ]
          },
          "metadata": {}
        }
      ]
    },
    {
      "cell_type": "code",
      "source": [
        "t.reset()\n",
        "for x in range(1,100):\n",
        "  t.circle(x)\n",
        "  t.left(91)"
      ],
      "metadata": {
        "id": "VqZU-62II86_",
        "outputId": "e52341a8-b8fe-48c5-f024-ee4a4caa0b59",
        "colab": {
          "base_uri": "https://localhost:8080/",
          "height": 621
        }
      },
      "execution_count": 12,
      "outputs": [
        {
          "output_type": "display_data",
          "data": {
            "text/plain": [
              "<IPython.core.display.HTML object>"
            ],
            "text/html": [
              "\n",
              "      <svg width=\"800\" height=\"600\">  \n",
              "        <rect width=\"100%\" height=\"100%\" style=\"fill:white;stroke:;stroke-width:1\"/>\n",
              "        \n",
              "        \n",
              "        <path d=\"M 400.0 300.0 A 1 1 0 0 0 400.0 298.0\" stroke-linecap=\"round\" \n",
              "            fill=\"transparent\" fill-opacity=\"0\" style=\"stroke:black;stroke-width:1\"/><path d=\"M 400.0 298.0 A 1 1 0 0 0 400.0 300.0\" stroke-linecap=\"round\" \n",
              "            fill=\"transparent\" fill-opacity=\"0\" style=\"stroke:black;stroke-width:1\"/><path d=\"M 400.0 300.0 A 2 2 0 0 0 396.001 300.07\" stroke-linecap=\"round\" \n",
              "            fill=\"transparent\" fill-opacity=\"0\" style=\"stroke:black;stroke-width:1\"/><path d=\"M 396.001 300.07 A 2 2 0 0 0 400.0 300.0\" stroke-linecap=\"round\" \n",
              "            fill=\"transparent\" fill-opacity=\"0\" style=\"stroke:black;stroke-width:1\"/><path d=\"M 400.0 300.0 A 3 3 0 0 0 400.209 305.996\" stroke-linecap=\"round\" \n",
              "            fill=\"transparent\" fill-opacity=\"0\" style=\"stroke:black;stroke-width:1\"/><path d=\"M 400.209 305.996 A 3 3 0 0 0 400.0 300.0\" stroke-linecap=\"round\" \n",
              "            fill=\"transparent\" fill-opacity=\"0\" style=\"stroke:black;stroke-width:1\"/><path d=\"M 400.0 300.0 A 4 4 0 0 0 407.989 299.581\" stroke-linecap=\"round\" \n",
              "            fill=\"transparent\" fill-opacity=\"0\" style=\"stroke:black;stroke-width:1\"/><path d=\"M 407.989 299.581 A 4 4 0 0 0 400.0 300.0\" stroke-linecap=\"round\" \n",
              "            fill=\"transparent\" fill-opacity=\"0\" style=\"stroke:black;stroke-width:1\"/><path d=\"M 400.0 300.0 A 5 5 0 0 0 399.302 290.024\" stroke-linecap=\"round\" \n",
              "            fill=\"transparent\" fill-opacity=\"0\" style=\"stroke:black;stroke-width:1\"/><path d=\"M 399.302 290.024 A 5 5 0 0 0 400.0 300.0\" stroke-linecap=\"round\" \n",
              "            fill=\"transparent\" fill-opacity=\"0\" style=\"stroke:black;stroke-width:1\"/><path d=\"M 400.0 300.0 A 6 6 0 0 0 388.046 301.046\" stroke-linecap=\"round\" \n",
              "            fill=\"transparent\" fill-opacity=\"0\" style=\"stroke:black;stroke-width:1\"/><path d=\"M 388.046 301.046 A 6 6 0 0 0 400.0 300.0\" stroke-linecap=\"round\" \n",
              "            fill=\"transparent\" fill-opacity=\"0\" style=\"stroke:black;stroke-width:1\"/><path d=\"M 400.0 300.0 A 7 7 0 0 0 401.463 313.923\" stroke-linecap=\"round\" \n",
              "            fill=\"transparent\" fill-opacity=\"0\" style=\"stroke:black;stroke-width:1\"/><path d=\"M 401.463 313.923 A 7 7 0 0 0 400.0 300.0\" stroke-linecap=\"round\" \n",
              "            fill=\"transparent\" fill-opacity=\"0\" style=\"stroke:black;stroke-width:1\"/><path d=\"M 400.0 300.0 A 8 8 0 0 0 415.881 298.05\" stroke-linecap=\"round\" \n",
              "            fill=\"transparent\" fill-opacity=\"0\" style=\"stroke:black;stroke-width:1\"/><path d=\"M 415.881 298.05 A 8 8 0 0 0 400.0 300.0\" stroke-linecap=\"round\" \n",
              "            fill=\"transparent\" fill-opacity=\"0\" style=\"stroke:black;stroke-width:1\"/><path d=\"M 400.0 300.0 A 9 9 0 0 0 397.495 282.175\" stroke-linecap=\"round\" \n",
              "            fill=\"transparent\" fill-opacity=\"0\" style=\"stroke:black;stroke-width:1\"/><path d=\"M 397.495 282.175 A 9 9 0 0 0 400.0 300.0\" stroke-linecap=\"round\" \n",
              "            fill=\"transparent\" fill-opacity=\"0\" style=\"stroke:black;stroke-width:1\"/><path d=\"M 400.0 300.0 A 10 10 0 0 0 380.246 303.129\" stroke-linecap=\"round\" \n",
              "            fill=\"transparent\" fill-opacity=\"0\" style=\"stroke:black;stroke-width:1\"/><path d=\"M 380.246 303.129 A 10 10 0 0 0 400.0 300.0\" stroke-linecap=\"round\" \n",
              "            fill=\"transparent\" fill-opacity=\"0\" style=\"stroke:black;stroke-width:1\"/><path d=\"M 400.0 300.0 A 11 11 0 0 0 403.82 321.666\" stroke-linecap=\"round\" \n",
              "            fill=\"transparent\" fill-opacity=\"0\" style=\"stroke:black;stroke-width:1\"/><path d=\"M 403.82 321.666 A 11 11 0 0 0 400.0 300.0\" stroke-linecap=\"round\" \n",
              "            fill=\"transparent\" fill-opacity=\"0\" style=\"stroke:black;stroke-width:1\"/><path d=\"M 400.0 300.0 A 12 12 0 0 0 423.559 295.421\" stroke-linecap=\"round\" \n",
              "            fill=\"transparent\" fill-opacity=\"0\" style=\"stroke:black;stroke-width:1\"/><path d=\"M 423.559 295.421 A 12 12 0 0 0 400.0 300.0\" stroke-linecap=\"round\" \n",
              "            fill=\"transparent\" fill-opacity=\"0\" style=\"stroke:black;stroke-width:1\"/><path d=\"M 400.0 300.0 A 13 13 0 0 0 394.594 274.568\" stroke-linecap=\"round\" \n",
              "            fill=\"transparent\" fill-opacity=\"0\" style=\"stroke:black;stroke-width:1\"/><path d=\"M 394.594 274.568 A 13 13 0 0 0 400.0 300.0\" stroke-linecap=\"round\" \n",
              "            fill=\"transparent\" fill-opacity=\"0\" style=\"stroke:black;stroke-width:1\"/><path d=\"M 400.0 300.0 A 14 14 0 0 0 372.718 306.299\" stroke-linecap=\"round\" \n",
              "            fill=\"transparent\" fill-opacity=\"0\" style=\"stroke:black;stroke-width:1\"/><path d=\"M 372.718 306.299 A 14 14 0 0 0 400.0 300.0\" stroke-linecap=\"round\" \n",
              "            fill=\"transparent\" fill-opacity=\"0\" style=\"stroke:black;stroke-width:1\"/><path d=\"M 400.0 300.0 A 15 15 0 0 0 407.258 329.109\" stroke-linecap=\"round\" \n",
              "            fill=\"transparent\" fill-opacity=\"0\" style=\"stroke:black;stroke-width:1\"/><path d=\"M 407.258 329.109 A 15 15 0 0 0 400.0 300.0\" stroke-linecap=\"round\" \n",
              "            fill=\"transparent\" fill-opacity=\"0\" style=\"stroke:black;stroke-width:1\"/><path d=\"M 400.0 300.0 A 16 16 0 0 0 430.91 291.718\" stroke-linecap=\"round\" \n",
              "            fill=\"transparent\" fill-opacity=\"0\" style=\"stroke:black;stroke-width:1\"/><path d=\"M 430.91 291.718 A 16 16 0 0 0 400.0 300.0\" stroke-linecap=\"round\" \n",
              "            fill=\"transparent\" fill-opacity=\"0\" style=\"stroke:black;stroke-width:1\"/><path d=\"M 400.0 300.0 A 17 17 0 0 0 390.628 267.317\" stroke-linecap=\"round\" \n",
              "            fill=\"transparent\" fill-opacity=\"0\" style=\"stroke:black;stroke-width:1\"/><path d=\"M 390.628 267.317 A 17 17 0 0 0 400.0 300.0\" stroke-linecap=\"round\" \n",
              "            fill=\"transparent\" fill-opacity=\"0\" style=\"stroke:black;stroke-width:1\"/><path d=\"M 400.0 300.0 A 18 18 0 0 0 365.573 310.525\" stroke-linecap=\"round\" \n",
              "            fill=\"transparent\" fill-opacity=\"0\" style=\"stroke:black;stroke-width:1\"/><path d=\"M 365.573 310.525 A 18 18 0 0 0 400.0 300.0\" stroke-linecap=\"round\" \n",
              "            fill=\"transparent\" fill-opacity=\"0\" style=\"stroke:black;stroke-width:1\"/><path d=\"M 400.0 300.0 A 19 19 0 0 0 411.743 336.14\" stroke-linecap=\"round\" \n",
              "            fill=\"transparent\" fill-opacity=\"0\" style=\"stroke:black;stroke-width:1\"/><path d=\"M 411.743 336.14 A 19 19 0 0 0 400.0 300.0\" stroke-linecap=\"round\" \n",
              "            fill=\"transparent\" fill-opacity=\"0\" style=\"stroke:black;stroke-width:1\"/><path d=\"M 400.0 300.0 A 20 20 0 0 0 437.821 286.977\" stroke-linecap=\"round\" \n",
              "            fill=\"transparent\" fill-opacity=\"0\" style=\"stroke:black;stroke-width:1\"/><path d=\"M 437.821 286.977 A 20 20 0 0 0 400.0 300.0\" stroke-linecap=\"round\" \n",
              "            fill=\"transparent\" fill-opacity=\"0\" style=\"stroke:black;stroke-width:1\"/><path d=\"M 400.0 300.0 A 21 21 0 0 0 385.635 260.533\" stroke-linecap=\"round\" \n",
              "            fill=\"transparent\" fill-opacity=\"0\" style=\"stroke:black;stroke-width:1\"/><path d=\"M 385.635 260.533 A 21 21 0 0 0 400.0 300.0\" stroke-linecap=\"round\" \n",
              "            fill=\"transparent\" fill-opacity=\"0\" style=\"stroke:black;stroke-width:1\"/><path d=\"M 400.0 300.0 A 22 22 0 0 0 358.922 315.768\" stroke-linecap=\"round\" \n",
              "            fill=\"transparent\" fill-opacity=\"0\" style=\"stroke:black;stroke-width:1\"/><path d=\"M 358.922 315.768 A 22 22 0 0 0 400.0 300.0\" stroke-linecap=\"round\" \n",
              "            fill=\"transparent\" fill-opacity=\"0\" style=\"stroke:black;stroke-width:1\"/><path d=\"M 400.0 300.0 A 23 23 0 0 0 417.232 342.65\" stroke-linecap=\"round\" \n",
              "            fill=\"transparent\" fill-opacity=\"0\" style=\"stroke:black;stroke-width:1\"/><path d=\"M 417.232 342.65 A 23 23 0 0 0 400.0 300.0\" stroke-linecap=\"round\" \n",
              "            fill=\"transparent\" fill-opacity=\"0\" style=\"stroke:black;stroke-width:1\"/><path d=\"M 400.0 300.0 A 24 24 0 0 0 444.184 281.245\" stroke-linecap=\"round\" \n",
              "            fill=\"transparent\" fill-opacity=\"0\" style=\"stroke:black;stroke-width:1\"/><path d=\"M 444.184 281.245 A 24 24 0 0 0 400.0 300.0\" stroke-linecap=\"round\" \n",
              "            fill=\"transparent\" fill-opacity=\"0\" style=\"stroke:black;stroke-width:1\"/><path d=\"M 400.0 300.0 A 25 25 0 0 0 379.663 254.323\" stroke-linecap=\"round\" \n",
              "            fill=\"transparent\" fill-opacity=\"0\" style=\"stroke:black;stroke-width:1\"/><path d=\"M 379.663 254.323 A 25 25 0 0 0 400.0 300.0\" stroke-linecap=\"round\" \n",
              "            fill=\"transparent\" fill-opacity=\"0\" style=\"stroke:black;stroke-width:1\"/><path d=\"M 400.0 300.0 A 26 26 0 0 0 352.872 321.976\" stroke-linecap=\"round\" \n",
              "            fill=\"transparent\" fill-opacity=\"0\" style=\"stroke:black;stroke-width:1\"/><path d=\"M 352.872 321.976 A 26 26 0 0 0 400.0 300.0\" stroke-linecap=\"round\" \n",
              "            fill=\"transparent\" fill-opacity=\"0\" style=\"stroke:black;stroke-width:1\"/><path d=\"M 400.0 300.0 A 27 27 0 0 0 423.672 348.535\" stroke-linecap=\"round\" \n",
              "            fill=\"transparent\" fill-opacity=\"0\" style=\"stroke:black;stroke-width:1\"/><path d=\"M 423.672 348.535 A 27 27 0 0 0 400.0 300.0\" stroke-linecap=\"round\" \n",
              "            fill=\"transparent\" fill-opacity=\"0\" style=\"stroke:black;stroke-width:1\"/><path d=\"M 400.0 300.0 A 28 28 0 0 0 449.896 274.577\" stroke-linecap=\"round\" \n",
              "            fill=\"transparent\" fill-opacity=\"0\" style=\"stroke:black;stroke-width:1\"/><path d=\"M 449.896 274.577 A 28 28 0 0 0 400.0 300.0\" stroke-linecap=\"round\" \n",
              "            fill=\"transparent\" fill-opacity=\"0\" style=\"stroke:black;stroke-width:1\"/><path d=\"M 400.0 300.0 A 29 29 0 0 0 372.771 248.789\" stroke-linecap=\"round\" \n",
              "            fill=\"transparent\" fill-opacity=\"0\" style=\"stroke:black;stroke-width:1\"/><path d=\"M 372.771 248.789 A 29 29 0 0 0 400.0 300.0\" stroke-linecap=\"round\" \n",
              "            fill=\"transparent\" fill-opacity=\"0\" style=\"stroke:black;stroke-width:1\"/><path d=\"M 400.0 300.0 A 30 30 0 0 0 347.523 329.089\" stroke-linecap=\"round\" \n",
              "            fill=\"transparent\" fill-opacity=\"0\" style=\"stroke:black;stroke-width:1\"/><path d=\"M 347.523 329.089 A 30 30 0 0 0 400.0 300.0\" stroke-linecap=\"round\" \n",
              "            fill=\"transparent\" fill-opacity=\"0\" style=\"stroke:black;stroke-width:1\"/><path d=\"M 400.0 300.0 A 31 31 0 0 0 431.0 353.694\" stroke-linecap=\"round\" \n",
              "            fill=\"transparent\" fill-opacity=\"0\" style=\"stroke:black;stroke-width:1\"/><path d=\"M 431.0 353.694 A 31 31 0 0 0 400.0 300.0\" stroke-linecap=\"round\" \n",
              "            fill=\"transparent\" fill-opacity=\"0\" style=\"stroke:black;stroke-width:1\"/><path d=\"M 400.0 300.0 A 32 32 0 0 0 454.859 267.038\" stroke-linecap=\"round\" \n",
              "            fill=\"transparent\" fill-opacity=\"0\" style=\"stroke:black;stroke-width:1\"/><path d=\"M 454.859 267.038 A 32 32 0 0 0 400.0 300.0\" stroke-linecap=\"round\" \n",
              "            fill=\"transparent\" fill-opacity=\"0\" style=\"stroke:black;stroke-width:1\"/><path d=\"M 400.0 300.0 A 33 33 0 0 0 365.025 244.029\" stroke-linecap=\"round\" \n",
              "            fill=\"transparent\" fill-opacity=\"0\" style=\"stroke:black;stroke-width:1\"/><path d=\"M 365.025 244.029 A 33 33 0 0 0 400.0 300.0\" stroke-linecap=\"round\" \n",
              "            fill=\"transparent\" fill-opacity=\"0\" style=\"stroke:black;stroke-width:1\"/><path d=\"M 400.0 300.0 A 34 34 0 0 0 342.97 337.035\" stroke-linecap=\"round\" \n",
              "            fill=\"transparent\" fill-opacity=\"0\" style=\"stroke:black;stroke-width:1\"/><path d=\"M 342.97 337.035 A 34 34 0 0 0 400.0 300.0\" stroke-linecap=\"round\" \n",
              "            fill=\"transparent\" fill-opacity=\"0\" style=\"stroke:black;stroke-width:1\"/><path d=\"M 400.0 300.0 A 35 35 0 0 0 439.144 358.033\" stroke-linecap=\"round\" \n",
              "            fill=\"transparent\" fill-opacity=\"0\" style=\"stroke:black;stroke-width:1\"/><path d=\"M 439.144 358.033 A 35 35 0 0 0 400.0 300.0\" stroke-linecap=\"round\" \n",
              "            fill=\"transparent\" fill-opacity=\"0\" style=\"stroke:black;stroke-width:1\"/><path d=\"M 400.0 300.0 A 36 36 0 0 0 458.979 258.702\" stroke-linecap=\"round\" \n",
              "            fill=\"transparent\" fill-opacity=\"0\" style=\"stroke:black;stroke-width:1\"/><path d=\"M 458.979 258.702 A 36 36 0 0 0 400.0 300.0\" stroke-linecap=\"round\" \n",
              "            fill=\"transparent\" fill-opacity=\"0\" style=\"stroke:black;stroke-width:1\"/><path d=\"M 400.0 300.0 A 37 37 0 0 0 356.504 240.133\" stroke-linecap=\"round\" \n",
              "            fill=\"transparent\" fill-opacity=\"0\" style=\"stroke:black;stroke-width:1\"/><path d=\"M 356.504 240.133 A 37 37 0 0 0 400.0 300.0\" stroke-linecap=\"round\" \n",
              "            fill=\"transparent\" fill-opacity=\"0\" style=\"stroke:black;stroke-width:1\"/><path d=\"M 400.0 300.0 A 38 38 0 0 0 339.304 345.738\" stroke-linecap=\"round\" \n",
              "            fill=\"transparent\" fill-opacity=\"0\" style=\"stroke:black;stroke-width:1\"/><path d=\"M 339.304 345.738 A 38 38 0 0 0 400.0 300.0\" stroke-linecap=\"round\" \n",
              "            fill=\"transparent\" fill-opacity=\"0\" style=\"stroke:black;stroke-width:1\"/><path d=\"M 400.0 300.0 A 39 39 0 0 0 448.022 361.465\" stroke-linecap=\"round\" \n",
              "            fill=\"transparent\" fill-opacity=\"0\" style=\"stroke:black;stroke-width:1\"/><path d=\"M 448.022 361.465 A 39 39 0 0 0 400.0 300.0\" stroke-linecap=\"round\" \n",
              "            fill=\"transparent\" fill-opacity=\"0\" style=\"stroke:black;stroke-width:1\"/><path d=\"M 400.0 300.0 A 40 40 0 0 0 462.172 249.654\" stroke-linecap=\"round\" \n",
              "            fill=\"transparent\" fill-opacity=\"0\" style=\"stroke:black;stroke-width:1\"/><path d=\"M 462.172 249.654 A 40 40 0 0 0 400.0 300.0\" stroke-linecap=\"round\" \n",
              "            fill=\"transparent\" fill-opacity=\"0\" style=\"stroke:black;stroke-width:1\"/><path d=\"M 400.0 300.0 A 41 41 0 0 0 347.291 237.184\" stroke-linecap=\"round\" \n",
              "            fill=\"transparent\" fill-opacity=\"0\" style=\"stroke:black;stroke-width:1\"/><path d=\"M 347.291 237.184 A 41 41 0 0 0 400.0 300.0\" stroke-linecap=\"round\" \n",
              "            fill=\"transparent\" fill-opacity=\"0\" style=\"stroke:black;stroke-width:1\"/><path d=\"M 400.0 300.0 A 42 42 0 0 0 336.604 355.109\" stroke-linecap=\"round\" \n",
              "            fill=\"transparent\" fill-opacity=\"0\" style=\"stroke:black;stroke-width:1\"/><path d=\"M 336.604 355.109 A 42 42 0 0 0 400.0 300.0\" stroke-linecap=\"round\" \n",
              "            fill=\"transparent\" fill-opacity=\"0\" style=\"stroke:black;stroke-width:1\"/><path d=\"M 400.0 300.0 A 43 43 0 0 0 457.545 363.91\" stroke-linecap=\"round\" \n",
              "            fill=\"transparent\" fill-opacity=\"0\" style=\"stroke:black;stroke-width:1\"/><path d=\"M 457.545 363.91 A 43 43 0 0 0 400.0 300.0\" stroke-linecap=\"round\" \n",
              "            fill=\"transparent\" fill-opacity=\"0\" style=\"stroke:black;stroke-width:1\"/><path d=\"M 400.0 300.0 A 44 44 0 0 0 464.359 239.984\" stroke-linecap=\"round\" \n",
              "            fill=\"transparent\" fill-opacity=\"0\" style=\"stroke:black;stroke-width:1\"/><path d=\"M 464.359 239.984 A 44 44 0 0 0 400.0 300.0\" stroke-linecap=\"round\" \n",
              "            fill=\"transparent\" fill-opacity=\"0\" style=\"stroke:black;stroke-width:1\"/><path d=\"M 400.0 300.0 A 45 45 0 0 0 337.481 235.259\" stroke-linecap=\"round\" \n",
              "            fill=\"transparent\" fill-opacity=\"0\" style=\"stroke:black;stroke-width:1\"/><path d=\"M 337.481 235.259 A 45 45 0 0 0 400.0 300.0\" stroke-linecap=\"round\" \n",
              "            fill=\"transparent\" fill-opacity=\"0\" style=\"stroke:black;stroke-width:1\"/><path d=\"M 400.0 300.0 A 46 46 0 0 0 334.946 365.054\" stroke-linecap=\"round\" \n",
              "            fill=\"transparent\" fill-opacity=\"0\" style=\"stroke:black;stroke-width:1\"/><path d=\"M 334.946 365.054 A 46 46 0 0 0 400.0 300.0\" stroke-linecap=\"round\" \n",
              "            fill=\"transparent\" fill-opacity=\"0\" style=\"stroke:black;stroke-width:1\"/><path d=\"M 400.0 300.0 A 47 47 0 0 0 467.618 365.298\" stroke-linecap=\"round\" \n",
              "            fill=\"transparent\" fill-opacity=\"0\" style=\"stroke:black;stroke-width:1\"/><path d=\"M 467.618 365.298 A 47 47 0 0 0 400.0 300.0\" stroke-linecap=\"round\" \n",
              "            fill=\"transparent\" fill-opacity=\"0\" style=\"stroke:black;stroke-width:1\"/><path d=\"M 400.0 300.0 A 48 48 0 0 0 465.472 229.79\" stroke-linecap=\"round\" \n",
              "            fill=\"transparent\" fill-opacity=\"0\" style=\"stroke:black;stroke-width:1\"/><path d=\"M 465.472 229.79 A 48 48 0 0 0 400.0 300.0\" stroke-linecap=\"round\" \n",
              "            fill=\"transparent\" fill-opacity=\"0\" style=\"stroke:black;stroke-width:1\"/><path d=\"M 400.0 300.0 A 49 49 0 0 0 327.172 234.425\" stroke-linecap=\"round\" \n",
              "            fill=\"transparent\" fill-opacity=\"0\" style=\"stroke:black;stroke-width:1\"/><path d=\"M 327.172 234.425 A 49 49 0 0 0 400.0 300.0\" stroke-linecap=\"round\" \n",
              "            fill=\"transparent\" fill-opacity=\"0\" style=\"stroke:black;stroke-width:1\"/><path d=\"M 400.0 300.0 A 50 50 0 0 0 334.394 375.471\" stroke-linecap=\"round\" \n",
              "            fill=\"transparent\" fill-opacity=\"0\" style=\"stroke:black;stroke-width:1\"/><path d=\"M 334.394 375.471 A 50 50 0 0 0 400.0 300.0\" stroke-linecap=\"round\" \n",
              "            fill=\"transparent\" fill-opacity=\"0\" style=\"stroke:black;stroke-width:1\"/><path d=\"M 400.0 300.0 A 51 51 0 0 0 478.137 365.564\" stroke-linecap=\"round\" \n",
              "            fill=\"transparent\" fill-opacity=\"0\" style=\"stroke:black;stroke-width:1\"/><path d=\"M 478.137 365.564 A 51 51 0 0 0 400.0 300.0\" stroke-linecap=\"round\" \n",
              "            fill=\"transparent\" fill-opacity=\"0\" style=\"stroke:black;stroke-width:1\"/><path d=\"M 400.0 300.0 A 52 52 0 0 0 465.449 219.177\" stroke-linecap=\"round\" \n",
              "            fill=\"transparent\" fill-opacity=\"0\" style=\"stroke:black;stroke-width:1\"/><path d=\"M 465.449 219.177 A 52 52 0 0 0 400.0 300.0\" stroke-linecap=\"round\" \n",
              "            fill=\"transparent\" fill-opacity=\"0\" style=\"stroke:black;stroke-width:1\"/><path d=\"M 400.0 300.0 A 53 53 0 0 0 316.471 234.74\" stroke-linecap=\"round\" \n",
              "            fill=\"transparent\" fill-opacity=\"0\" style=\"stroke:black;stroke-width:1\"/><path d=\"M 316.471 234.74 A 53 53 0 0 0 400.0 300.0\" stroke-linecap=\"round\" \n",
              "            fill=\"transparent\" fill-opacity=\"0\" style=\"stroke:black;stroke-width:1\"/><path d=\"M 400.0 300.0 A 54 54 0 0 0 335.004 386.253\" stroke-linecap=\"round\" \n",
              "            fill=\"transparent\" fill-opacity=\"0\" style=\"stroke:black;stroke-width:1\"/><path d=\"M 335.004 386.253 A 54 54 0 0 0 400.0 300.0\" stroke-linecap=\"round\" \n",
              "            fill=\"transparent\" fill-opacity=\"0\" style=\"stroke:black;stroke-width:1\"/><path d=\"M 400.0 300.0 A 55 55 0 0 0 488.992 364.656\" stroke-linecap=\"round\" \n",
              "            fill=\"transparent\" fill-opacity=\"0\" style=\"stroke:black;stroke-width:1\"/><path d=\"M 488.992 364.656 A 55 55 0 0 0 400.0 300.0\" stroke-linecap=\"round\" \n",
              "            fill=\"transparent\" fill-opacity=\"0\" style=\"stroke:black;stroke-width:1\"/><path d=\"M 400.0 300.0 A 56 56 0 0 0 464.241 208.255\" stroke-linecap=\"round\" \n",
              "            fill=\"transparent\" fill-opacity=\"0\" style=\"stroke:black;stroke-width:1\"/><path d=\"M 464.241 208.255 A 56 56 0 0 0 400.0 300.0\" stroke-linecap=\"round\" \n",
              "            fill=\"transparent\" fill-opacity=\"0\" style=\"stroke:black;stroke-width:1\"/><path d=\"M 400.0 300.0 A 57 57 0 0 0 305.49 236.252\" stroke-linecap=\"round\" \n",
              "            fill=\"transparent\" fill-opacity=\"0\" style=\"stroke:black;stroke-width:1\"/><path d=\"M 305.49 236.252 A 57 57 0 0 0 400.0 300.0\" stroke-linecap=\"round\" \n",
              "            fill=\"transparent\" fill-opacity=\"0\" style=\"stroke:black;stroke-width:1\"/><path d=\"M 400.0 300.0 A 58 58 0 0 0 336.822 397.286\" stroke-linecap=\"round\" \n",
              "            fill=\"transparent\" fill-opacity=\"0\" style=\"stroke:black;stroke-width:1\"/><path d=\"M 336.822 397.286 A 58 58 0 0 0 400.0 300.0\" stroke-linecap=\"round\" \n",
              "            fill=\"transparent\" fill-opacity=\"0\" style=\"stroke:black;stroke-width:1\"/><path d=\"M 400.0 300.0 A 59 59 0 0 0 500.07 362.53\" stroke-linecap=\"round\" \n",
              "            fill=\"transparent\" fill-opacity=\"0\" style=\"stroke:black;stroke-width:1\"/><path d=\"M 500.07 362.53 A 59 59 0 0 0 400.0 300.0\" stroke-linecap=\"round\" \n",
              "            fill=\"transparent\" fill-opacity=\"0\" style=\"stroke:black;stroke-width:1\"/><path d=\"M 400.0 300.0 A 60 60 0 0 0 461.805 197.14\" stroke-linecap=\"round\" \n",
              "            fill=\"transparent\" fill-opacity=\"0\" style=\"stroke:black;stroke-width:1\"/><path d=\"M 461.805 197.14 A 60 60 0 0 0 400.0 300.0\" stroke-linecap=\"round\" \n",
              "            fill=\"transparent\" fill-opacity=\"0\" style=\"stroke:black;stroke-width:1\"/><path d=\"M 400.0 300.0 A 61 61 0 0 0 294.345 239.0\" stroke-linecap=\"round\" \n",
              "            fill=\"transparent\" fill-opacity=\"0\" style=\"stroke:black;stroke-width:1\"/><path d=\"M 294.345 239.0 A 61 61 0 0 0 400.0 300.0\" stroke-linecap=\"round\" \n",
              "            fill=\"transparent\" fill-opacity=\"0\" style=\"stroke:black;stroke-width:1\"/><path d=\"M 400.0 300.0 A 62 62 0 0 0 339.884 408.453\" stroke-linecap=\"round\" \n",
              "            fill=\"transparent\" fill-opacity=\"0\" style=\"stroke:black;stroke-width:1\"/><path d=\"M 339.884 408.453 A 62 62 0 0 0 400.0 300.0\" stroke-linecap=\"round\" \n",
              "            fill=\"transparent\" fill-opacity=\"0\" style=\"stroke:black;stroke-width:1\"/><path d=\"M 400.0 300.0 A 63 63 0 0 0 511.251 359.153\" stroke-linecap=\"round\" \n",
              "            fill=\"transparent\" fill-opacity=\"0\" style=\"stroke:black;stroke-width:1\"/><path d=\"M 511.251 359.153 A 63 63 0 0 0 400.0 300.0\" stroke-linecap=\"round\" \n",
              "            fill=\"transparent\" fill-opacity=\"0\" style=\"stroke:black;stroke-width:1\"/><path d=\"M 400.0 300.0 A 64 64 0 0 0 458.111 185.951\" stroke-linecap=\"round\" \n",
              "            fill=\"transparent\" fill-opacity=\"0\" style=\"stroke:black;stroke-width:1\"/><path d=\"M 458.111 185.951 A 64 64 0 0 0 400.0 300.0\" stroke-linecap=\"round\" \n",
              "            fill=\"transparent\" fill-opacity=\"0\" style=\"stroke:black;stroke-width:1\"/><path d=\"M 400.0 300.0 A 65 65 0 0 0 283.157 243.012\" stroke-linecap=\"round\" \n",
              "            fill=\"transparent\" fill-opacity=\"0\" style=\"stroke:black;stroke-width:1\"/><path d=\"M 283.157 243.012 A 65 65 0 0 0 400.0 300.0\" stroke-linecap=\"round\" \n",
              "            fill=\"transparent\" fill-opacity=\"0\" style=\"stroke:black;stroke-width:1\"/><path d=\"M 400.0 300.0 A 66 66 0 0 0 344.214 419.633\" stroke-linecap=\"round\" \n",
              "            fill=\"transparent\" fill-opacity=\"0\" style=\"stroke:black;stroke-width:1\"/><path d=\"M 344.214 419.633 A 66 66 0 0 0 400.0 300.0\" stroke-linecap=\"round\" \n",
              "            fill=\"transparent\" fill-opacity=\"0\" style=\"stroke:black;stroke-width:1\"/><path d=\"M 400.0 300.0 A 67 67 0 0 0 522.415 354.503\" stroke-linecap=\"round\" \n",
              "            fill=\"transparent\" fill-opacity=\"0\" style=\"stroke:black;stroke-width:1\"/><path d=\"M 522.415 354.503 A 67 67 0 0 0 400.0 300.0\" stroke-linecap=\"round\" \n",
              "            fill=\"transparent\" fill-opacity=\"0\" style=\"stroke:black;stroke-width:1\"/><path d=\"M 400.0 300.0 A 68 68 0 0 0 453.139 174.811\" stroke-linecap=\"round\" \n",
              "            fill=\"transparent\" fill-opacity=\"0\" style=\"stroke:black;stroke-width:1\"/><path d=\"M 453.139 174.811 A 68 68 0 0 0 400.0 300.0\" stroke-linecap=\"round\" \n",
              "            fill=\"transparent\" fill-opacity=\"0\" style=\"stroke:black;stroke-width:1\"/><path d=\"M 400.0 300.0 A 69 69 0 0 0 272.049 248.304\" stroke-linecap=\"round\" \n",
              "            fill=\"transparent\" fill-opacity=\"0\" style=\"stroke:black;stroke-width:1\"/><path d=\"M 272.049 248.304 A 69 69 0 0 0 400.0 300.0\" stroke-linecap=\"round\" \n",
              "            fill=\"transparent\" fill-opacity=\"0\" style=\"stroke:black;stroke-width:1\"/><path d=\"M 400.0 300.0 A 70 70 0 0 0 349.828 430.701\" stroke-linecap=\"round\" \n",
              "            fill=\"transparent\" fill-opacity=\"0\" style=\"stroke:black;stroke-width:1\"/><path d=\"M 349.828 430.701 A 70 70 0 0 0 400.0 300.0\" stroke-linecap=\"round\" \n",
              "            fill=\"transparent\" fill-opacity=\"0\" style=\"stroke:black;stroke-width:1\"/><path d=\"M 400.0 300.0 A 71 71 0 0 0 533.436 348.567\" stroke-linecap=\"round\" \n",
              "            fill=\"transparent\" fill-opacity=\"0\" style=\"stroke:black;stroke-width:1\"/><path d=\"M 533.436 348.567 A 71 71 0 0 0 400.0 300.0\" stroke-linecap=\"round\" \n",
              "            fill=\"transparent\" fill-opacity=\"0\" style=\"stroke:black;stroke-width:1\"/><path d=\"M 400.0 300.0 A 72 72 0 0 0 446.882 163.845\" stroke-linecap=\"round\" \n",
              "            fill=\"transparent\" fill-opacity=\"0\" style=\"stroke:black;stroke-width:1\"/><path d=\"M 446.882 163.845 A 72 72 0 0 0 400.0 300.0\" stroke-linecap=\"round\" \n",
              "            fill=\"transparent\" fill-opacity=\"0\" style=\"stroke:black;stroke-width:1\"/><path d=\"M 400.0 300.0 A 73 73 0 0 0 261.146 254.884\" stroke-linecap=\"round\" \n",
              "            fill=\"transparent\" fill-opacity=\"0\" style=\"stroke:black;stroke-width:1\"/><path d=\"M 261.146 254.884 A 73 73 0 0 0 400.0 300.0\" stroke-linecap=\"round\" \n",
              "            fill=\"transparent\" fill-opacity=\"0\" style=\"stroke:black;stroke-width:1\"/><path d=\"M 400.0 300.0 A 74 74 0 0 0 356.729 441.533\" stroke-linecap=\"round\" \n",
              "            fill=\"transparent\" fill-opacity=\"0\" style=\"stroke:black;stroke-width:1\"/><path d=\"M 356.729 441.533 A 74 74 0 0 0 400.0 300.0\" stroke-linecap=\"round\" \n",
              "            fill=\"transparent\" fill-opacity=\"0\" style=\"stroke:black;stroke-width:1\"/><path d=\"M 400.0 300.0 A 75 75 0 0 0 544.189 341.346\" stroke-linecap=\"round\" \n",
              "            fill=\"transparent\" fill-opacity=\"0\" style=\"stroke:black;stroke-width:1\"/><path d=\"M 544.189 341.346 A 75 75 0 0 0 400.0 300.0\" stroke-linecap=\"round\" \n",
              "            fill=\"transparent\" fill-opacity=\"0\" style=\"stroke:black;stroke-width:1\"/><path d=\"M 400.0 300.0 A 76 76 0 0 0 439.34 153.179\" stroke-linecap=\"round\" \n",
              "            fill=\"transparent\" fill-opacity=\"0\" style=\"stroke:black;stroke-width:1\"/><path d=\"M 439.34 153.179 A 76 76 0 0 0 400.0 300.0\" stroke-linecap=\"round\" \n",
              "            fill=\"transparent\" fill-opacity=\"0\" style=\"stroke:black;stroke-width:1\"/><path d=\"M 400.0 300.0 A 77 77 0 0 0 250.574 262.744\" stroke-linecap=\"round\" \n",
              "            fill=\"transparent\" fill-opacity=\"0\" style=\"stroke:black;stroke-width:1\"/><path d=\"M 250.574 262.744 A 77 77 0 0 0 400.0 300.0\" stroke-linecap=\"round\" \n",
              "            fill=\"transparent\" fill-opacity=\"0\" style=\"stroke:black;stroke-width:1\"/><path d=\"M 400.0 300.0 A 78 78 0 0 0 364.908 452.002\" stroke-linecap=\"round\" \n",
              "            fill=\"transparent\" fill-opacity=\"0\" style=\"stroke:black;stroke-width:1\"/><path d=\"M 364.908 452.002 A 78 78 0 0 0 400.0 300.0\" stroke-linecap=\"round\" \n",
              "            fill=\"transparent\" fill-opacity=\"0\" style=\"stroke:black;stroke-width:1\"/><path d=\"M 400.0 300.0 A 79 79 0 0 0 554.547 332.85\" stroke-linecap=\"round\" \n",
              "            fill=\"transparent\" fill-opacity=\"0\" style=\"stroke:black;stroke-width:1\"/><path d=\"M 554.547 332.85 A 79 79 0 0 0 400.0 300.0\" stroke-linecap=\"round\" \n",
              "            fill=\"transparent\" fill-opacity=\"0\" style=\"stroke:black;stroke-width:1\"/><path d=\"M 400.0 300.0 A 80 80 0 0 0 430.529 142.94\" stroke-linecap=\"round\" \n",
              "            fill=\"transparent\" fill-opacity=\"0\" style=\"stroke:black;stroke-width:1\"/><path d=\"M 430.529 142.94 A 80 80 0 0 0 400.0 300.0\" stroke-linecap=\"round\" \n",
              "            fill=\"transparent\" fill-opacity=\"0\" style=\"stroke:black;stroke-width:1\"/><path d=\"M 400.0 300.0 A 81 81 0 0 0 240.461 271.869\" stroke-linecap=\"round\" \n",
              "            fill=\"transparent\" fill-opacity=\"0\" style=\"stroke:black;stroke-width:1\"/><path d=\"M 240.461 271.869 A 81 81 0 0 0 400.0 300.0\" stroke-linecap=\"round\" \n",
              "            fill=\"transparent\" fill-opacity=\"0\" style=\"stroke:black;stroke-width:1\"/><path d=\"M 400.0 300.0 A 82 82 0 0 0 374.345 461.981\" stroke-linecap=\"round\" \n",
              "            fill=\"transparent\" fill-opacity=\"0\" style=\"stroke:black;stroke-width:1\"/><path d=\"M 374.345 461.981 A 82 82 0 0 0 400.0 300.0\" stroke-linecap=\"round\" \n",
              "            fill=\"transparent\" fill-opacity=\"0\" style=\"stroke:black;stroke-width:1\"/><path d=\"M 400.0 300.0 A 83 83 0 0 0 564.384 323.103\" stroke-linecap=\"round\" \n",
              "            fill=\"transparent\" fill-opacity=\"0\" style=\"stroke:black;stroke-width:1\"/><path d=\"M 564.384 323.103 A 83 83 0 0 0 400.0 300.0\" stroke-linecap=\"round\" \n",
              "            fill=\"transparent\" fill-opacity=\"0\" style=\"stroke:black;stroke-width:1\"/><path d=\"M 400.0 300.0 A 84 84 0 0 0 420.474 133.252\" stroke-linecap=\"round\" \n",
              "            fill=\"transparent\" fill-opacity=\"0\" style=\"stroke:black;stroke-width:1\"/><path d=\"M 420.474 133.252 A 84 84 0 0 0 400.0 300.0\" stroke-linecap=\"round\" \n",
              "            fill=\"transparent\" fill-opacity=\"0\" style=\"stroke:black;stroke-width:1\"/><path d=\"M 400.0 300.0 A 85 85 0 0 0 230.931 282.23\" stroke-linecap=\"round\" \n",
              "            fill=\"transparent\" fill-opacity=\"0\" style=\"stroke:black;stroke-width:1\"/><path d=\"M 230.931 282.23 A 85 85 0 0 0 400.0 300.0\" stroke-linecap=\"round\" \n",
              "            fill=\"transparent\" fill-opacity=\"0\" style=\"stroke:black;stroke-width:1\"/><path d=\"M 400.0 300.0 A 86 86 0 0 0 385.009 471.345\" stroke-linecap=\"round\" \n",
              "            fill=\"transparent\" fill-opacity=\"0\" style=\"stroke:black;stroke-width:1\"/><path d=\"M 385.009 471.345 A 86 86 0 0 0 400.0 300.0\" stroke-linecap=\"round\" \n",
              "            fill=\"transparent\" fill-opacity=\"0\" style=\"stroke:black;stroke-width:1\"/><path d=\"M 400.0 300.0 A 87 87 0 0 0 573.576 312.138\" stroke-linecap=\"round\" \n",
              "            fill=\"transparent\" fill-opacity=\"0\" style=\"stroke:black;stroke-width:1\"/><path d=\"M 573.576 312.138 A 87 87 0 0 0 400.0 300.0\" stroke-linecap=\"round\" \n",
              "            fill=\"transparent\" fill-opacity=\"0\" style=\"stroke:black;stroke-width:1\"/><path d=\"M 400.0 300.0 A 88 88 0 0 0 409.211 124.241\" stroke-linecap=\"round\" \n",
              "            fill=\"transparent\" fill-opacity=\"0\" style=\"stroke:black;stroke-width:1\"/><path d=\"M 409.211 124.241 A 88 88 0 0 0 400.0 300.0\" stroke-linecap=\"round\" \n",
              "            fill=\"transparent\" fill-opacity=\"0\" style=\"stroke:black;stroke-width:1\"/><path d=\"M 400.0 300.0 A 89 89 0 0 0 222.108 293.788\" stroke-linecap=\"round\" \n",
              "            fill=\"transparent\" fill-opacity=\"0\" style=\"stroke:black;stroke-width:1\"/><path d=\"M 222.108 293.788 A 89 89 0 0 0 400.0 300.0\" stroke-linecap=\"round\" \n",
              "            fill=\"transparent\" fill-opacity=\"0\" style=\"stroke:black;stroke-width:1\"/><path d=\"M 400.0 300.0 A 90 90 0 0 0 396.859 479.973\" stroke-linecap=\"round\" \n",
              "            fill=\"transparent\" fill-opacity=\"0\" style=\"stroke:black;stroke-width:1\"/><path d=\"M 396.859 479.973 A 90 90 0 0 0 400.0 300.0\" stroke-linecap=\"round\" \n",
              "            fill=\"transparent\" fill-opacity=\"0\" style=\"stroke:black;stroke-width:1\"/><path d=\"M 400.0 300.0 A 91 91 0 0 0 582.0 300.0\" stroke-linecap=\"round\" \n",
              "            fill=\"transparent\" fill-opacity=\"0\" style=\"stroke:black;stroke-width:1\"/><path d=\"M 582.0 300.0 A 91 91 0 0 0 400.0 300.0\" stroke-linecap=\"round\" \n",
              "            fill=\"transparent\" fill-opacity=\"0\" style=\"stroke:black;stroke-width:1\"/><path d=\"M 400.0 300.0 A 92 92 0 0 0 396.789 116.028\" stroke-linecap=\"round\" \n",
              "            fill=\"transparent\" fill-opacity=\"0\" style=\"stroke:black;stroke-width:1\"/><path d=\"M 396.789 116.028 A 92 92 0 0 0 400.0 300.0\" stroke-linecap=\"round\" \n",
              "            fill=\"transparent\" fill-opacity=\"0\" style=\"stroke:black;stroke-width:1\"/><path d=\"M 400.0 300.0 A 93 93 0 0 0 214.113 306.491\" stroke-linecap=\"round\" \n",
              "            fill=\"transparent\" fill-opacity=\"0\" style=\"stroke:black;stroke-width:1\"/><path d=\"M 214.113 306.491 A 93 93 0 0 0 400.0 300.0\" stroke-linecap=\"round\" \n",
              "            fill=\"transparent\" fill-opacity=\"0\" style=\"stroke:black;stroke-width:1\"/><path d=\"M 400.0 300.0 A 94 94 0 0 0 409.839 487.742\" stroke-linecap=\"round\" \n",
              "            fill=\"transparent\" fill-opacity=\"0\" style=\"stroke:black;stroke-width:1\"/><path d=\"M 409.839 487.742 A 94 94 0 0 0 400.0 300.0\" stroke-linecap=\"round\" \n",
              "            fill=\"transparent\" fill-opacity=\"0\" style=\"stroke:black;stroke-width:1\"/><path d=\"M 400.0 300.0 A 95 95 0 0 0 589.537 286.746\" stroke-linecap=\"round\" \n",
              "            fill=\"transparent\" fill-opacity=\"0\" style=\"stroke:black;stroke-width:1\"/><path d=\"M 589.537 286.746 A 95 95 0 0 0 400.0 300.0\" stroke-linecap=\"round\" \n",
              "            fill=\"transparent\" fill-opacity=\"0\" style=\"stroke:black;stroke-width:1\"/><path d=\"M 400.0 300.0 A 96 96 0 0 0 383.266 108.731\" stroke-linecap=\"round\" \n",
              "            fill=\"transparent\" fill-opacity=\"0\" style=\"stroke:black;stroke-width:1\"/><path d=\"M 383.266 108.731 A 96 96 0 0 0 400.0 300.0\" stroke-linecap=\"round\" \n",
              "            fill=\"transparent\" fill-opacity=\"0\" style=\"stroke:black;stroke-width:1\"/><path d=\"M 400.0 300.0 A 97 97 0 0 0 207.063 320.279\" stroke-linecap=\"round\" \n",
              "            fill=\"transparent\" fill-opacity=\"0\" style=\"stroke:black;stroke-width:1\"/><path d=\"M 207.063 320.279 A 97 97 0 0 0 400.0 300.0\" stroke-linecap=\"round\" \n",
              "            fill=\"transparent\" fill-opacity=\"0\" style=\"stroke:black;stroke-width:1\"/><path d=\"M 400.0 300.0 A 98 98 0 0 0 423.886 494.539\" stroke-linecap=\"round\" \n",
              "            fill=\"transparent\" fill-opacity=\"0\" style=\"stroke:black;stroke-width:1\"/><path d=\"M 423.886 494.539 A 98 98 0 0 0 400.0 300.0\" stroke-linecap=\"round\" \n",
              "            fill=\"transparent\" fill-opacity=\"0\" style=\"stroke:black;stroke-width:1\"/><path d=\"M 400.0 300.0 A 99 99 0 0 0 596.073 272.444\" stroke-linecap=\"round\" \n",
              "            fill=\"transparent\" fill-opacity=\"0\" style=\"stroke:black;stroke-width:1\"/><path d=\"M 596.073 272.444 A 99 99 0 0 0 400.0 300.0\" stroke-linecap=\"round\" \n",
              "            fill=\"transparent\" fill-opacity=\"0\" style=\"stroke:black;stroke-width:1\"/>\n",
              "        \n",
              "        \n",
              "        <g id=\"classic\" visibility=\"visible\" transform=\"rotate(-8.0,400.0,300.0) translate(400.0, 300.0)\">\n",
              "<polygon points=\"-5,-4.5 0,-2.5 5,-4.5 0,4.5\" transform=\"skewX(0) scale(1,1)\" style=\"stroke:black;fill:black;stroke-width:1\" />\n",
              "<animateTransform id = \"one\" attributeName=\"transform\" \n",
              "                      type=\"scale\"\n",
              "                      from=\"1 1\" to=\"1 1\"\n",
              "                      begin=\"0s\" dur=\"0.01s\"\n",
              "                      repeatCount=\"1\"\n",
              "                      additive=\"sum\"\n",
              "                      fill=\"freeze\"\n",
              "                /><animateTransform attributeName=\"transform\"\n",
              "                    type=\"rotate\"\n",
              "                    from=\"0 0 0\" to =\"-91 0 0\"\n",
              "                    begin=\"one.end\" dur=\"0.025277777777777777s\"\n",
              "                    repeatCount=\"1\"\n",
              "                    additive=\"sum\"\n",
              "                    fill=\"freeze\"\n",
              "                /></g>\n",
              "      </svg>\n",
              "    "
            ]
          },
          "metadata": {}
        }
      ]
    },
    {
      "cell_type": "code",
      "source": [
        "t.reset()\n",
        "colors = [\"red\", \"yellow\", \"blue\", \"green\"]\n",
        "for x in range(100):\n",
        "  t.pencolor(colors[x%4])\n",
        "  t.forward(x)\n",
        "  t.left(91)"
      ],
      "metadata": {
        "id": "ZR3z9fHuKLG-",
        "outputId": "2fd63cd6-c18c-4551-9470-333e1d3daf87",
        "colab": {
          "base_uri": "https://localhost:8080/",
          "height": 621
        }
      },
      "execution_count": 14,
      "outputs": [
        {
          "output_type": "display_data",
          "data": {
            "text/plain": [
              "<IPython.core.display.HTML object>"
            ],
            "text/html": [
              "\n",
              "      <svg width=\"800\" height=\"600\">  \n",
              "        <rect width=\"100%\" height=\"100%\" style=\"fill:white;stroke:;stroke-width:1\"/>\n",
              "        \n",
              "        \n",
              "        <line x1=\"400.0\" y1=\"300.0\" x2=\"400.0\" y2=\"300.0\" stroke-linecap=\"round\" style=\"stroke:red;stroke-width:1\" /><line x1=\"400.0\" y1=\"300.0\" x2=\"399.983\" y2=\"299.0\" stroke-linecap=\"round\" style=\"stroke:yellow;stroke-width:1\" /><line x1=\"399.983\" y1=\"299.0\" x2=\"397.984\" y2=\"299.07\" stroke-linecap=\"round\" style=\"stroke:blue;stroke-width:1\" /><line x1=\"397.984\" y1=\"299.07\" x2=\"398.141\" y2=\"302.066\" stroke-linecap=\"round\" style=\"stroke:green;stroke-width:1\" /><line x1=\"398.141\" y1=\"302.066\" x2=\"402.131\" y2=\"301.787\" stroke-linecap=\"round\" style=\"stroke:red;stroke-width:1\" /><line x1=\"402.131\" y1=\"301.787\" x2=\"401.695\" y2=\"296.806\" stroke-linecap=\"round\" style=\"stroke:yellow;stroke-width:1\" /><line x1=\"401.695\" y1=\"296.806\" x2=\"395.728\" y2=\"297.433\" stroke-linecap=\"round\" style=\"stroke:blue;stroke-width:1\" /><line x1=\"395.728\" y1=\"297.433\" x2=\"396.581\" y2=\"304.381\" stroke-linecap=\"round\" style=\"stroke:green;stroke-width:1\" /><line x1=\"396.581\" y1=\"304.381\" x2=\"404.503\" y2=\"303.268\" stroke-linecap=\"round\" style=\"stroke:red;stroke-width:1\" /><line x1=\"404.503\" y1=\"303.268\" x2=\"403.095\" y2=\"294.379\" stroke-linecap=\"round\" style=\"stroke:yellow;stroke-width:1\" /><line x1=\"403.095\" y1=\"294.379\" x2=\"393.247\" y2=\"296.115\" stroke-linecap=\"round\" style=\"stroke:blue;stroke-width:1\" /><line x1=\"393.247\" y1=\"296.115\" x2=\"395.346\" y2=\"306.913\" stroke-linecap=\"round\" style=\"stroke:green;stroke-width:1\" /><line x1=\"395.346\" y1=\"306.913\" x2=\"407.084\" y2=\"304.418\" stroke-linecap=\"round\" style=\"stroke:red;stroke-width:1\" /><line x1=\"407.084\" y1=\"304.418\" x2=\"404.16\" y2=\"291.751\" stroke-linecap=\"round\" style=\"stroke:yellow;stroke-width:1\" /><line x1=\"404.16\" y1=\"291.751\" x2=\"390.576\" y2=\"295.138\" stroke-linecap=\"round\" style=\"stroke:blue;stroke-width:1\" /><line x1=\"390.576\" y1=\"295.138\" x2=\"394.458\" y2=\"309.627\" stroke-linecap=\"round\" style=\"stroke:green;stroke-width:1\" /><line x1=\"394.458\" y1=\"309.627\" x2=\"409.838\" y2=\"305.217\" stroke-linecap=\"round\" style=\"stroke:red;stroke-width:1\" /><line x1=\"409.838\" y1=\"305.217\" x2=\"404.868\" y2=\"288.96\" stroke-linecap=\"round\" style=\"stroke:yellow;stroke-width:1\" /><line x1=\"404.868\" y1=\"288.96\" x2=\"387.749\" y2=\"294.522\" stroke-linecap=\"round\" style=\"stroke:blue;stroke-width:1\" /><line x1=\"387.749\" y1=\"294.522\" x2=\"393.935\" y2=\"312.487\" stroke-linecap=\"round\" style=\"stroke:green;stroke-width:1\" /><line x1=\"393.935\" y1=\"312.487\" x2=\"412.729\" y2=\"305.647\" stroke-linecap=\"round\" style=\"stroke:red;stroke-width:1\" /><line x1=\"412.729\" y1=\"305.647\" x2=\"405.203\" y2=\"286.042\" stroke-linecap=\"round\" style=\"stroke:yellow;stroke-width:1\" /><line x1=\"405.203\" y1=\"286.042\" x2=\"384.805\" y2=\"294.283\" stroke-linecap=\"round\" style=\"stroke:blue;stroke-width:1\" /><line x1=\"384.805\" y1=\"294.283\" x2=\"393.792\" y2=\"315.455\" stroke-linecap=\"round\" style=\"stroke:green;stroke-width:1\" /><line x1=\"393.792\" y1=\"315.455\" x2=\"415.717\" y2=\"305.693\" stroke-linecap=\"round\" style=\"stroke:red;stroke-width:1\" /><line x1=\"415.717\" y1=\"305.693\" x2=\"405.152\" y2=\"283.035\" stroke-linecap=\"round\" style=\"stroke:yellow;stroke-width:1\" /><line x1=\"405.152\" y1=\"283.035\" x2=\"381.783\" y2=\"294.433\" stroke-linecap=\"round\" style=\"stroke:blue;stroke-width:1\" /><line x1=\"381.783\" y1=\"294.433\" x2=\"394.041\" y2=\"318.49\" stroke-linecap=\"round\" style=\"stroke:green;stroke-width:1\" /><line x1=\"394.041\" y1=\"318.49\" x2=\"418.764\" y2=\"305.345\" stroke-linecap=\"round\" style=\"stroke:red;stroke-width:1\" /><line x1=\"418.764\" y1=\"305.345\" x2=\"404.705\" y2=\"279.981\" stroke-linecap=\"round\" style=\"stroke:yellow;stroke-width:1\" /><line x1=\"404.705\" y1=\"279.981\" x2=\"378.724\" y2=\"294.981\" stroke-linecap=\"round\" style=\"stroke:blue;stroke-width:1\" /><line x1=\"378.724\" y1=\"294.981\" x2=\"394.69\" y2=\"321.553\" stroke-linecap=\"round\" style=\"stroke:green;stroke-width:1\" /><line x1=\"394.69\" y1=\"321.553\" x2=\"421.828\" y2=\"304.596\" stroke-linecap=\"round\" style=\"stroke:red;stroke-width:1\" /><line x1=\"421.828\" y1=\"304.596\" x2=\"403.855\" y2=\"276.92\" stroke-linecap=\"round\" style=\"stroke:yellow;stroke-width:1\" /><line x1=\"403.855\" y1=\"276.92\" x2=\"375.668\" y2=\"295.933\" stroke-linecap=\"round\" style=\"stroke:blue;stroke-width:1\" /><line x1=\"375.668\" y1=\"295.933\" x2=\"395.743\" y2=\"324.603\" stroke-linecap=\"round\" style=\"stroke:green;stroke-width:1\" /><line x1=\"395.743\" y1=\"324.603\" x2=\"424.868\" y2=\"303.443\" stroke-linecap=\"round\" style=\"stroke:red;stroke-width:1\" /><line x1=\"424.868\" y1=\"303.443\" x2=\"402.601\" y2=\"273.893\" stroke-linecap=\"round\" style=\"stroke:yellow;stroke-width:1\" /><line x1=\"402.601\" y1=\"273.893\" x2=\"372.657\" y2=\"297.288\" stroke-linecap=\"round\" style=\"stroke:blue;stroke-width:1\" /><line x1=\"372.657\" y1=\"297.288\" x2=\"397.2\" y2=\"327.597\" stroke-linecap=\"round\" style=\"stroke:green;stroke-width:1\" /><line x1=\"397.2\" y1=\"327.597\" x2=\"427.842\" y2=\"301.885\" stroke-linecap=\"round\" style=\"stroke:red;stroke-width:1\" /><line x1=\"427.842\" y1=\"301.885\" x2=\"400.944\" y2=\"270.942\" stroke-linecap=\"round\" style=\"stroke:yellow;stroke-width:1\" /><line x1=\"400.944\" y1=\"270.942\" x2=\"369.732\" y2=\"299.045\" stroke-linecap=\"round\" style=\"stroke:blue;stroke-width:1\" /><line x1=\"369.732\" y1=\"299.045\" x2=\"399.058\" y2=\"330.493\" stroke-linecap=\"round\" style=\"stroke:green;stroke-width:1\" /><line x1=\"399.058\" y1=\"330.493\" x2=\"430.709\" y2=\"299.928\" stroke-linecap=\"round\" style=\"stroke:red;stroke-width:1\" /><line x1=\"430.709\" y1=\"299.928\" x2=\"398.889\" y2=\"268.108\" stroke-linecap=\"round\" style=\"stroke:yellow;stroke-width:1\" /><line x1=\"398.889\" y1=\"268.108\" x2=\"366.935\" y2=\"301.198\" stroke-linecap=\"round\" style=\"stroke:blue;stroke-width:1\" /><line x1=\"366.935\" y1=\"301.198\" x2=\"401.309\" y2=\"333.252\" stroke-linecap=\"round\" style=\"stroke:green;stroke-width:1\" /><line x1=\"401.309\" y1=\"333.252\" x2=\"433.427\" y2=\"297.581\" stroke-linecap=\"round\" style=\"stroke:red;stroke-width:1\" /><line x1=\"433.427\" y1=\"297.581\" x2=\"396.446\" y2=\"265.434\" stroke-linecap=\"round\" style=\"stroke:yellow;stroke-width:1\" /><line x1=\"396.446\" y1=\"265.434\" x2=\"364.307\" y2=\"303.736\" stroke-linecap=\"round\" style=\"stroke:blue;stroke-width:1\" /><line x1=\"364.307\" y1=\"303.736\" x2=\"403.941\" y2=\"335.831\" stroke-linecap=\"round\" style=\"stroke:green;stroke-width:1\" /><line x1=\"403.941\" y1=\"335.831\" x2=\"435.955\" y2=\"294.854\" stroke-linecap=\"round\" style=\"stroke:red;stroke-width:1\" /><line x1=\"435.955\" y1=\"294.854\" x2=\"393.627\" y2=\"262.958\" stroke-linecap=\"round\" style=\"stroke:yellow;stroke-width:1\" /><line x1=\"393.627\" y1=\"262.958\" x2=\"361.887\" y2=\"306.645\" stroke-linecap=\"round\" style=\"stroke:blue;stroke-width:1\" /><line x1=\"361.887\" y1=\"306.645\" x2=\"406.94\" y2=\"338.192\" stroke-linecap=\"round\" style=\"stroke:green;stroke-width:1\" /><line x1=\"406.94\" y1=\"338.192\" x2=\"438.255\" y2=\"291.766\" stroke-linecap=\"round\" style=\"stroke:red;stroke-width:1\" /><line x1=\"438.255\" y1=\"291.766\" x2=\"390.451\" y2=\"260.722\" stroke-linecap=\"round\" style=\"stroke:yellow;stroke-width:1\" /><line x1=\"390.451\" y1=\"260.722\" x2=\"359.716\" y2=\"309.909\" stroke-linecap=\"round\" style=\"stroke:blue;stroke-width:1\" /><line x1=\"359.716\" y1=\"309.909\" x2=\"410.289\" y2=\"340.296\" stroke-linecap=\"round\" style=\"stroke:green;stroke-width:1\" /><line x1=\"410.289\" y1=\"340.296\" x2=\"440.289\" y2=\"288.334\" stroke-linecap=\"round\" style=\"stroke:red;stroke-width:1\" /><line x1=\"440.289\" y1=\"288.334\" x2=\"386.937\" y2=\"258.761\" stroke-linecap=\"round\" style=\"stroke:yellow;stroke-width:1\" /><line x1=\"386.937\" y1=\"258.761\" x2=\"357.83\" y2=\"313.504\" stroke-linecap=\"round\" style=\"stroke:blue;stroke-width:1\" /><line x1=\"357.83\" y1=\"313.504\" x2=\"413.963\" y2=\"342.105\" stroke-linecap=\"round\" style=\"stroke:green;stroke-width:1\" /><line x1=\"413.963\" y1=\"342.105\" x2=\"442.019\" y2=\"284.582\" stroke-linecap=\"round\" style=\"stroke:red;stroke-width:1\" /><line x1=\"442.019\" y1=\"284.582\" x2=\"383.109\" y2=\"257.112\" stroke-linecap=\"round\" style=\"stroke:yellow;stroke-width:1\" /><line x1=\"383.109\" y1=\"257.112\" x2=\"356.264\" y2=\"317.406\" stroke-linecap=\"round\" style=\"stroke:blue;stroke-width:1\" /><line x1=\"356.264\" y1=\"317.406\" x2=\"417.938\" y2=\"343.585\" stroke-linecap=\"round\" style=\"stroke:green;stroke-width:1\" /><line x1=\"417.938\" y1=\"343.585\" x2=\"443.411\" y2=\"280.536\" stroke-linecap=\"round\" style=\"stroke:red;stroke-width:1\" /><line x1=\"443.411\" y1=\"280.536\" x2=\"378.994\" y2=\"255.809\" stroke-linecap=\"round\" style=\"stroke:yellow;stroke-width:1\" /><line x1=\"378.994\" y1=\"255.809\" x2=\"355.053\" y2=\"321.587\" stroke-linecap=\"round\" style=\"stroke:blue;stroke-width:1\" /><line x1=\"355.053\" y1=\"321.587\" x2=\"422.185\" y2=\"344.702\" stroke-linecap=\"round\" style=\"stroke:green;stroke-width:1\" /><line x1=\"422.185\" y1=\"344.702\" x2=\"444.434\" y2=\"276.226\" stroke-linecap=\"round\" style=\"stroke:red;stroke-width:1\" /><line x1=\"444.434\" y1=\"276.226\" x2=\"374.624\" y2=\"254.883\" stroke-linecap=\"round\" style=\"stroke:yellow;stroke-width:1\" /><line x1=\"374.624\" y1=\"254.883\" x2=\"354.227\" y2=\"326.016\" stroke-linecap=\"round\" style=\"stroke:blue;stroke-width:1\" /><line x1=\"354.227\" y1=\"326.016\" x2=\"426.671\" y2=\"345.427\" stroke-linecap=\"round\" style=\"stroke:green;stroke-width:1\" /><line x1=\"426.671\" y1=\"345.427\" x2=\"445.057\" y2=\"271.685\" stroke-linecap=\"round\" style=\"stroke:red;stroke-width:1\" /><line x1=\"445.057\" y1=\"271.685\" x2=\"370.031\" y2=\"254.364\" stroke-linecap=\"round\" style=\"stroke:yellow;stroke-width:1\" /><line x1=\"370.031\" y1=\"254.364\" x2=\"353.814\" y2=\"330.66\" stroke-linecap=\"round\" style=\"stroke:blue;stroke-width:1\" /><line x1=\"353.814\" y1=\"330.66\" x2=\"431.363\" y2=\"345.734\" stroke-linecap=\"round\" style=\"stroke:green;stroke-width:1\" /><line x1=\"431.363\" y1=\"345.734\" x2=\"445.255\" y2=\"266.949\" stroke-linecap=\"round\" style=\"stroke:red;stroke-width:1\" /><line x1=\"445.255\" y1=\"266.949\" x2=\"365.252\" y2=\"254.278\" stroke-linecap=\"round\" style=\"stroke:yellow;stroke-width:1\" /><line x1=\"365.252\" y1=\"254.278\" x2=\"353.84\" y2=\"335.48\" stroke-linecap=\"round\" style=\"stroke:blue;stroke-width:1\" /><line x1=\"353.84\" y1=\"335.48\" x2=\"436.221\" y2=\"345.595\" stroke-linecap=\"round\" style=\"stroke:green;stroke-width:1\" /><line x1=\"436.221\" y1=\"345.595\" x2=\"445.001\" y2=\"262.055\" stroke-linecap=\"round\" style=\"stroke:red;stroke-width:1\" /><line x1=\"445.001\" y1=\"262.055\" x2=\"360.324\" y2=\"254.647\" stroke-linecap=\"round\" style=\"stroke:yellow;stroke-width:1\" /><line x1=\"360.324\" y1=\"254.647\" x2=\"354.325\" y2=\"340.438\" stroke-linecap=\"round\" style=\"stroke:blue;stroke-width:1\" /><line x1=\"354.325\" y1=\"340.438\" x2=\"441.206\" y2=\"344.991\" stroke-linecap=\"round\" style=\"stroke:green;stroke-width:1\" /><line x1=\"441.206\" y1=\"344.991\" x2=\"444.277\" y2=\"257.045\" stroke-linecap=\"round\" style=\"stroke:red;stroke-width:1\" /><line x1=\"444.277\" y1=\"257.045\" x2=\"355.291\" y2=\"255.492\" stroke-linecap=\"round\" style=\"stroke:yellow;stroke-width:1\" /><line x1=\"355.291\" y1=\"255.492\" x2=\"355.291\" y2=\"345.492\" stroke-linecap=\"round\" style=\"stroke:blue;stroke-width:1\" /><line x1=\"355.291\" y1=\"345.492\" x2=\"446.277\" y2=\"343.904\" stroke-linecap=\"round\" style=\"stroke:green;stroke-width:1\" /><line x1=\"446.277\" y1=\"343.904\" x2=\"443.066\" y2=\"251.96\" stroke-linecap=\"round\" style=\"stroke:red;stroke-width:1\" /><line x1=\"443.066\" y1=\"251.96\" x2=\"350.193\" y2=\"256.827\" stroke-linecap=\"round\" style=\"stroke:yellow;stroke-width:1\" /><line x1=\"350.193\" y1=\"256.827\" x2=\"356.75\" y2=\"350.598\" stroke-linecap=\"round\" style=\"stroke:blue;stroke-width:1\" /><line x1=\"356.75\" y1=\"350.598\" x2=\"451.388\" y2=\"342.318\" stroke-linecap=\"round\" style=\"stroke:green;stroke-width:1\" /><line x1=\"451.388\" y1=\"342.318\" x2=\"441.353\" y2=\"246.844\" stroke-linecap=\"round\" style=\"stroke:red;stroke-width:1\" /><line x1=\"441.353\" y1=\"246.844\" x2=\"345.076\" y2=\"258.665\" stroke-linecap=\"round\" style=\"stroke:yellow;stroke-width:1\" /><line x1=\"345.076\" y1=\"258.665\" x2=\"358.715\" y2=\"355.711\" stroke-linecap=\"round\" style=\"stroke:blue;stroke-width:1\" /><line x1=\"358.715\" y1=\"355.711\" x2=\"456.496\" y2=\"340.224\" stroke-linecap=\"round\" style=\"stroke:green;stroke-width:1\" />\n",
              "        \n",
              "        \n",
              "        <g id=\"classic\" visibility=\"visible\" transform=\"rotate(261,456.496,340.224) translate(456.496, 340.224)\">\n",
              "<polygon points=\"-5,-4.5 0,-2.5 5,-4.5 0,4.5\" transform=\"skewX(0) scale(1,1)\" style=\"stroke:green;fill:black;stroke-width:1\" />\n",
              "<animateTransform id = \"one\" attributeName=\"transform\" \n",
              "                      type=\"scale\"\n",
              "                      from=\"1 1\" to=\"1 1\"\n",
              "                      begin=\"0s\" dur=\"0.01s\"\n",
              "                      repeatCount=\"1\"\n",
              "                      additive=\"sum\"\n",
              "                      fill=\"freeze\"\n",
              "                /><animateTransform attributeName=\"transform\"\n",
              "                    type=\"rotate\"\n",
              "                    from=\"0 0 0\" to =\"-91 0 0\"\n",
              "                    begin=\"one.end\" dur=\"0.025277777777777777s\"\n",
              "                    repeatCount=\"1\"\n",
              "                    additive=\"sum\"\n",
              "                    fill=\"freeze\"\n",
              "                /></g>\n",
              "      </svg>\n",
              "    "
            ]
          },
          "metadata": {}
        }
      ]
    },
    {
      "cell_type": "code",
      "source": [
        "t.reset()\n",
        "turtle.bgcolor(\"black\")\n",
        "colors = [\"red\", \"yellow\", \"blue\", \"green\"]\n",
        "for x in range(1,100):\n",
        "  t.pencolor(colors[x%4])\n",
        "  t.circle(x)\n",
        "  t.left(91)"
      ],
      "metadata": {
        "id": "T5b9UZHHKiL2",
        "outputId": "2d591242-58f8-4160-e269-a1c91263ab6a",
        "colab": {
          "base_uri": "https://localhost:8080/",
          "height": 621
        }
      },
      "execution_count": 17,
      "outputs": [
        {
          "output_type": "display_data",
          "data": {
            "text/plain": [
              "<IPython.core.display.HTML object>"
            ],
            "text/html": [
              "\n",
              "      <svg width=\"800\" height=\"600\">  \n",
              "        <rect width=\"100%\" height=\"100%\" style=\"fill:black;stroke:;stroke-width:1\"/>\n",
              "        \n",
              "        \n",
              "        <path d=\"M 400.0 300.0 A 1 1 0 0 0 400.0 298.0\" stroke-linecap=\"round\" \n",
              "            fill=\"transparent\" fill-opacity=\"0\" style=\"stroke:yellow;stroke-width:1\"/><path d=\"M 400.0 298.0 A 1 1 0 0 0 400.0 300.0\" stroke-linecap=\"round\" \n",
              "            fill=\"transparent\" fill-opacity=\"0\" style=\"stroke:yellow;stroke-width:1\"/><path d=\"M 400.0 300.0 A 2 2 0 0 0 396.001 300.07\" stroke-linecap=\"round\" \n",
              "            fill=\"transparent\" fill-opacity=\"0\" style=\"stroke:blue;stroke-width:1\"/><path d=\"M 396.001 300.07 A 2 2 0 0 0 400.0 300.0\" stroke-linecap=\"round\" \n",
              "            fill=\"transparent\" fill-opacity=\"0\" style=\"stroke:blue;stroke-width:1\"/><path d=\"M 400.0 300.0 A 3 3 0 0 0 400.209 305.996\" stroke-linecap=\"round\" \n",
              "            fill=\"transparent\" fill-opacity=\"0\" style=\"stroke:green;stroke-width:1\"/><path d=\"M 400.209 305.996 A 3 3 0 0 0 400.0 300.0\" stroke-linecap=\"round\" \n",
              "            fill=\"transparent\" fill-opacity=\"0\" style=\"stroke:green;stroke-width:1\"/><path d=\"M 400.0 300.0 A 4 4 0 0 0 407.989 299.581\" stroke-linecap=\"round\" \n",
              "            fill=\"transparent\" fill-opacity=\"0\" style=\"stroke:red;stroke-width:1\"/><path d=\"M 407.989 299.581 A 4 4 0 0 0 400.0 300.0\" stroke-linecap=\"round\" \n",
              "            fill=\"transparent\" fill-opacity=\"0\" style=\"stroke:red;stroke-width:1\"/><path d=\"M 400.0 300.0 A 5 5 0 0 0 399.302 290.024\" stroke-linecap=\"round\" \n",
              "            fill=\"transparent\" fill-opacity=\"0\" style=\"stroke:yellow;stroke-width:1\"/><path d=\"M 399.302 290.024 A 5 5 0 0 0 400.0 300.0\" stroke-linecap=\"round\" \n",
              "            fill=\"transparent\" fill-opacity=\"0\" style=\"stroke:yellow;stroke-width:1\"/><path d=\"M 400.0 300.0 A 6 6 0 0 0 388.046 301.046\" stroke-linecap=\"round\" \n",
              "            fill=\"transparent\" fill-opacity=\"0\" style=\"stroke:blue;stroke-width:1\"/><path d=\"M 388.046 301.046 A 6 6 0 0 0 400.0 300.0\" stroke-linecap=\"round\" \n",
              "            fill=\"transparent\" fill-opacity=\"0\" style=\"stroke:blue;stroke-width:1\"/><path d=\"M 400.0 300.0 A 7 7 0 0 0 401.463 313.923\" stroke-linecap=\"round\" \n",
              "            fill=\"transparent\" fill-opacity=\"0\" style=\"stroke:green;stroke-width:1\"/><path d=\"M 401.463 313.923 A 7 7 0 0 0 400.0 300.0\" stroke-linecap=\"round\" \n",
              "            fill=\"transparent\" fill-opacity=\"0\" style=\"stroke:green;stroke-width:1\"/><path d=\"M 400.0 300.0 A 8 8 0 0 0 415.881 298.05\" stroke-linecap=\"round\" \n",
              "            fill=\"transparent\" fill-opacity=\"0\" style=\"stroke:red;stroke-width:1\"/><path d=\"M 415.881 298.05 A 8 8 0 0 0 400.0 300.0\" stroke-linecap=\"round\" \n",
              "            fill=\"transparent\" fill-opacity=\"0\" style=\"stroke:red;stroke-width:1\"/><path d=\"M 400.0 300.0 A 9 9 0 0 0 397.495 282.175\" stroke-linecap=\"round\" \n",
              "            fill=\"transparent\" fill-opacity=\"0\" style=\"stroke:yellow;stroke-width:1\"/><path d=\"M 397.495 282.175 A 9 9 0 0 0 400.0 300.0\" stroke-linecap=\"round\" \n",
              "            fill=\"transparent\" fill-opacity=\"0\" style=\"stroke:yellow;stroke-width:1\"/><path d=\"M 400.0 300.0 A 10 10 0 0 0 380.246 303.129\" stroke-linecap=\"round\" \n",
              "            fill=\"transparent\" fill-opacity=\"0\" style=\"stroke:blue;stroke-width:1\"/><path d=\"M 380.246 303.129 A 10 10 0 0 0 400.0 300.0\" stroke-linecap=\"round\" \n",
              "            fill=\"transparent\" fill-opacity=\"0\" style=\"stroke:blue;stroke-width:1\"/><path d=\"M 400.0 300.0 A 11 11 0 0 0 403.82 321.666\" stroke-linecap=\"round\" \n",
              "            fill=\"transparent\" fill-opacity=\"0\" style=\"stroke:green;stroke-width:1\"/><path d=\"M 403.82 321.666 A 11 11 0 0 0 400.0 300.0\" stroke-linecap=\"round\" \n",
              "            fill=\"transparent\" fill-opacity=\"0\" style=\"stroke:green;stroke-width:1\"/><path d=\"M 400.0 300.0 A 12 12 0 0 0 423.559 295.421\" stroke-linecap=\"round\" \n",
              "            fill=\"transparent\" fill-opacity=\"0\" style=\"stroke:red;stroke-width:1\"/><path d=\"M 423.559 295.421 A 12 12 0 0 0 400.0 300.0\" stroke-linecap=\"round\" \n",
              "            fill=\"transparent\" fill-opacity=\"0\" style=\"stroke:red;stroke-width:1\"/><path d=\"M 400.0 300.0 A 13 13 0 0 0 394.594 274.568\" stroke-linecap=\"round\" \n",
              "            fill=\"transparent\" fill-opacity=\"0\" style=\"stroke:yellow;stroke-width:1\"/><path d=\"M 394.594 274.568 A 13 13 0 0 0 400.0 300.0\" stroke-linecap=\"round\" \n",
              "            fill=\"transparent\" fill-opacity=\"0\" style=\"stroke:yellow;stroke-width:1\"/><path d=\"M 400.0 300.0 A 14 14 0 0 0 372.718 306.299\" stroke-linecap=\"round\" \n",
              "            fill=\"transparent\" fill-opacity=\"0\" style=\"stroke:blue;stroke-width:1\"/><path d=\"M 372.718 306.299 A 14 14 0 0 0 400.0 300.0\" stroke-linecap=\"round\" \n",
              "            fill=\"transparent\" fill-opacity=\"0\" style=\"stroke:blue;stroke-width:1\"/><path d=\"M 400.0 300.0 A 15 15 0 0 0 407.258 329.109\" stroke-linecap=\"round\" \n",
              "            fill=\"transparent\" fill-opacity=\"0\" style=\"stroke:green;stroke-width:1\"/><path d=\"M 407.258 329.109 A 15 15 0 0 0 400.0 300.0\" stroke-linecap=\"round\" \n",
              "            fill=\"transparent\" fill-opacity=\"0\" style=\"stroke:green;stroke-width:1\"/><path d=\"M 400.0 300.0 A 16 16 0 0 0 430.91 291.718\" stroke-linecap=\"round\" \n",
              "            fill=\"transparent\" fill-opacity=\"0\" style=\"stroke:red;stroke-width:1\"/><path d=\"M 430.91 291.718 A 16 16 0 0 0 400.0 300.0\" stroke-linecap=\"round\" \n",
              "            fill=\"transparent\" fill-opacity=\"0\" style=\"stroke:red;stroke-width:1\"/><path d=\"M 400.0 300.0 A 17 17 0 0 0 390.628 267.317\" stroke-linecap=\"round\" \n",
              "            fill=\"transparent\" fill-opacity=\"0\" style=\"stroke:yellow;stroke-width:1\"/><path d=\"M 390.628 267.317 A 17 17 0 0 0 400.0 300.0\" stroke-linecap=\"round\" \n",
              "            fill=\"transparent\" fill-opacity=\"0\" style=\"stroke:yellow;stroke-width:1\"/><path d=\"M 400.0 300.0 A 18 18 0 0 0 365.573 310.525\" stroke-linecap=\"round\" \n",
              "            fill=\"transparent\" fill-opacity=\"0\" style=\"stroke:blue;stroke-width:1\"/><path d=\"M 365.573 310.525 A 18 18 0 0 0 400.0 300.0\" stroke-linecap=\"round\" \n",
              "            fill=\"transparent\" fill-opacity=\"0\" style=\"stroke:blue;stroke-width:1\"/><path d=\"M 400.0 300.0 A 19 19 0 0 0 411.743 336.14\" stroke-linecap=\"round\" \n",
              "            fill=\"transparent\" fill-opacity=\"0\" style=\"stroke:green;stroke-width:1\"/><path d=\"M 411.743 336.14 A 19 19 0 0 0 400.0 300.0\" stroke-linecap=\"round\" \n",
              "            fill=\"transparent\" fill-opacity=\"0\" style=\"stroke:green;stroke-width:1\"/><path d=\"M 400.0 300.0 A 20 20 0 0 0 437.821 286.977\" stroke-linecap=\"round\" \n",
              "            fill=\"transparent\" fill-opacity=\"0\" style=\"stroke:red;stroke-width:1\"/><path d=\"M 437.821 286.977 A 20 20 0 0 0 400.0 300.0\" stroke-linecap=\"round\" \n",
              "            fill=\"transparent\" fill-opacity=\"0\" style=\"stroke:red;stroke-width:1\"/><path d=\"M 400.0 300.0 A 21 21 0 0 0 385.635 260.533\" stroke-linecap=\"round\" \n",
              "            fill=\"transparent\" fill-opacity=\"0\" style=\"stroke:yellow;stroke-width:1\"/><path d=\"M 385.635 260.533 A 21 21 0 0 0 400.0 300.0\" stroke-linecap=\"round\" \n",
              "            fill=\"transparent\" fill-opacity=\"0\" style=\"stroke:yellow;stroke-width:1\"/><path d=\"M 400.0 300.0 A 22 22 0 0 0 358.922 315.768\" stroke-linecap=\"round\" \n",
              "            fill=\"transparent\" fill-opacity=\"0\" style=\"stroke:blue;stroke-width:1\"/><path d=\"M 358.922 315.768 A 22 22 0 0 0 400.0 300.0\" stroke-linecap=\"round\" \n",
              "            fill=\"transparent\" fill-opacity=\"0\" style=\"stroke:blue;stroke-width:1\"/><path d=\"M 400.0 300.0 A 23 23 0 0 0 417.232 342.65\" stroke-linecap=\"round\" \n",
              "            fill=\"transparent\" fill-opacity=\"0\" style=\"stroke:green;stroke-width:1\"/><path d=\"M 417.232 342.65 A 23 23 0 0 0 400.0 300.0\" stroke-linecap=\"round\" \n",
              "            fill=\"transparent\" fill-opacity=\"0\" style=\"stroke:green;stroke-width:1\"/><path d=\"M 400.0 300.0 A 24 24 0 0 0 444.184 281.245\" stroke-linecap=\"round\" \n",
              "            fill=\"transparent\" fill-opacity=\"0\" style=\"stroke:red;stroke-width:1\"/><path d=\"M 444.184 281.245 A 24 24 0 0 0 400.0 300.0\" stroke-linecap=\"round\" \n",
              "            fill=\"transparent\" fill-opacity=\"0\" style=\"stroke:red;stroke-width:1\"/><path d=\"M 400.0 300.0 A 25 25 0 0 0 379.663 254.323\" stroke-linecap=\"round\" \n",
              "            fill=\"transparent\" fill-opacity=\"0\" style=\"stroke:yellow;stroke-width:1\"/><path d=\"M 379.663 254.323 A 25 25 0 0 0 400.0 300.0\" stroke-linecap=\"round\" \n",
              "            fill=\"transparent\" fill-opacity=\"0\" style=\"stroke:yellow;stroke-width:1\"/><path d=\"M 400.0 300.0 A 26 26 0 0 0 352.872 321.976\" stroke-linecap=\"round\" \n",
              "            fill=\"transparent\" fill-opacity=\"0\" style=\"stroke:blue;stroke-width:1\"/><path d=\"M 352.872 321.976 A 26 26 0 0 0 400.0 300.0\" stroke-linecap=\"round\" \n",
              "            fill=\"transparent\" fill-opacity=\"0\" style=\"stroke:blue;stroke-width:1\"/><path d=\"M 400.0 300.0 A 27 27 0 0 0 423.672 348.535\" stroke-linecap=\"round\" \n",
              "            fill=\"transparent\" fill-opacity=\"0\" style=\"stroke:green;stroke-width:1\"/><path d=\"M 423.672 348.535 A 27 27 0 0 0 400.0 300.0\" stroke-linecap=\"round\" \n",
              "            fill=\"transparent\" fill-opacity=\"0\" style=\"stroke:green;stroke-width:1\"/><path d=\"M 400.0 300.0 A 28 28 0 0 0 449.896 274.577\" stroke-linecap=\"round\" \n",
              "            fill=\"transparent\" fill-opacity=\"0\" style=\"stroke:red;stroke-width:1\"/><path d=\"M 449.896 274.577 A 28 28 0 0 0 400.0 300.0\" stroke-linecap=\"round\" \n",
              "            fill=\"transparent\" fill-opacity=\"0\" style=\"stroke:red;stroke-width:1\"/><path d=\"M 400.0 300.0 A 29 29 0 0 0 372.771 248.789\" stroke-linecap=\"round\" \n",
              "            fill=\"transparent\" fill-opacity=\"0\" style=\"stroke:yellow;stroke-width:1\"/><path d=\"M 372.771 248.789 A 29 29 0 0 0 400.0 300.0\" stroke-linecap=\"round\" \n",
              "            fill=\"transparent\" fill-opacity=\"0\" style=\"stroke:yellow;stroke-width:1\"/><path d=\"M 400.0 300.0 A 30 30 0 0 0 347.523 329.089\" stroke-linecap=\"round\" \n",
              "            fill=\"transparent\" fill-opacity=\"0\" style=\"stroke:blue;stroke-width:1\"/><path d=\"M 347.523 329.089 A 30 30 0 0 0 400.0 300.0\" stroke-linecap=\"round\" \n",
              "            fill=\"transparent\" fill-opacity=\"0\" style=\"stroke:blue;stroke-width:1\"/><path d=\"M 400.0 300.0 A 31 31 0 0 0 431.0 353.694\" stroke-linecap=\"round\" \n",
              "            fill=\"transparent\" fill-opacity=\"0\" style=\"stroke:green;stroke-width:1\"/><path d=\"M 431.0 353.694 A 31 31 0 0 0 400.0 300.0\" stroke-linecap=\"round\" \n",
              "            fill=\"transparent\" fill-opacity=\"0\" style=\"stroke:green;stroke-width:1\"/><path d=\"M 400.0 300.0 A 32 32 0 0 0 454.859 267.038\" stroke-linecap=\"round\" \n",
              "            fill=\"transparent\" fill-opacity=\"0\" style=\"stroke:red;stroke-width:1\"/><path d=\"M 454.859 267.038 A 32 32 0 0 0 400.0 300.0\" stroke-linecap=\"round\" \n",
              "            fill=\"transparent\" fill-opacity=\"0\" style=\"stroke:red;stroke-width:1\"/><path d=\"M 400.0 300.0 A 33 33 0 0 0 365.025 244.029\" stroke-linecap=\"round\" \n",
              "            fill=\"transparent\" fill-opacity=\"0\" style=\"stroke:yellow;stroke-width:1\"/><path d=\"M 365.025 244.029 A 33 33 0 0 0 400.0 300.0\" stroke-linecap=\"round\" \n",
              "            fill=\"transparent\" fill-opacity=\"0\" style=\"stroke:yellow;stroke-width:1\"/><path d=\"M 400.0 300.0 A 34 34 0 0 0 342.97 337.035\" stroke-linecap=\"round\" \n",
              "            fill=\"transparent\" fill-opacity=\"0\" style=\"stroke:blue;stroke-width:1\"/><path d=\"M 342.97 337.035 A 34 34 0 0 0 400.0 300.0\" stroke-linecap=\"round\" \n",
              "            fill=\"transparent\" fill-opacity=\"0\" style=\"stroke:blue;stroke-width:1\"/><path d=\"M 400.0 300.0 A 35 35 0 0 0 439.144 358.033\" stroke-linecap=\"round\" \n",
              "            fill=\"transparent\" fill-opacity=\"0\" style=\"stroke:green;stroke-width:1\"/><path d=\"M 439.144 358.033 A 35 35 0 0 0 400.0 300.0\" stroke-linecap=\"round\" \n",
              "            fill=\"transparent\" fill-opacity=\"0\" style=\"stroke:green;stroke-width:1\"/><path d=\"M 400.0 300.0 A 36 36 0 0 0 458.979 258.702\" stroke-linecap=\"round\" \n",
              "            fill=\"transparent\" fill-opacity=\"0\" style=\"stroke:red;stroke-width:1\"/><path d=\"M 458.979 258.702 A 36 36 0 0 0 400.0 300.0\" stroke-linecap=\"round\" \n",
              "            fill=\"transparent\" fill-opacity=\"0\" style=\"stroke:red;stroke-width:1\"/><path d=\"M 400.0 300.0 A 37 37 0 0 0 356.504 240.133\" stroke-linecap=\"round\" \n",
              "            fill=\"transparent\" fill-opacity=\"0\" style=\"stroke:yellow;stroke-width:1\"/><path d=\"M 356.504 240.133 A 37 37 0 0 0 400.0 300.0\" stroke-linecap=\"round\" \n",
              "            fill=\"transparent\" fill-opacity=\"0\" style=\"stroke:yellow;stroke-width:1\"/><path d=\"M 400.0 300.0 A 38 38 0 0 0 339.304 345.738\" stroke-linecap=\"round\" \n",
              "            fill=\"transparent\" fill-opacity=\"0\" style=\"stroke:blue;stroke-width:1\"/><path d=\"M 339.304 345.738 A 38 38 0 0 0 400.0 300.0\" stroke-linecap=\"round\" \n",
              "            fill=\"transparent\" fill-opacity=\"0\" style=\"stroke:blue;stroke-width:1\"/><path d=\"M 400.0 300.0 A 39 39 0 0 0 448.022 361.465\" stroke-linecap=\"round\" \n",
              "            fill=\"transparent\" fill-opacity=\"0\" style=\"stroke:green;stroke-width:1\"/><path d=\"M 448.022 361.465 A 39 39 0 0 0 400.0 300.0\" stroke-linecap=\"round\" \n",
              "            fill=\"transparent\" fill-opacity=\"0\" style=\"stroke:green;stroke-width:1\"/><path d=\"M 400.0 300.0 A 40 40 0 0 0 462.172 249.654\" stroke-linecap=\"round\" \n",
              "            fill=\"transparent\" fill-opacity=\"0\" style=\"stroke:red;stroke-width:1\"/><path d=\"M 462.172 249.654 A 40 40 0 0 0 400.0 300.0\" stroke-linecap=\"round\" \n",
              "            fill=\"transparent\" fill-opacity=\"0\" style=\"stroke:red;stroke-width:1\"/><path d=\"M 400.0 300.0 A 41 41 0 0 0 347.291 237.184\" stroke-linecap=\"round\" \n",
              "            fill=\"transparent\" fill-opacity=\"0\" style=\"stroke:yellow;stroke-width:1\"/><path d=\"M 347.291 237.184 A 41 41 0 0 0 400.0 300.0\" stroke-linecap=\"round\" \n",
              "            fill=\"transparent\" fill-opacity=\"0\" style=\"stroke:yellow;stroke-width:1\"/><path d=\"M 400.0 300.0 A 42 42 0 0 0 336.604 355.109\" stroke-linecap=\"round\" \n",
              "            fill=\"transparent\" fill-opacity=\"0\" style=\"stroke:blue;stroke-width:1\"/><path d=\"M 336.604 355.109 A 42 42 0 0 0 400.0 300.0\" stroke-linecap=\"round\" \n",
              "            fill=\"transparent\" fill-opacity=\"0\" style=\"stroke:blue;stroke-width:1\"/><path d=\"M 400.0 300.0 A 43 43 0 0 0 457.545 363.91\" stroke-linecap=\"round\" \n",
              "            fill=\"transparent\" fill-opacity=\"0\" style=\"stroke:green;stroke-width:1\"/><path d=\"M 457.545 363.91 A 43 43 0 0 0 400.0 300.0\" stroke-linecap=\"round\" \n",
              "            fill=\"transparent\" fill-opacity=\"0\" style=\"stroke:green;stroke-width:1\"/><path d=\"M 400.0 300.0 A 44 44 0 0 0 464.359 239.984\" stroke-linecap=\"round\" \n",
              "            fill=\"transparent\" fill-opacity=\"0\" style=\"stroke:red;stroke-width:1\"/><path d=\"M 464.359 239.984 A 44 44 0 0 0 400.0 300.0\" stroke-linecap=\"round\" \n",
              "            fill=\"transparent\" fill-opacity=\"0\" style=\"stroke:red;stroke-width:1\"/><path d=\"M 400.0 300.0 A 45 45 0 0 0 337.481 235.259\" stroke-linecap=\"round\" \n",
              "            fill=\"transparent\" fill-opacity=\"0\" style=\"stroke:yellow;stroke-width:1\"/><path d=\"M 337.481 235.259 A 45 45 0 0 0 400.0 300.0\" stroke-linecap=\"round\" \n",
              "            fill=\"transparent\" fill-opacity=\"0\" style=\"stroke:yellow;stroke-width:1\"/><path d=\"M 400.0 300.0 A 46 46 0 0 0 334.946 365.054\" stroke-linecap=\"round\" \n",
              "            fill=\"transparent\" fill-opacity=\"0\" style=\"stroke:blue;stroke-width:1\"/><path d=\"M 334.946 365.054 A 46 46 0 0 0 400.0 300.0\" stroke-linecap=\"round\" \n",
              "            fill=\"transparent\" fill-opacity=\"0\" style=\"stroke:blue;stroke-width:1\"/><path d=\"M 400.0 300.0 A 47 47 0 0 0 467.618 365.298\" stroke-linecap=\"round\" \n",
              "            fill=\"transparent\" fill-opacity=\"0\" style=\"stroke:green;stroke-width:1\"/><path d=\"M 467.618 365.298 A 47 47 0 0 0 400.0 300.0\" stroke-linecap=\"round\" \n",
              "            fill=\"transparent\" fill-opacity=\"0\" style=\"stroke:green;stroke-width:1\"/><path d=\"M 400.0 300.0 A 48 48 0 0 0 465.472 229.79\" stroke-linecap=\"round\" \n",
              "            fill=\"transparent\" fill-opacity=\"0\" style=\"stroke:red;stroke-width:1\"/><path d=\"M 465.472 229.79 A 48 48 0 0 0 400.0 300.0\" stroke-linecap=\"round\" \n",
              "            fill=\"transparent\" fill-opacity=\"0\" style=\"stroke:red;stroke-width:1\"/><path d=\"M 400.0 300.0 A 49 49 0 0 0 327.172 234.425\" stroke-linecap=\"round\" \n",
              "            fill=\"transparent\" fill-opacity=\"0\" style=\"stroke:yellow;stroke-width:1\"/><path d=\"M 327.172 234.425 A 49 49 0 0 0 400.0 300.0\" stroke-linecap=\"round\" \n",
              "            fill=\"transparent\" fill-opacity=\"0\" style=\"stroke:yellow;stroke-width:1\"/><path d=\"M 400.0 300.0 A 50 50 0 0 0 334.394 375.471\" stroke-linecap=\"round\" \n",
              "            fill=\"transparent\" fill-opacity=\"0\" style=\"stroke:blue;stroke-width:1\"/><path d=\"M 334.394 375.471 A 50 50 0 0 0 400.0 300.0\" stroke-linecap=\"round\" \n",
              "            fill=\"transparent\" fill-opacity=\"0\" style=\"stroke:blue;stroke-width:1\"/><path d=\"M 400.0 300.0 A 51 51 0 0 0 478.137 365.564\" stroke-linecap=\"round\" \n",
              "            fill=\"transparent\" fill-opacity=\"0\" style=\"stroke:green;stroke-width:1\"/><path d=\"M 478.137 365.564 A 51 51 0 0 0 400.0 300.0\" stroke-linecap=\"round\" \n",
              "            fill=\"transparent\" fill-opacity=\"0\" style=\"stroke:green;stroke-width:1\"/><path d=\"M 400.0 300.0 A 52 52 0 0 0 465.449 219.177\" stroke-linecap=\"round\" \n",
              "            fill=\"transparent\" fill-opacity=\"0\" style=\"stroke:red;stroke-width:1\"/><path d=\"M 465.449 219.177 A 52 52 0 0 0 400.0 300.0\" stroke-linecap=\"round\" \n",
              "            fill=\"transparent\" fill-opacity=\"0\" style=\"stroke:red;stroke-width:1\"/><path d=\"M 400.0 300.0 A 53 53 0 0 0 316.471 234.74\" stroke-linecap=\"round\" \n",
              "            fill=\"transparent\" fill-opacity=\"0\" style=\"stroke:yellow;stroke-width:1\"/><path d=\"M 316.471 234.74 A 53 53 0 0 0 400.0 300.0\" stroke-linecap=\"round\" \n",
              "            fill=\"transparent\" fill-opacity=\"0\" style=\"stroke:yellow;stroke-width:1\"/><path d=\"M 400.0 300.0 A 54 54 0 0 0 335.004 386.253\" stroke-linecap=\"round\" \n",
              "            fill=\"transparent\" fill-opacity=\"0\" style=\"stroke:blue;stroke-width:1\"/><path d=\"M 335.004 386.253 A 54 54 0 0 0 400.0 300.0\" stroke-linecap=\"round\" \n",
              "            fill=\"transparent\" fill-opacity=\"0\" style=\"stroke:blue;stroke-width:1\"/><path d=\"M 400.0 300.0 A 55 55 0 0 0 488.992 364.656\" stroke-linecap=\"round\" \n",
              "            fill=\"transparent\" fill-opacity=\"0\" style=\"stroke:green;stroke-width:1\"/><path d=\"M 488.992 364.656 A 55 55 0 0 0 400.0 300.0\" stroke-linecap=\"round\" \n",
              "            fill=\"transparent\" fill-opacity=\"0\" style=\"stroke:green;stroke-width:1\"/><path d=\"M 400.0 300.0 A 56 56 0 0 0 464.241 208.255\" stroke-linecap=\"round\" \n",
              "            fill=\"transparent\" fill-opacity=\"0\" style=\"stroke:red;stroke-width:1\"/><path d=\"M 464.241 208.255 A 56 56 0 0 0 400.0 300.0\" stroke-linecap=\"round\" \n",
              "            fill=\"transparent\" fill-opacity=\"0\" style=\"stroke:red;stroke-width:1\"/><path d=\"M 400.0 300.0 A 57 57 0 0 0 305.49 236.252\" stroke-linecap=\"round\" \n",
              "            fill=\"transparent\" fill-opacity=\"0\" style=\"stroke:yellow;stroke-width:1\"/><path d=\"M 305.49 236.252 A 57 57 0 0 0 400.0 300.0\" stroke-linecap=\"round\" \n",
              "            fill=\"transparent\" fill-opacity=\"0\" style=\"stroke:yellow;stroke-width:1\"/><path d=\"M 400.0 300.0 A 58 58 0 0 0 336.822 397.286\" stroke-linecap=\"round\" \n",
              "            fill=\"transparent\" fill-opacity=\"0\" style=\"stroke:blue;stroke-width:1\"/><path d=\"M 336.822 397.286 A 58 58 0 0 0 400.0 300.0\" stroke-linecap=\"round\" \n",
              "            fill=\"transparent\" fill-opacity=\"0\" style=\"stroke:blue;stroke-width:1\"/><path d=\"M 400.0 300.0 A 59 59 0 0 0 500.07 362.53\" stroke-linecap=\"round\" \n",
              "            fill=\"transparent\" fill-opacity=\"0\" style=\"stroke:green;stroke-width:1\"/><path d=\"M 500.07 362.53 A 59 59 0 0 0 400.0 300.0\" stroke-linecap=\"round\" \n",
              "            fill=\"transparent\" fill-opacity=\"0\" style=\"stroke:green;stroke-width:1\"/><path d=\"M 400.0 300.0 A 60 60 0 0 0 461.805 197.14\" stroke-linecap=\"round\" \n",
              "            fill=\"transparent\" fill-opacity=\"0\" style=\"stroke:red;stroke-width:1\"/><path d=\"M 461.805 197.14 A 60 60 0 0 0 400.0 300.0\" stroke-linecap=\"round\" \n",
              "            fill=\"transparent\" fill-opacity=\"0\" style=\"stroke:red;stroke-width:1\"/><path d=\"M 400.0 300.0 A 61 61 0 0 0 294.345 239.0\" stroke-linecap=\"round\" \n",
              "            fill=\"transparent\" fill-opacity=\"0\" style=\"stroke:yellow;stroke-width:1\"/><path d=\"M 294.345 239.0 A 61 61 0 0 0 400.0 300.0\" stroke-linecap=\"round\" \n",
              "            fill=\"transparent\" fill-opacity=\"0\" style=\"stroke:yellow;stroke-width:1\"/><path d=\"M 400.0 300.0 A 62 62 0 0 0 339.884 408.453\" stroke-linecap=\"round\" \n",
              "            fill=\"transparent\" fill-opacity=\"0\" style=\"stroke:blue;stroke-width:1\"/><path d=\"M 339.884 408.453 A 62 62 0 0 0 400.0 300.0\" stroke-linecap=\"round\" \n",
              "            fill=\"transparent\" fill-opacity=\"0\" style=\"stroke:blue;stroke-width:1\"/><path d=\"M 400.0 300.0 A 63 63 0 0 0 511.251 359.153\" stroke-linecap=\"round\" \n",
              "            fill=\"transparent\" fill-opacity=\"0\" style=\"stroke:green;stroke-width:1\"/><path d=\"M 511.251 359.153 A 63 63 0 0 0 400.0 300.0\" stroke-linecap=\"round\" \n",
              "            fill=\"transparent\" fill-opacity=\"0\" style=\"stroke:green;stroke-width:1\"/><path d=\"M 400.0 300.0 A 64 64 0 0 0 458.111 185.951\" stroke-linecap=\"round\" \n",
              "            fill=\"transparent\" fill-opacity=\"0\" style=\"stroke:red;stroke-width:1\"/><path d=\"M 458.111 185.951 A 64 64 0 0 0 400.0 300.0\" stroke-linecap=\"round\" \n",
              "            fill=\"transparent\" fill-opacity=\"0\" style=\"stroke:red;stroke-width:1\"/><path d=\"M 400.0 300.0 A 65 65 0 0 0 283.157 243.012\" stroke-linecap=\"round\" \n",
              "            fill=\"transparent\" fill-opacity=\"0\" style=\"stroke:yellow;stroke-width:1\"/><path d=\"M 283.157 243.012 A 65 65 0 0 0 400.0 300.0\" stroke-linecap=\"round\" \n",
              "            fill=\"transparent\" fill-opacity=\"0\" style=\"stroke:yellow;stroke-width:1\"/><path d=\"M 400.0 300.0 A 66 66 0 0 0 344.214 419.633\" stroke-linecap=\"round\" \n",
              "            fill=\"transparent\" fill-opacity=\"0\" style=\"stroke:blue;stroke-width:1\"/><path d=\"M 344.214 419.633 A 66 66 0 0 0 400.0 300.0\" stroke-linecap=\"round\" \n",
              "            fill=\"transparent\" fill-opacity=\"0\" style=\"stroke:blue;stroke-width:1\"/><path d=\"M 400.0 300.0 A 67 67 0 0 0 522.415 354.503\" stroke-linecap=\"round\" \n",
              "            fill=\"transparent\" fill-opacity=\"0\" style=\"stroke:green;stroke-width:1\"/><path d=\"M 522.415 354.503 A 67 67 0 0 0 400.0 300.0\" stroke-linecap=\"round\" \n",
              "            fill=\"transparent\" fill-opacity=\"0\" style=\"stroke:green;stroke-width:1\"/><path d=\"M 400.0 300.0 A 68 68 0 0 0 453.139 174.811\" stroke-linecap=\"round\" \n",
              "            fill=\"transparent\" fill-opacity=\"0\" style=\"stroke:red;stroke-width:1\"/><path d=\"M 453.139 174.811 A 68 68 0 0 0 400.0 300.0\" stroke-linecap=\"round\" \n",
              "            fill=\"transparent\" fill-opacity=\"0\" style=\"stroke:red;stroke-width:1\"/><path d=\"M 400.0 300.0 A 69 69 0 0 0 272.049 248.304\" stroke-linecap=\"round\" \n",
              "            fill=\"transparent\" fill-opacity=\"0\" style=\"stroke:yellow;stroke-width:1\"/><path d=\"M 272.049 248.304 A 69 69 0 0 0 400.0 300.0\" stroke-linecap=\"round\" \n",
              "            fill=\"transparent\" fill-opacity=\"0\" style=\"stroke:yellow;stroke-width:1\"/><path d=\"M 400.0 300.0 A 70 70 0 0 0 349.828 430.701\" stroke-linecap=\"round\" \n",
              "            fill=\"transparent\" fill-opacity=\"0\" style=\"stroke:blue;stroke-width:1\"/><path d=\"M 349.828 430.701 A 70 70 0 0 0 400.0 300.0\" stroke-linecap=\"round\" \n",
              "            fill=\"transparent\" fill-opacity=\"0\" style=\"stroke:blue;stroke-width:1\"/><path d=\"M 400.0 300.0 A 71 71 0 0 0 533.436 348.567\" stroke-linecap=\"round\" \n",
              "            fill=\"transparent\" fill-opacity=\"0\" style=\"stroke:green;stroke-width:1\"/><path d=\"M 533.436 348.567 A 71 71 0 0 0 400.0 300.0\" stroke-linecap=\"round\" \n",
              "            fill=\"transparent\" fill-opacity=\"0\" style=\"stroke:green;stroke-width:1\"/><path d=\"M 400.0 300.0 A 72 72 0 0 0 446.882 163.845\" stroke-linecap=\"round\" \n",
              "            fill=\"transparent\" fill-opacity=\"0\" style=\"stroke:red;stroke-width:1\"/><path d=\"M 446.882 163.845 A 72 72 0 0 0 400.0 300.0\" stroke-linecap=\"round\" \n",
              "            fill=\"transparent\" fill-opacity=\"0\" style=\"stroke:red;stroke-width:1\"/><path d=\"M 400.0 300.0 A 73 73 0 0 0 261.146 254.884\" stroke-linecap=\"round\" \n",
              "            fill=\"transparent\" fill-opacity=\"0\" style=\"stroke:yellow;stroke-width:1\"/><path d=\"M 261.146 254.884 A 73 73 0 0 0 400.0 300.0\" stroke-linecap=\"round\" \n",
              "            fill=\"transparent\" fill-opacity=\"0\" style=\"stroke:yellow;stroke-width:1\"/><path d=\"M 400.0 300.0 A 74 74 0 0 0 356.729 441.533\" stroke-linecap=\"round\" \n",
              "            fill=\"transparent\" fill-opacity=\"0\" style=\"stroke:blue;stroke-width:1\"/><path d=\"M 356.729 441.533 A 74 74 0 0 0 400.0 300.0\" stroke-linecap=\"round\" \n",
              "            fill=\"transparent\" fill-opacity=\"0\" style=\"stroke:blue;stroke-width:1\"/><path d=\"M 400.0 300.0 A 75 75 0 0 0 544.189 341.346\" stroke-linecap=\"round\" \n",
              "            fill=\"transparent\" fill-opacity=\"0\" style=\"stroke:green;stroke-width:1\"/><path d=\"M 544.189 341.346 A 75 75 0 0 0 400.0 300.0\" stroke-linecap=\"round\" \n",
              "            fill=\"transparent\" fill-opacity=\"0\" style=\"stroke:green;stroke-width:1\"/><path d=\"M 400.0 300.0 A 76 76 0 0 0 439.34 153.179\" stroke-linecap=\"round\" \n",
              "            fill=\"transparent\" fill-opacity=\"0\" style=\"stroke:red;stroke-width:1\"/><path d=\"M 439.34 153.179 A 76 76 0 0 0 400.0 300.0\" stroke-linecap=\"round\" \n",
              "            fill=\"transparent\" fill-opacity=\"0\" style=\"stroke:red;stroke-width:1\"/><path d=\"M 400.0 300.0 A 77 77 0 0 0 250.574 262.744\" stroke-linecap=\"round\" \n",
              "            fill=\"transparent\" fill-opacity=\"0\" style=\"stroke:yellow;stroke-width:1\"/><path d=\"M 250.574 262.744 A 77 77 0 0 0 400.0 300.0\" stroke-linecap=\"round\" \n",
              "            fill=\"transparent\" fill-opacity=\"0\" style=\"stroke:yellow;stroke-width:1\"/><path d=\"M 400.0 300.0 A 78 78 0 0 0 364.908 452.002\" stroke-linecap=\"round\" \n",
              "            fill=\"transparent\" fill-opacity=\"0\" style=\"stroke:blue;stroke-width:1\"/><path d=\"M 364.908 452.002 A 78 78 0 0 0 400.0 300.0\" stroke-linecap=\"round\" \n",
              "            fill=\"transparent\" fill-opacity=\"0\" style=\"stroke:blue;stroke-width:1\"/><path d=\"M 400.0 300.0 A 79 79 0 0 0 554.547 332.85\" stroke-linecap=\"round\" \n",
              "            fill=\"transparent\" fill-opacity=\"0\" style=\"stroke:green;stroke-width:1\"/><path d=\"M 554.547 332.85 A 79 79 0 0 0 400.0 300.0\" stroke-linecap=\"round\" \n",
              "            fill=\"transparent\" fill-opacity=\"0\" style=\"stroke:green;stroke-width:1\"/><path d=\"M 400.0 300.0 A 80 80 0 0 0 430.529 142.94\" stroke-linecap=\"round\" \n",
              "            fill=\"transparent\" fill-opacity=\"0\" style=\"stroke:red;stroke-width:1\"/><path d=\"M 430.529 142.94 A 80 80 0 0 0 400.0 300.0\" stroke-linecap=\"round\" \n",
              "            fill=\"transparent\" fill-opacity=\"0\" style=\"stroke:red;stroke-width:1\"/><path d=\"M 400.0 300.0 A 81 81 0 0 0 240.461 271.869\" stroke-linecap=\"round\" \n",
              "            fill=\"transparent\" fill-opacity=\"0\" style=\"stroke:yellow;stroke-width:1\"/><path d=\"M 240.461 271.869 A 81 81 0 0 0 400.0 300.0\" stroke-linecap=\"round\" \n",
              "            fill=\"transparent\" fill-opacity=\"0\" style=\"stroke:yellow;stroke-width:1\"/><path d=\"M 400.0 300.0 A 82 82 0 0 0 374.345 461.981\" stroke-linecap=\"round\" \n",
              "            fill=\"transparent\" fill-opacity=\"0\" style=\"stroke:blue;stroke-width:1\"/><path d=\"M 374.345 461.981 A 82 82 0 0 0 400.0 300.0\" stroke-linecap=\"round\" \n",
              "            fill=\"transparent\" fill-opacity=\"0\" style=\"stroke:blue;stroke-width:1\"/><path d=\"M 400.0 300.0 A 83 83 0 0 0 564.384 323.103\" stroke-linecap=\"round\" \n",
              "            fill=\"transparent\" fill-opacity=\"0\" style=\"stroke:green;stroke-width:1\"/><path d=\"M 564.384 323.103 A 83 83 0 0 0 400.0 300.0\" stroke-linecap=\"round\" \n",
              "            fill=\"transparent\" fill-opacity=\"0\" style=\"stroke:green;stroke-width:1\"/><path d=\"M 400.0 300.0 A 84 84 0 0 0 420.474 133.252\" stroke-linecap=\"round\" \n",
              "            fill=\"transparent\" fill-opacity=\"0\" style=\"stroke:red;stroke-width:1\"/><path d=\"M 420.474 133.252 A 84 84 0 0 0 400.0 300.0\" stroke-linecap=\"round\" \n",
              "            fill=\"transparent\" fill-opacity=\"0\" style=\"stroke:red;stroke-width:1\"/><path d=\"M 400.0 300.0 A 85 85 0 0 0 230.931 282.23\" stroke-linecap=\"round\" \n",
              "            fill=\"transparent\" fill-opacity=\"0\" style=\"stroke:yellow;stroke-width:1\"/><path d=\"M 230.931 282.23 A 85 85 0 0 0 400.0 300.0\" stroke-linecap=\"round\" \n",
              "            fill=\"transparent\" fill-opacity=\"0\" style=\"stroke:yellow;stroke-width:1\"/><path d=\"M 400.0 300.0 A 86 86 0 0 0 385.009 471.345\" stroke-linecap=\"round\" \n",
              "            fill=\"transparent\" fill-opacity=\"0\" style=\"stroke:blue;stroke-width:1\"/><path d=\"M 385.009 471.345 A 86 86 0 0 0 400.0 300.0\" stroke-linecap=\"round\" \n",
              "            fill=\"transparent\" fill-opacity=\"0\" style=\"stroke:blue;stroke-width:1\"/><path d=\"M 400.0 300.0 A 87 87 0 0 0 573.576 312.138\" stroke-linecap=\"round\" \n",
              "            fill=\"transparent\" fill-opacity=\"0\" style=\"stroke:green;stroke-width:1\"/><path d=\"M 573.576 312.138 A 87 87 0 0 0 400.0 300.0\" stroke-linecap=\"round\" \n",
              "            fill=\"transparent\" fill-opacity=\"0\" style=\"stroke:green;stroke-width:1\"/><path d=\"M 400.0 300.0 A 88 88 0 0 0 409.211 124.241\" stroke-linecap=\"round\" \n",
              "            fill=\"transparent\" fill-opacity=\"0\" style=\"stroke:red;stroke-width:1\"/><path d=\"M 409.211 124.241 A 88 88 0 0 0 400.0 300.0\" stroke-linecap=\"round\" \n",
              "            fill=\"transparent\" fill-opacity=\"0\" style=\"stroke:red;stroke-width:1\"/><path d=\"M 400.0 300.0 A 89 89 0 0 0 222.108 293.788\" stroke-linecap=\"round\" \n",
              "            fill=\"transparent\" fill-opacity=\"0\" style=\"stroke:yellow;stroke-width:1\"/><path d=\"M 222.108 293.788 A 89 89 0 0 0 400.0 300.0\" stroke-linecap=\"round\" \n",
              "            fill=\"transparent\" fill-opacity=\"0\" style=\"stroke:yellow;stroke-width:1\"/><path d=\"M 400.0 300.0 A 90 90 0 0 0 396.859 479.973\" stroke-linecap=\"round\" \n",
              "            fill=\"transparent\" fill-opacity=\"0\" style=\"stroke:blue;stroke-width:1\"/><path d=\"M 396.859 479.973 A 90 90 0 0 0 400.0 300.0\" stroke-linecap=\"round\" \n",
              "            fill=\"transparent\" fill-opacity=\"0\" style=\"stroke:blue;stroke-width:1\"/><path d=\"M 400.0 300.0 A 91 91 0 0 0 582.0 300.0\" stroke-linecap=\"round\" \n",
              "            fill=\"transparent\" fill-opacity=\"0\" style=\"stroke:green;stroke-width:1\"/><path d=\"M 582.0 300.0 A 91 91 0 0 0 400.0 300.0\" stroke-linecap=\"round\" \n",
              "            fill=\"transparent\" fill-opacity=\"0\" style=\"stroke:green;stroke-width:1\"/><path d=\"M 400.0 300.0 A 92 92 0 0 0 396.789 116.028\" stroke-linecap=\"round\" \n",
              "            fill=\"transparent\" fill-opacity=\"0\" style=\"stroke:red;stroke-width:1\"/><path d=\"M 396.789 116.028 A 92 92 0 0 0 400.0 300.0\" stroke-linecap=\"round\" \n",
              "            fill=\"transparent\" fill-opacity=\"0\" style=\"stroke:red;stroke-width:1\"/><path d=\"M 400.0 300.0 A 93 93 0 0 0 214.113 306.491\" stroke-linecap=\"round\" \n",
              "            fill=\"transparent\" fill-opacity=\"0\" style=\"stroke:yellow;stroke-width:1\"/><path d=\"M 214.113 306.491 A 93 93 0 0 0 400.0 300.0\" stroke-linecap=\"round\" \n",
              "            fill=\"transparent\" fill-opacity=\"0\" style=\"stroke:yellow;stroke-width:1\"/><path d=\"M 400.0 300.0 A 94 94 0 0 0 409.839 487.742\" stroke-linecap=\"round\" \n",
              "            fill=\"transparent\" fill-opacity=\"0\" style=\"stroke:blue;stroke-width:1\"/><path d=\"M 409.839 487.742 A 94 94 0 0 0 400.0 300.0\" stroke-linecap=\"round\" \n",
              "            fill=\"transparent\" fill-opacity=\"0\" style=\"stroke:blue;stroke-width:1\"/><path d=\"M 400.0 300.0 A 95 95 0 0 0 589.537 286.746\" stroke-linecap=\"round\" \n",
              "            fill=\"transparent\" fill-opacity=\"0\" style=\"stroke:green;stroke-width:1\"/><path d=\"M 589.537 286.746 A 95 95 0 0 0 400.0 300.0\" stroke-linecap=\"round\" \n",
              "            fill=\"transparent\" fill-opacity=\"0\" style=\"stroke:green;stroke-width:1\"/><path d=\"M 400.0 300.0 A 96 96 0 0 0 383.266 108.731\" stroke-linecap=\"round\" \n",
              "            fill=\"transparent\" fill-opacity=\"0\" style=\"stroke:red;stroke-width:1\"/><path d=\"M 383.266 108.731 A 96 96 0 0 0 400.0 300.0\" stroke-linecap=\"round\" \n",
              "            fill=\"transparent\" fill-opacity=\"0\" style=\"stroke:red;stroke-width:1\"/><path d=\"M 400.0 300.0 A 97 97 0 0 0 207.063 320.279\" stroke-linecap=\"round\" \n",
              "            fill=\"transparent\" fill-opacity=\"0\" style=\"stroke:yellow;stroke-width:1\"/><path d=\"M 207.063 320.279 A 97 97 0 0 0 400.0 300.0\" stroke-linecap=\"round\" \n",
              "            fill=\"transparent\" fill-opacity=\"0\" style=\"stroke:yellow;stroke-width:1\"/><path d=\"M 400.0 300.0 A 98 98 0 0 0 423.886 494.539\" stroke-linecap=\"round\" \n",
              "            fill=\"transparent\" fill-opacity=\"0\" style=\"stroke:blue;stroke-width:1\"/><path d=\"M 423.886 494.539 A 98 98 0 0 0 400.0 300.0\" stroke-linecap=\"round\" \n",
              "            fill=\"transparent\" fill-opacity=\"0\" style=\"stroke:blue;stroke-width:1\"/><path d=\"M 400.0 300.0 A 99 99 0 0 0 596.073 272.444\" stroke-linecap=\"round\" \n",
              "            fill=\"transparent\" fill-opacity=\"0\" style=\"stroke:green;stroke-width:1\"/><path d=\"M 596.073 272.444 A 99 99 0 0 0 400.0 300.0\" stroke-linecap=\"round\" \n",
              "            fill=\"transparent\" fill-opacity=\"0\" style=\"stroke:green;stroke-width:1\"/>\n",
              "        \n",
              "        \n",
              "        <g id=\"classic\" visibility=\"visible\" transform=\"rotate(-8.0,400.0,300.0) translate(400.0, 300.0)\">\n",
              "<polygon points=\"-5,-4.5 0,-2.5 5,-4.5 0,4.5\" transform=\"skewX(0) scale(1,1)\" style=\"stroke:green;fill:black;stroke-width:1\" />\n",
              "<animateTransform id = \"one\" attributeName=\"transform\" \n",
              "                      type=\"scale\"\n",
              "                      from=\"1 1\" to=\"1 1\"\n",
              "                      begin=\"0s\" dur=\"0.01s\"\n",
              "                      repeatCount=\"1\"\n",
              "                      additive=\"sum\"\n",
              "                      fill=\"freeze\"\n",
              "                /><animateTransform attributeName=\"transform\"\n",
              "                    type=\"rotate\"\n",
              "                    from=\"0 0 0\" to =\"-91 0 0\"\n",
              "                    begin=\"one.end\" dur=\"0.006319444444444444s\"\n",
              "                    repeatCount=\"1\"\n",
              "                    additive=\"sum\"\n",
              "                    fill=\"freeze\"\n",
              "                /></g>\n",
              "      </svg>\n",
              "    "
            ]
          },
          "metadata": {}
        }
      ]
    },
    {
      "cell_type": "code",
      "source": [
        "t.reset()\n",
        "turtle.bgcolor(\"black\")\n",
        "# You can choose between 2 and 6 sides for some cool shapes!\n",
        "sides = 6\n",
        "colors = [\"red\", \"yellow\", \"blue\", \"orange\", \"green\", \"purple\"]\n",
        "for x in range(1,100):\n",
        "  t.pencolor(colors[x%sides])\n",
        "  t.forward(x * 3/sides + x)\n",
        "  t.left(360/sides + 1)\n",
        "  t.width(x*sides/200)"
      ],
      "metadata": {
        "id": "e9SaJxveLD2Z",
        "outputId": "654a675b-9eb4-4705-91c6-acc59d00ceb4",
        "colab": {
          "base_uri": "https://localhost:8080/",
          "height": 235
        }
      },
      "execution_count": 1,
      "outputs": [
        {
          "output_type": "error",
          "ename": "NameError",
          "evalue": "ignored",
          "traceback": [
            "\u001b[0;31m---------------------------------------------------------------------------\u001b[0m",
            "\u001b[0;31mNameError\u001b[0m                                 Traceback (most recent call last)",
            "\u001b[0;32m<ipython-input-1-2239a77a5cfc>\u001b[0m in \u001b[0;36m<module>\u001b[0;34m\u001b[0m\n\u001b[0;32m----> 1\u001b[0;31m \u001b[0mt\u001b[0m\u001b[0;34m.\u001b[0m\u001b[0mreset\u001b[0m\u001b[0;34m(\u001b[0m\u001b[0;34m)\u001b[0m\u001b[0;34m\u001b[0m\u001b[0;34m\u001b[0m\u001b[0m\n\u001b[0m\u001b[1;32m      2\u001b[0m \u001b[0mturtle\u001b[0m\u001b[0;34m.\u001b[0m\u001b[0mbgcolor\u001b[0m\u001b[0;34m(\u001b[0m\u001b[0;34m\"black\"\u001b[0m\u001b[0;34m)\u001b[0m\u001b[0;34m\u001b[0m\u001b[0;34m\u001b[0m\u001b[0m\n\u001b[1;32m      3\u001b[0m \u001b[0;31m# You can choose between 2 and 6 sides for some cool shapes!\u001b[0m\u001b[0;34m\u001b[0m\u001b[0;34m\u001b[0m\u001b[0m\n\u001b[1;32m      4\u001b[0m \u001b[0msides\u001b[0m \u001b[0;34m=\u001b[0m \u001b[0;36m6\u001b[0m\u001b[0;34m\u001b[0m\u001b[0;34m\u001b[0m\u001b[0m\n\u001b[1;32m      5\u001b[0m \u001b[0mcolors\u001b[0m \u001b[0;34m=\u001b[0m \u001b[0;34m[\u001b[0m\u001b[0;34m\"red\"\u001b[0m\u001b[0;34m,\u001b[0m \u001b[0;34m\"yellow\"\u001b[0m\u001b[0;34m,\u001b[0m \u001b[0;34m\"blue\"\u001b[0m\u001b[0;34m,\u001b[0m \u001b[0;34m\"orange\"\u001b[0m\u001b[0;34m,\u001b[0m \u001b[0;34m\"green\"\u001b[0m\u001b[0;34m,\u001b[0m \u001b[0;34m\"purple\"\u001b[0m\u001b[0;34m]\u001b[0m\u001b[0;34m\u001b[0m\u001b[0;34m\u001b[0m\u001b[0m\n",
            "\u001b[0;31mNameError\u001b[0m: name 't' is not defined"
          ]
        }
      ]
    },
    {
      "cell_type": "code",
      "source": [
        "t.reset()\n",
        "turtle.bgcolor(\"black\")\n",
        "colors = [\"red\", \"yellow\", \"blue\", \"green\", \"orange\",\n",
        "\"purple\", \"white\", \"brown\", \"gray\", \"pink\" ]\n",
        "family = []\n",
        "name = turtle.textinput(\"My family\",\n",
        "\"Enter a name, or just hit [ENTER] to end:\")"
      ],
      "metadata": {
        "id": "RqFUqS2WSudI",
        "outputId": "add9b295-660f-41b9-ed33-5ead10f6216b",
        "colab": {
          "base_uri": "https://localhost:8080/",
          "height": 822
        }
      },
      "execution_count": 20,
      "outputs": [
        {
          "output_type": "display_data",
          "data": {
            "text/plain": [
              "<IPython.core.display.HTML object>"
            ],
            "text/html": [
              "\n",
              "      <svg width=\"800\" height=\"600\">  \n",
              "        <rect width=\"100%\" height=\"100%\" style=\"fill:black;stroke:;stroke-width:1\"/>\n",
              "        \n",
              "        \n",
              "        \n",
              "        \n",
              "        \n",
              "        <g id=\"classic\" visibility=\"visible\" transform=\"rotate(-90,400.0,300.0) translate(400.0, 300.0)\">\n",
              "<polygon points=\"-5,-4.5 0,-2.5 5,-4.5 0,4.5\" transform=\"skewX(0) scale(1,1)\" style=\"stroke:black;fill:black;stroke-width:1\" />\n",
              "</g>\n",
              "      </svg>\n",
              "    "
            ]
          },
          "metadata": {}
        },
        {
          "output_type": "error",
          "ename": "AttributeError",
          "evalue": "ignored",
          "traceback": [
            "\u001b[0;31m---------------------------------------------------------------------------\u001b[0m",
            "\u001b[0;31mAttributeError\u001b[0m                            Traceback (most recent call last)",
            "\u001b[0;32m<ipython-input-20-7faade51f71a>\u001b[0m in \u001b[0;36m<module>\u001b[0;34m\u001b[0m\n\u001b[1;32m      4\u001b[0m \"purple\", \"white\", \"brown\", \"gray\", \"pink\" ]\n\u001b[1;32m      5\u001b[0m \u001b[0mfamily\u001b[0m \u001b[0;34m=\u001b[0m \u001b[0;34m[\u001b[0m\u001b[0;34m]\u001b[0m\u001b[0;34m\u001b[0m\u001b[0;34m\u001b[0m\u001b[0m\n\u001b[0;32m----> 6\u001b[0;31m name = turtle.textinput(\"My family\",\n\u001b[0m\u001b[1;32m      7\u001b[0m \"Enter a name, or just hit [ENTER] to end:\")\n",
            "\u001b[0;31mAttributeError\u001b[0m: module 'ColabTurtlePlus.Turtle' has no attribute 'textinput'"
          ]
        }
      ]
    }
  ]
}