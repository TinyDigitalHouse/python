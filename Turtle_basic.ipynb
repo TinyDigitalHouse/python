{
  "nbformat": 4,
  "nbformat_minor": 0,
  "metadata": {
    "colab": {
      "provenance": [],
      "authorship_tag": "ABX9TyMkm0kkqEwGCD+q/+QFxzh0",
      "include_colab_link": true
    },
    "kernelspec": {
      "name": "python3",
      "display_name": "Python 3"
    },
    "language_info": {
      "name": "python"
    }
  },
  "cells": [
    {
      "cell_type": "markdown",
      "metadata": {
        "id": "view-in-github",
        "colab_type": "text"
      },
      "source": [
        "<a href=\"https://colab.research.google.com/github/TinyDigitalHouse/python/blob/main/Turtle_basic.ipynb\" target=\"_parent\"><img src=\"https://colab.research.google.com/assets/colab-badge.svg\" alt=\"Open In Colab\"/></a>"
      ]
    },
    {
      "cell_type": "markdown",
      "source": [
        "# Documentation for ColabTurtlePlus version 1.5 (non-classes)\n",
        "[The most recent version is 2.0.1 at PyPI. See the documentation for that version.]"
      ],
      "metadata": {
        "id": "ElRwZoSo1cs6"
      }
    },
    {
      "cell_type": "code",
      "execution_count": 1,
      "metadata": {
        "colab": {
          "base_uri": "https://localhost:8080/"
        },
        "id": "fvPlWCu-zXq1",
        "outputId": "b06b03bf-22e2-48db-8b53-267871324402"
      },
      "outputs": [
        {
          "output_type": "stream",
          "name": "stdout",
          "text": [
            "Looking in indexes: https://pypi.org/simple, https://us-python.pkg.dev/colab-wheels/public/simple/\n",
            "Collecting ColabTurtlePlus\n",
            "  Downloading ColabTurtlePlus-2.0.1-py3-none-any.whl (31 kB)\n",
            "Installing collected packages: ColabTurtlePlus\n",
            "Successfully installed ColabTurtlePlus-2.0.1\n"
          ]
        }
      ],
      "source": [
        "!pip install ColabTurtlePlus #Run the code cell to install the library."
      ]
    },
    {
      "cell_type": "code",
      "source": [
        "import ColabTurtlePlus.Turtle as turtle #import the package using either "
      ],
      "metadata": {
        "id": "UpO3K_JnzoQK"
      },
      "execution_count": 6,
      "outputs": []
    },
    {
      "cell_type": "markdown",
      "source": [
        "where turtle (or other name) is the name of the turtle. As Colab stores the declared variables in the runtime, call this before using"
      ],
      "metadata": {
        "id": "RRfIITJb2CEy"
      }
    },
    {
      "cell_type": "code",
      "source": [
        "turtle.initializeTurtle()\n",
        "turtle.home()\n",
        "turtle.pencolor(\"green\")\n",
        "turtle.circle(120, 360)\n"
      ],
      "metadata": {
        "colab": {
          "base_uri": "https://localhost:8080/",
          "height": 622
        },
        "id": "0NNP--9Nz-Ay",
        "outputId": "2df5a854-5164-4666-eaeb-4491461f0b0f"
      },
      "execution_count": 13,
      "outputs": [
        {
          "output_type": "display_data",
          "data": {
            "text/plain": [
              "<IPython.core.display.HTML object>"
            ],
            "text/html": [
              "\n",
              "      <svg width=\"800\" height=\"600\">  \n",
              "        <rect width=\"100%\" height=\"100%\" style=\"fill:white;stroke:;stroke-width:1\"/>\n",
              "        \n",
              "        \n",
              "        <line x1=\"400.0\" y1=\"300.0\" x2=\"400.0\" y2=\"300.0\" stroke-linecap=\"round\" style=\"stroke:black;stroke-width:1\" /><path d=\"M 400.0 300.0 A 120 120 0 0 0 431.058 295.911\" stroke-linecap=\"round\" \n",
              "            fill=\"transparent\" fill-opacity=\"0\" style=\"stroke:green;stroke-width:1\"/><path d=\"M 431.058 295.911 A 120 120 0 0 0 460.0 283.923\" stroke-linecap=\"round\" \n",
              "            fill=\"transparent\" fill-opacity=\"0\" style=\"stroke:green;stroke-width:1\"/><path d=\"M 460.0 283.923 A 120 120 0 0 0 484.853 264.853\" stroke-linecap=\"round\" \n",
              "            fill=\"transparent\" fill-opacity=\"0\" style=\"stroke:green;stroke-width:1\"/><path d=\"M 484.853 264.853 A 120 120 0 0 0 503.923 240.0\" stroke-linecap=\"round\" \n",
              "            fill=\"transparent\" fill-opacity=\"0\" style=\"stroke:green;stroke-width:1\"/><path d=\"M 503.923 240.0 A 120 120 0 0 0 515.911 211.058\" stroke-linecap=\"round\" \n",
              "            fill=\"transparent\" fill-opacity=\"0\" style=\"stroke:green;stroke-width:1\"/><path d=\"M 515.911 211.058 A 120 120 0 0 0 520.0 180.0\" stroke-linecap=\"round\" \n",
              "            fill=\"transparent\" fill-opacity=\"0\" style=\"stroke:green;stroke-width:1\"/><path d=\"M 520.0 180.0 A 120 120 0 0 0 515.911 148.942\" stroke-linecap=\"round\" \n",
              "            fill=\"transparent\" fill-opacity=\"0\" style=\"stroke:green;stroke-width:1\"/><path d=\"M 515.911 148.942 A 120 120 0 0 0 503.923 120.0\" stroke-linecap=\"round\" \n",
              "            fill=\"transparent\" fill-opacity=\"0\" style=\"stroke:green;stroke-width:1\"/><path d=\"M 503.923 120.0 A 120 120 0 0 0 484.853 95.147\" stroke-linecap=\"round\" \n",
              "            fill=\"transparent\" fill-opacity=\"0\" style=\"stroke:green;stroke-width:1\"/><path d=\"M 484.853 95.147 A 120 120 0 0 0 460.0 76.077\" stroke-linecap=\"round\" \n",
              "            fill=\"transparent\" fill-opacity=\"0\" style=\"stroke:green;stroke-width:1\"/><path d=\"M 460.0 76.077 A 120 120 0 0 0 431.058 64.089\" stroke-linecap=\"round\" \n",
              "            fill=\"transparent\" fill-opacity=\"0\" style=\"stroke:green;stroke-width:1\"/><path d=\"M 431.058 64.089 A 120 120 0 0 0 400.0 60.0\" stroke-linecap=\"round\" \n",
              "            fill=\"transparent\" fill-opacity=\"0\" style=\"stroke:green;stroke-width:1\"/><path d=\"M 400.0 60.0 A 120 120 0 0 0 368.942 64.089\" stroke-linecap=\"round\" \n",
              "            fill=\"transparent\" fill-opacity=\"0\" style=\"stroke:green;stroke-width:1\"/><path d=\"M 368.942 64.089 A 120 120 0 0 0 340.0 76.077\" stroke-linecap=\"round\" \n",
              "            fill=\"transparent\" fill-opacity=\"0\" style=\"stroke:green;stroke-width:1\"/><path d=\"M 340.0 76.077 A 120 120 0 0 0 315.147 95.147\" stroke-linecap=\"round\" \n",
              "            fill=\"transparent\" fill-opacity=\"0\" style=\"stroke:green;stroke-width:1\"/><path d=\"M 315.147 95.147 A 120 120 0 0 0 296.077 120.0\" stroke-linecap=\"round\" \n",
              "            fill=\"transparent\" fill-opacity=\"0\" style=\"stroke:green;stroke-width:1\"/><path d=\"M 296.077 120.0 A 120 120 0 0 0 284.089 148.942\" stroke-linecap=\"round\" \n",
              "            fill=\"transparent\" fill-opacity=\"0\" style=\"stroke:green;stroke-width:1\"/><path d=\"M 284.089 148.942 A 120 120 0 0 0 280.0 180.0\" stroke-linecap=\"round\" \n",
              "            fill=\"transparent\" fill-opacity=\"0\" style=\"stroke:green;stroke-width:1\"/><path d=\"M 280.0 180.0 A 120 120 0 0 0 284.089 211.058\" stroke-linecap=\"round\" \n",
              "            fill=\"transparent\" fill-opacity=\"0\" style=\"stroke:green;stroke-width:1\"/><path d=\"M 284.089 211.058 A 120 120 0 0 0 296.077 240.0\" stroke-linecap=\"round\" \n",
              "            fill=\"transparent\" fill-opacity=\"0\" style=\"stroke:green;stroke-width:1\"/><path d=\"M 296.077 240.0 A 120 120 0 0 0 315.147 264.853\" stroke-linecap=\"round\" \n",
              "            fill=\"transparent\" fill-opacity=\"0\" style=\"stroke:green;stroke-width:1\"/><path d=\"M 315.147 264.853 A 120 120 0 0 0 340.0 283.923\" stroke-linecap=\"round\" \n",
              "            fill=\"transparent\" fill-opacity=\"0\" style=\"stroke:green;stroke-width:1\"/><path d=\"M 340.0 283.923 A 120 120 0 0 0 368.942 295.911\" stroke-linecap=\"round\" \n",
              "            fill=\"transparent\" fill-opacity=\"0\" style=\"stroke:green;stroke-width:1\"/><path d=\"M 368.942 295.911 A 120 120 0 0 0 400.0 300.0\" stroke-linecap=\"round\" \n",
              "            fill=\"transparent\" fill-opacity=\"0\" style=\"stroke:green;stroke-width:1\"/>\n",
              "        \n",
              "        \n",
              "        <g id=\"classic\" visibility=\"visible\" transform=\"rotate(-90.0,400.0,300.0) translate(400.0, 300.0)\">\n",
              "<polygon points=\"-5,-4.5 0,-2.5 5,-4.5 0,4.5\" transform=\"skewX(0) scale(1,1)\" style=\"stroke:green;fill:black;stroke-width:1\" />\n",
              "</g>\n",
              "      </svg>\n",
              "    "
            ]
          },
          "metadata": {}
        }
      ]
    },
    {
      "cell_type": "markdown",
      "source": [
        "# Turtle Motion"
      ],
      "metadata": {
        "id": "8NMcLchF2Rd0"
      }
    },
    {
      "cell_type": "markdown",
      "source": [
        "forward(units) | fd(units) -> Moves the turtle in the direction it is facing, by units pixels"
      ],
      "metadata": {
        "id": "2gFFkt8o2YCZ"
      }
    },
    {
      "cell_type": "code",
      "source": [
        "turtle.initializeTurtle()\n",
        "turtle.forward(100)"
      ],
      "metadata": {
        "colab": {
          "base_uri": "https://localhost:8080/",
          "height": 622
        },
        "id": "pjQNuG_s2Tnw",
        "outputId": "a9ba7618-673d-4101-f743-ba201bdb4229"
      },
      "execution_count": 36,
      "outputs": [
        {
          "output_type": "display_data",
          "data": {
            "text/plain": [
              "<IPython.core.display.HTML object>"
            ],
            "text/html": [
              "\n",
              "      <svg width=\"800\" height=\"600\">  \n",
              "        <rect width=\"100%\" height=\"100%\" style=\"fill:white;stroke:;stroke-width:1\"/>\n",
              "        \n",
              "        \n",
              "        <line x1=\"400.0\" y1=\"300.0\" x2=\"410.0\" y2=\"300.0\" stroke-linecap=\"round\" style=\"stroke:black;stroke-width:1\" /><line x1=\"410.0\" y1=\"300.0\" x2=\"420.0\" y2=\"300.0\" stroke-linecap=\"round\" style=\"stroke:black;stroke-width:1\" /><line x1=\"420.0\" y1=\"300.0\" x2=\"430.0\" y2=\"300.0\" stroke-linecap=\"round\" style=\"stroke:black;stroke-width:1\" /><line x1=\"430.0\" y1=\"300.0\" x2=\"440.0\" y2=\"300.0\" stroke-linecap=\"round\" style=\"stroke:black;stroke-width:1\" /><line x1=\"440.0\" y1=\"300.0\" x2=\"450.0\" y2=\"300.0\" stroke-linecap=\"round\" style=\"stroke:black;stroke-width:1\" /><line x1=\"450.0\" y1=\"300.0\" x2=\"460.0\" y2=\"300.0\" stroke-linecap=\"round\" style=\"stroke:black;stroke-width:1\" /><line x1=\"460.0\" y1=\"300.0\" x2=\"470.0\" y2=\"300.0\" stroke-linecap=\"round\" style=\"stroke:black;stroke-width:1\" /><line x1=\"470.0\" y1=\"300.0\" x2=\"480.0\" y2=\"300.0\" stroke-linecap=\"round\" style=\"stroke:black;stroke-width:1\" /><line x1=\"480.0\" y1=\"300.0\" x2=\"490.0\" y2=\"300.0\" stroke-linecap=\"round\" style=\"stroke:black;stroke-width:1\" /><line x1=\"490.0\" y1=\"300.0\" x2=\"500.0\" y2=\"300.0\" stroke-linecap=\"round\" style=\"stroke:black;stroke-width:1\" />\n",
              "        \n",
              "        \n",
              "        <g id=\"classic\" visibility=\"visible\" transform=\"rotate(-90,500.0,300.0) translate(500.0, 300.0)\">\n",
              "<polygon points=\"-5,-4.5 0,-2.5 5,-4.5 0,4.5\" transform=\"skewX(0) scale(1,1)\" style=\"stroke:black;fill:black;stroke-width:1\" />\n",
              "</g>\n",
              "      </svg>\n",
              "    "
            ]
          },
          "metadata": {}
        }
      ]
    },
    {
      "cell_type": "markdown",
      "source": [
        "backward(units) | bk(units) | back(units) -> Moves the turtle in the opposite of the direction it is facing, by units pixels"
      ],
      "metadata": {
        "id": "t57IjT434bpC"
      }
    },
    {
      "cell_type": "code",
      "source": [
        "turtle.backward(100)"
      ],
      "metadata": {
        "colab": {
          "base_uri": "https://localhost:8080/",
          "height": 622
        },
        "id": "c2z19PAU4a4H",
        "outputId": "ceb731b1-3276-43f6-a4a3-663c7cfd7bc4"
      },
      "execution_count": 37,
      "outputs": [
        {
          "output_type": "display_data",
          "data": {
            "text/plain": [
              "<IPython.core.display.HTML object>"
            ],
            "text/html": [
              "\n",
              "      <svg width=\"800\" height=\"600\">  \n",
              "        <rect width=\"100%\" height=\"100%\" style=\"fill:white;stroke:;stroke-width:1\"/>\n",
              "        \n",
              "        \n",
              "        <line x1=\"400.0\" y1=\"300.0\" x2=\"500.0\" y2=\"300.0\" stroke-linecap=\"round\" style=\"stroke:black;stroke-width:1\" /><line x1=\"500.0\" y1=\"300.0\" x2=\"490.0\" y2=\"300.0\" stroke-linecap=\"round\" style=\"stroke:black;stroke-width:1\" /><line x1=\"490.0\" y1=\"300.0\" x2=\"480.0\" y2=\"300.0\" stroke-linecap=\"round\" style=\"stroke:black;stroke-width:1\" /><line x1=\"480.0\" y1=\"300.0\" x2=\"470.0\" y2=\"300.0\" stroke-linecap=\"round\" style=\"stroke:black;stroke-width:1\" /><line x1=\"470.0\" y1=\"300.0\" x2=\"460.0\" y2=\"300.0\" stroke-linecap=\"round\" style=\"stroke:black;stroke-width:1\" /><line x1=\"460.0\" y1=\"300.0\" x2=\"450.0\" y2=\"300.0\" stroke-linecap=\"round\" style=\"stroke:black;stroke-width:1\" /><line x1=\"450.0\" y1=\"300.0\" x2=\"440.0\" y2=\"300.0\" stroke-linecap=\"round\" style=\"stroke:black;stroke-width:1\" /><line x1=\"440.0\" y1=\"300.0\" x2=\"430.0\" y2=\"300.0\" stroke-linecap=\"round\" style=\"stroke:black;stroke-width:1\" /><line x1=\"430.0\" y1=\"300.0\" x2=\"420.0\" y2=\"300.0\" stroke-linecap=\"round\" style=\"stroke:black;stroke-width:1\" /><line x1=\"420.0\" y1=\"300.0\" x2=\"410.0\" y2=\"300.0\" stroke-linecap=\"round\" style=\"stroke:black;stroke-width:1\" /><line x1=\"410.0\" y1=\"300.0\" x2=\"400.0\" y2=\"300.0\" stroke-linecap=\"round\" style=\"stroke:black;stroke-width:1\" />\n",
              "        \n",
              "        \n",
              "        <g id=\"classic\" visibility=\"visible\" transform=\"rotate(-90,400.0,300.0) translate(400.0, 300.0)\">\n",
              "<polygon points=\"-5,-4.5 0,-2.5 5,-4.5 0,4.5\" transform=\"skewX(0) scale(1,1)\" style=\"stroke:black;fill:black;stroke-width:1\" />\n",
              "</g>\n",
              "      </svg>\n",
              "    "
            ]
          },
          "metadata": {}
        }
      ]
    },
    {
      "cell_type": "markdown",
      "source": [
        "right(degrees) | rt(degrees) -> Turns the turtle to right by the given degrees\n",
        "\n",
        "left(degrees) | lt(degrees) -> Turns the turtle to left by the given degrees"
      ],
      "metadata": {
        "id": "rkrORrCO4yMk"
      }
    },
    {
      "cell_type": "code",
      "source": [
        "#turtle.rt(90)\n",
        "#turtle.fd(100)\n",
        "turtle.lt(90)\n",
        "turtle.fd(100)"
      ],
      "metadata": {
        "colab": {
          "base_uri": "https://localhost:8080/",
          "height": 622
        },
        "id": "Aa2CqPFX42h3",
        "outputId": "88f64481-98db-4137-a569-c82868ffad59"
      },
      "execution_count": 38,
      "outputs": [
        {
          "output_type": "display_data",
          "data": {
            "text/plain": [
              "<IPython.core.display.HTML object>"
            ],
            "text/html": [
              "\n",
              "      <svg width=\"800\" height=\"600\">  \n",
              "        <rect width=\"100%\" height=\"100%\" style=\"fill:white;stroke:;stroke-width:1\"/>\n",
              "        \n",
              "        \n",
              "        <line x1=\"400.0\" y1=\"300.0\" x2=\"500.0\" y2=\"300.0\" stroke-linecap=\"round\" style=\"stroke:black;stroke-width:1\" /><line x1=\"500.0\" y1=\"300.0\" x2=\"400.0\" y2=\"300.0\" stroke-linecap=\"round\" style=\"stroke:black;stroke-width:1\" /><line x1=\"400.0\" y1=\"300.0\" x2=\"400.0\" y2=\"290.0\" stroke-linecap=\"round\" style=\"stroke:black;stroke-width:1\" /><line x1=\"400.0\" y1=\"290.0\" x2=\"400.0\" y2=\"280.0\" stroke-linecap=\"round\" style=\"stroke:black;stroke-width:1\" /><line x1=\"400.0\" y1=\"280.0\" x2=\"400.0\" y2=\"270.0\" stroke-linecap=\"round\" style=\"stroke:black;stroke-width:1\" /><line x1=\"400.0\" y1=\"270.0\" x2=\"400.0\" y2=\"260.0\" stroke-linecap=\"round\" style=\"stroke:black;stroke-width:1\" /><line x1=\"400.0\" y1=\"260.0\" x2=\"400.0\" y2=\"250.0\" stroke-linecap=\"round\" style=\"stroke:black;stroke-width:1\" /><line x1=\"400.0\" y1=\"250.0\" x2=\"400.0\" y2=\"240.0\" stroke-linecap=\"round\" style=\"stroke:black;stroke-width:1\" /><line x1=\"400.0\" y1=\"240.0\" x2=\"400.0\" y2=\"230.0\" stroke-linecap=\"round\" style=\"stroke:black;stroke-width:1\" /><line x1=\"400.0\" y1=\"230.0\" x2=\"400.0\" y2=\"220.0\" stroke-linecap=\"round\" style=\"stroke:black;stroke-width:1\" /><line x1=\"400.0\" y1=\"220.0\" x2=\"400.0\" y2=\"210.0\" stroke-linecap=\"round\" style=\"stroke:black;stroke-width:1\" /><line x1=\"400.0\" y1=\"210.0\" x2=\"400.0\" y2=\"200.0\" stroke-linecap=\"round\" style=\"stroke:black;stroke-width:1\" />\n",
              "        \n",
              "        \n",
              "        <g id=\"classic\" visibility=\"visible\" transform=\"rotate(180,400.0,200.0) translate(400.0, 200.0)\">\n",
              "<polygon points=\"-5,-4.5 0,-2.5 5,-4.5 0,4.5\" transform=\"skewX(0) scale(1,1)\" style=\"stroke:black;fill:black;stroke-width:1\" />\n",
              "</g>\n",
              "      </svg>\n",
              "    "
            ]
          },
          "metadata": {}
        }
      ]
    },
    {
      "cell_type": "markdown",
      "source": [
        "goto(x,y) | setpos(x,y) | setposition(x,y)\n",
        "goto((x,y)) | setpos((x,y)) | setposition((x,y))\n",
        "\n",
        "Moves the turtle to the point defined by x,y. The coordinates can be given separately, or in a single tuple."
      ],
      "metadata": {
        "id": "oLU-mJJ9-Rca"
      }
    },
    {
      "cell_type": "code",
      "source": [],
      "metadata": {
        "id": "s6egUlGj-Szo"
      },
      "execution_count": null,
      "outputs": []
    },
    {
      "cell_type": "markdown",
      "source": [
        "home() -> Returns the turtle to the beginning position and angle.\n",
        "The turtle will continue drawing during this operation if the pen is down."
      ],
      "metadata": {
        "id": "z3krEDkE-e_7"
      }
    },
    {
      "cell_type": "code",
      "source": [],
      "metadata": {
        "id": "431s80Kx-iIj"
      },
      "execution_count": null,
      "outputs": []
    },
    {
      "cell_type": "code",
      "source": [
        "# Draw Rectangle"
      ],
      "metadata": {
        "id": "-qnEsU_J-l-z"
      },
      "execution_count": null,
      "outputs": []
    },
    {
      "cell_type": "code",
      "source": [
        "# Draw 2 rectangles"
      ],
      "metadata": {
        "id": "E34zhZP--u-J"
      },
      "execution_count": null,
      "outputs": []
    },
    {
      "cell_type": "markdown",
      "source": [
        "circle(radius, extent, steps)\n",
        "Draws a circle of radius radius covering an extent of extent degrees. If extent is not given, draws the complete circle"
      ],
      "metadata": {
        "id": "gze6gnvR_IN6"
      }
    },
    {
      "cell_type": "code",
      "source": [
        "turtle.circle(100)"
      ],
      "metadata": {
        "id": "OL0pgYxE_PZ6"
      },
      "execution_count": null,
      "outputs": []
    },
    {
      "cell_type": "markdown",
      "source": [
        "pendown() | pd()\n",
        "Puts the pen down, causing the turtle movements to start drawing again.\n",
        "\n",
        "penup() | pu() | up()\n",
        "Lifts the pen, turtles movement will not draw anything after this function is called.\n",
        "\n",
        "pensize(w) | width(w)\n",
        "Changes the width of the pen. If the parameter is omitted, returns the current pen width."
      ],
      "metadata": {
        "id": "IOKXu4irB8tv"
      }
    },
    {
      "cell_type": "code",
      "source": [],
      "metadata": {
        "id": "iLi_6nnFCCei"
      },
      "execution_count": null,
      "outputs": []
    }
  ]
}