{
  "nbformat": 4,
  "nbformat_minor": 0,
  "metadata": {
    "colab": {
      "provenance": [],
      "authorship_tag": "ABX9TyM6Ibp8cTN1IWMkhZmqmnTE",
      "include_colab_link": true
    },
    "kernelspec": {
      "name": "python3",
      "display_name": "Python 3"
    },
    "language_info": {
      "name": "python"
    }
  },
  "cells": [
    {
      "cell_type": "markdown",
      "metadata": {
        "id": "view-in-github",
        "colab_type": "text"
      },
      "source": [
        "<a href=\"https://colab.research.google.com/github/TinyDigitalHouse/python/blob/main/python_basics.ipynb\" target=\"_parent\"><img src=\"https://colab.research.google.com/assets/colab-badge.svg\" alt=\"Open In Colab\"/></a>"
      ]
    },
    {
      "cell_type": "markdown",
      "source": [
        "# PYTHON BASICS"
      ],
      "metadata": {
        "id": "HkQUURrXiO-O"
      }
    },
    {
      "cell_type": "markdown",
      "source": [
        "**String Concatenation and Replication**\n",
        "\n",
        "The meaning of an operator may change based on the data types of the values next to it. For example, + is the addition operator when it operates on two integers or floating-point values. However, when + is used on two string values, it joins the strings as the string concatenation operator. "
      ],
      "metadata": {
        "id": "1WR9FKPaikun"
      }
    },
    {
      "cell_type": "code",
      "execution_count": null,
      "metadata": {
        "id": "D1Yb-_UbiKTq"
      },
      "outputs": [],
      "source": [
        " 'Alice' + 'Bob'"
      ]
    },
    {
      "cell_type": "markdown",
      "source": [
        "The * operator multiplies two integer or floating-point values. But when the * operator is used on one string value and one integer value, it becomes the string replication operator. Enter a string multiplied by a number into the interactive shell to see this in action."
      ],
      "metadata": {
        "id": "mCy9G9Jbi_Sf"
      }
    },
    {
      "cell_type": "code",
      "source": [
        "'Alice' * 5"
      ],
      "metadata": {
        "id": "RhEsWjW-i5oZ",
        "colab": {
          "base_uri": "https://localhost:8080/",
          "height": 35
        },
        "outputId": "6d22d15b-e731-4125-b83b-e7e20a844549"
      },
      "execution_count": 1,
      "outputs": [
        {
          "output_type": "execute_result",
          "data": {
            "text/plain": [
              "'AliceAliceAliceAliceAlice'"
            ],
            "application/vnd.google.colaboratory.intrinsic+json": {
              "type": "string"
            }
          },
          "metadata": {},
          "execution_count": 1
        }
      ]
    },
    {
      "cell_type": "markdown",
      "source": [
        "**Storing Values in Variables**\n",
        "\n",
        "A variable is like a box in the computer’s memory where you can store a single value. If you want to use the result of an evaluated expression later in your program, you can save it inside a variable."
      ],
      "metadata": {
        "id": "y5n7_CmljKQG"
      }
    },
    {
      "cell_type": "markdown",
      "source": [
        "Think of a variable as a labeled box that a value is placed in"
      ],
      "metadata": {
        "id": "ZzK_XuV7jX_W"
      }
    },
    {
      "cell_type": "code",
      "source": [
        "from IPython.display import Image\n",
        "\n",
        "Image(url='https://automatetheboringstuff.com/2e/images/000026.jpg')\n"
      ],
      "metadata": {
        "colab": {
          "base_uri": "https://localhost:8080/",
          "height": 322
        },
        "id": "GTu3glZfjN_F",
        "outputId": "bf350af3-fdea-454f-84a5-fe48cedad1cc"
      },
      "execution_count": null,
      "outputs": [
        {
          "output_type": "execute_result",
          "data": {
            "text/html": [
              "<img src=\"https://automatetheboringstuff.com/2e/images/000026.jpg\"/>"
            ],
            "text/plain": [
              "<IPython.core.display.Image object>"
            ]
          },
          "metadata": {},
          "execution_count": 1
        }
      ]
    },
    {
      "cell_type": "markdown",
      "source": [
        "A variable is initialized (or created) the first time a value is stored in it ➊. After that, you can use it in expressions with other variables and values ➋. When a variable is assigned a new value ➌, the old value is forgotten, which is why spam evaluated to 42 instead of 40 at the end of the example. This is called overwriting the variable. Enter the following code into the interactive shell to try overwriting a string:"
      ],
      "metadata": {
        "id": "FjzV5lDCj4W-"
      }
    },
    {
      "cell_type": "code",
      "source": [
        "#1\n",
        "spam = 40\n",
        "eggs = 2\n",
        "print(spam,eggs)\n",
        "#2\n",
        "print('spam + eggs =',spam + eggs)\n",
        "print('spam + eggs + spam =',spam + eggs + spam)\n",
        "#3\n",
        "spam = spam + 2\n",
        "print(spam)\n"
      ],
      "metadata": {
        "colab": {
          "base_uri": "https://localhost:8080/"
        },
        "id": "Hvs5yxHwj5_g",
        "outputId": "d5bf4f41-8f2f-41cf-fb6c-8fd8c818de01"
      },
      "execution_count": null,
      "outputs": [
        {
          "output_type": "stream",
          "name": "stdout",
          "text": [
            "40 2\n",
            "spam + eggs = 42\n",
            "spam + eggs + spam = 82\n",
            "42\n"
          ]
        }
      ]
    },
    {
      "cell_type": "markdown",
      "source": [
        "Just like the box , the spam variable in this example stores 'Hello' until you replace the string with 'Goodbye'."
      ],
      "metadata": {
        "id": "-XxMwf9NmOjJ"
      }
    },
    {
      "cell_type": "code",
      "source": [
        "# Just like the box in Figure 1-2, the spam variable in this example stores 'Hello' until you replace the string with 'Goodbye'.\n",
        "from IPython.display import Image\n",
        "\n",
        "Image(url='https://automatetheboringstuff.com/2e/images/000097.jpg')"
      ],
      "metadata": {
        "colab": {
          "base_uri": "https://localhost:8080/",
          "height": 480
        },
        "id": "ILqdvWByl6I2",
        "outputId": "da9974c3-0180-4a2e-e1d1-ecf53321e49e"
      },
      "execution_count": null,
      "outputs": [
        {
          "output_type": "execute_result",
          "data": {
            "text/html": [
              "<img src=\"https://automatetheboringstuff.com/2e/images/000097.jpg\"/>"
            ],
            "text/plain": [
              "<IPython.core.display.Image object>"
            ]
          },
          "metadata": {},
          "execution_count": 12
        }
      ]
    },
    {
      "cell_type": "markdown",
      "source": [
        "# Your First Program"
      ],
      "metadata": {
        "id": "lAzXUWNpm9qW"
      }
    },
    {
      "cell_type": "code",
      "source": [
        "# This program says hello and asks for my name.\n",
        "\n",
        "print('Hello, world!')\n",
        "# ask for their name\n",
        "print('What is your name?')    \n",
        "myName = input()\n",
        "print('It is good to meet you, ' + myName)\n",
        "print('The length of your name is:')\n",
        "print(len(myName))\n",
        "# ask for their age\n",
        "print('What is your age?') \n",
        "myAge = input()  \n",
        "print('You will be ' + str(int(myAge) + 1) + ' in a year.')"
      ],
      "metadata": {
        "colab": {
          "base_uri": "https://localhost:8080/"
        },
        "id": "H4CZqk2Gm8p-",
        "outputId": "ae454098-0512-4493-b9e7-22563b9f13aa"
      },
      "execution_count": null,
      "outputs": [
        {
          "output_type": "stream",
          "name": "stdout",
          "text": [
            "Hello, world!\n",
            "What is your name?\n",
            "ss\n",
            "It is good to meet you, ss\n",
            "The length of your name is:\n",
            "2\n",
            "What is your age?\n",
            "123\n",
            "You will be 124 in a year.\n"
          ]
        }
      ]
    }
  ]
}