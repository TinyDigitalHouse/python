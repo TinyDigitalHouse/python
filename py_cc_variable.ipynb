{
  "nbformat": 4,
  "nbformat_minor": 0,
  "metadata": {
    "colab": {
      "provenance": [],
      "authorship_tag": "ABX9TyPCVs/2KEy1pejrl5fHuvOO",
      "include_colab_link": true
    },
    "kernelspec": {
      "name": "python3",
      "display_name": "Python 3"
    },
    "language_info": {
      "name": "python"
    }
  },
  "cells": [
    {
      "cell_type": "markdown",
      "metadata": {
        "id": "view-in-github",
        "colab_type": "text"
      },
      "source": [
        "<a href=\"https://colab.research.google.com/github/TinyDigitalHouse/python/blob/main/py_cc_variable.ipynb\" target=\"_parent\"><img src=\"https://colab.research.google.com/assets/colab-badge.svg\" alt=\"Open In Colab\"/></a>"
      ]
    },
    {
      "cell_type": "code",
      "execution_count": null,
      "metadata": {
        "id": "FnbnhG4rclsL"
      },
      "outputs": [],
      "source": [
        " #My first variable"
      ]
    },
    {
      "cell_type": "code",
      "source": [
        "name = 'Bill'  # You canput put your name hear\n"
      ],
      "metadata": {
        "id": "4cY_RrwgdVx-"
      },
      "execution_count": null,
      "outputs": []
    },
    {
      "cell_type": "code",
      "source": [
        "print(\"Hello my name is \"+ name +'.')"
      ],
      "metadata": {
        "colab": {
          "base_uri": "https://localhost:8080/"
        },
        "id": "dIvWYSMudfkF",
        "outputId": "55553094-36ab-4d96-afdd-9a6edf0459b6"
      },
      "execution_count": null,
      "outputs": [
        {
          "output_type": "stream",
          "name": "stdout",
          "text": [
            "Hello my name is Bill.\n"
          ]
        }
      ]
    },
    {
      "cell_type": "code",
      "source": [
        "# A String is sinply series of charactors.You can use single quote or double quote around string like this.\n",
        "# 'This is string.'\n",
        "# \"This is string to.\""
      ],
      "metadata": {
        "id": "PzZbXeZMfd3I"
      },
      "execution_count": null,
      "outputs": []
    },
    {
      "cell_type": "markdown",
      "source": [
        "Try it yourself\n",
        "Print follow\n",
        "1. I'm \n",
        "2. \"python\""
      ],
      "metadata": {
        "id": "V2o-NRQZXE-Y"
      }
    },
    {
      "cell_type": "code",
      "source": [
        "#Your code here."
      ],
      "metadata": {
        "id": "wSf2Rys2XnJT"
      },
      "execution_count": null,
      "outputs": []
    },
    {
      "cell_type": "code",
      "source": [
        "# This is flexible to allow you to use quote and aposetrophes with in your string.\n",
        "# 'I told my friends,\"Python is my faverite language!\"\n",
        "# \"The language is named after 'Monty Python' ,not the snake.\"\n"
      ],
      "metadata": {
        "id": "1XWK9jrTgdkB"
      },
      "execution_count": null,
      "outputs": []
    },
    {
      "cell_type": "code",
      "source": [
        " #print(\"' I told my friends,\"'\"Pythons is my faverite language\"')"
      ],
      "metadata": {
        "colab": {
          "base_uri": "https://localhost:8080/"
        },
        "id": "CIQwVxQiXrt0",
        "outputId": "fdd02550-0a6d-4e9a-87c4-b5f3c8f78af9"
      },
      "execution_count": 11,
      "outputs": [
        {
          "output_type": "stream",
          "name": "stdout",
          "text": [
            "' I told my friends,\"Pythons is my faverite language\"\n"
          ]
        }
      ]
    },
    {
      "cell_type": "code",
      "source": [
        "#print(\"'I told my friends,\"'\"Python is my favourite language\"')\n",
        "#print('\"The language is named after'\"'Monty Python'\"',not the snake.')"
      ],
      "metadata": {
        "id": "LeikG8wubRam"
      },
      "execution_count": 10,
      "outputs": []
    },
    {
      "cell_type": "code",
      "source": [
        "# Changing case in the string with Methods.\n",
        "name = \"ruby roundhouse\"\n",
        "print(name.title())"
      ],
      "metadata": {
        "colab": {
          "base_uri": "https://localhost:8080/"
        },
        "id": "DqYJ7xhMiuYt",
        "outputId": "d31ff0b8-0e41-404c-f1a4-6718b906b875"
      },
      "execution_count": null,
      "outputs": [
        {
          "output_type": "stream",
          "name": "stdout",
          "text": [
            "Ruby Roundhouse\n"
          ]
        }
      ]
    },
    {
      "cell_type": "code",
      "source": [
        "# Now try to change with your name with other methods and check the result.\n",
        "name = \"yourname here\"\n",
        "print(name.upper())\n",
        "print(name.lower())"
      ],
      "metadata": {
        "colab": {
          "base_uri": "https://localhost:8080/"
        },
        "id": "_PKvq5znjY1E",
        "outputId": "3463b883-8c94-4d14-999a-59f09bac8cf5"
      },
      "execution_count": null,
      "outputs": [
        {
          "output_type": "stream",
          "name": "stdout",
          "text": [
            "YOURNAME HEAR\n",
            "yourname hear\n"
          ]
        }
      ]
    },
    {
      "cell_type": "code",
      "source": [
        "# Combine or concatenating stings.\n",
        "first_name = \"smolder\"\n",
        "last_name = \"bravestone\"\n",
        "full_name = firstname+\" \"+lastname\n",
        "print(fullname)"
      ],
      "metadata": {
        "colab": {
          "base_uri": "https://localhost:8080/"
        },
        "id": "LopD_oYUkB2U",
        "outputId": "eaace5ee-b82b-4681-8dc5-1ef3d1c8b19f"
      },
      "execution_count": null,
      "outputs": [
        {
          "output_type": "stream",
          "name": "stdout",
          "text": [
            "smolder bravestone\n"
          ]
        }
      ]
    },
    {
      "cell_type": "code",
      "source": [
        "# Adding Whitespace to sting with Tabs or newline\n",
        "print('python')\n",
        "print(\"\\tpython\")"
      ],
      "metadata": {
        "colab": {
          "base_uri": "https://localhost:8080/"
        },
        "id": "kJHj-I8jcBUX",
        "outputId": "6c5f7295-53bd-49bc-f852-45bdfecc182e"
      },
      "execution_count": null,
      "outputs": [
        {
          "output_type": "stream",
          "name": "stdout",
          "text": [
            "python\n",
            "\tpython\n"
          ]
        }
      ]
    },
    {
      "cell_type": "code",
      "source": [
        "#To add the newline using \\n\n",
        "print(\"Computer Languages: \\npython\\nc/c++\\njavascript\")"
      ],
      "metadata": {
        "colab": {
          "base_uri": "https://localhost:8080/"
        },
        "id": "5VQzIwStc1GU",
        "outputId": "6e3aed23-72cc-4007-e786-3cf510753378"
      },
      "execution_count": null,
      "outputs": [
        {
          "output_type": "stream",
          "name": "stdout",
          "text": [
            "Computer Languages: \n",
            "python\n",
            "c/c++\n",
            "javascript\n"
          ]
        }
      ]
    },
    {
      "cell_type": "code",
      "source": [
        "#You can combine tab and newline in a single sting\n",
        "print(\"Computer Languages: \\n\\tpython\\n\\tc/c++\\n\\tjavascript\")"
      ],
      "metadata": {
        "colab": {
          "base_uri": "https://localhost:8080/"
        },
        "id": "Ygk30rTldV-o",
        "outputId": "7c0adbc2-d72b-4af9-a0d0-e74e021ebefd"
      },
      "execution_count": null,
      "outputs": [
        {
          "output_type": "stream",
          "name": "stdout",
          "text": [
            "Computer Languages: \n",
            "\tpython\n",
            "\tc/c++\n",
            "\tjavascript\n"
          ]
        }
      ]
    },
    {
      "cell_type": "code",
      "source": [
        "#To programing \"python\" and \"python \" pretty much be the same. Extra white space can be confusing.\n",
        "#To ensure that no whitespace exist use sting method\n",
        "faverite_language = ' python '\n",
        "faverite_language"
      ],
      "metadata": {
        "colab": {
          "base_uri": "https://localhost:8080/",
          "height": 35
        },
        "id": "KJTGlUx5dtrW",
        "outputId": "06c6af29-8ebf-4632-95bf-a769be84ccc0"
      },
      "execution_count": null,
      "outputs": [
        {
          "output_type": "execute_result",
          "data": {
            "text/plain": [
              "' python '"
            ],
            "application/vnd.google.colaboratory.intrinsic+json": {
              "type": "string"
            }
          },
          "metadata": {},
          "execution_count": 5
        }
      ]
    },
    {
      "cell_type": "code",
      "source": [
        "faverite_language.rstrip()"
      ],
      "metadata": {
        "colab": {
          "base_uri": "https://localhost:8080/",
          "height": 35
        },
        "id": "8PZyd82mfLnB",
        "outputId": "881620bd-b054-4757-e09c-cca81f4f305f"
      },
      "execution_count": null,
      "outputs": [
        {
          "output_type": "execute_result",
          "data": {
            "text/plain": [
              "' python'"
            ],
            "application/vnd.google.colaboratory.intrinsic+json": {
              "type": "string"
            }
          },
          "metadata": {},
          "execution_count": 8
        }
      ]
    },
    {
      "cell_type": "code",
      "source": [
        "faverite_language.lstrip()"
      ],
      "metadata": {
        "colab": {
          "base_uri": "https://localhost:8080/",
          "height": 35
        },
        "id": "-czLcFWnfyKa",
        "outputId": "38136fde-88e0-4d05-da2f-9d7ed20f1949"
      },
      "execution_count": null,
      "outputs": [
        {
          "output_type": "execute_result",
          "data": {
            "text/plain": [
              "'python '"
            ],
            "application/vnd.google.colaboratory.intrinsic+json": {
              "type": "string"
            }
          },
          "metadata": {},
          "execution_count": 9
        }
      ]
    },
    {
      "cell_type": "code",
      "source": [
        "faverite_language.strip()"
      ],
      "metadata": {
        "colab": {
          "base_uri": "https://localhost:8080/",
          "height": 35
        },
        "id": "3dFdmPL2fzsj",
        "outputId": "c5961f96-9be6-4f95-cd27-c8ee254e62f8"
      },
      "execution_count": null,
      "outputs": [
        {
          "output_type": "execute_result",
          "data": {
            "text/plain": [
              "'python'"
            ],
            "application/vnd.google.colaboratory.intrinsic+json": {
              "type": "string"
            }
          },
          "metadata": {},
          "execution_count": 10
        }
      ]
    },
    {
      "cell_type": "code",
      "source": [
        "#Try it your self (TIY)\n",
        "#"
      ],
      "metadata": {
        "id": "0LYmLY1UgEMs"
      },
      "execution_count": null,
      "outputs": []
    },
    {
      "cell_type": "markdown",
      "source": [
        "## **Adding Whitespace to Strings with Tabs or Newlines**"
      ],
      "metadata": {
        "id": "t_fWZ5EMcUEe"
      }
    },
    {
      "cell_type": "code",
      "source": [
        "print(\"Python\")"
      ],
      "metadata": {
        "id": "ef5CT6VqcOUU"
      },
      "execution_count": null,
      "outputs": []
    },
    {
      "cell_type": "code",
      "source": [
        "print(\"\\tPython\")"
      ],
      "metadata": {
        "id": "_QX2sRSEclS0"
      },
      "execution_count": null,
      "outputs": []
    },
    {
      "cell_type": "code",
      "source": [
        "# To add a newline in a string, use the character combination \\n:\n",
        "print(\"Languages:\\nPython\\nC\\nJavaScript\")"
      ],
      "metadata": {
        "id": "E06jKXm1ct-L"
      },
      "execution_count": null,
      "outputs": []
    }
  ]
}