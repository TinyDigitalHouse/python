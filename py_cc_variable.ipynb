{
  "nbformat": 4,
  "nbformat_minor": 0,
  "metadata": {
    "colab": {
      "provenance": [],
      "authorship_tag": "ABX9TyOxaWykiyGeL5KeXOEaHRBz",
      "include_colab_link": true
    },
    "kernelspec": {
      "name": "python3",
      "display_name": "Python 3"
    },
    "language_info": {
      "name": "python"
    }
  },
  "cells": [
    {
      "cell_type": "markdown",
      "metadata": {
        "id": "view-in-github",
        "colab_type": "text"
      },
      "source": [
        "<a href=\"https://colab.research.google.com/github/TinyDigitalHouse/python/blob/main/py_cc_variable.ipynb\" target=\"_parent\"><img src=\"https://colab.research.google.com/assets/colab-badge.svg\" alt=\"Open In Colab\"/></a>"
      ]
    },
    {
      "cell_type": "code",
      "execution_count": null,
      "metadata": {
        "id": "FnbnhG4rclsL"
      },
      "outputs": [],
      "source": [
        "#My first variable"
      ]
    },
    {
      "cell_type": "code",
      "source": [
        "name = 'Bill'  # You canput put your name hear\n"
      ],
      "metadata": {
        "id": "4cY_RrwgdVx-"
      },
      "execution_count": null,
      "outputs": []
    },
    {
      "cell_type": "code",
      "source": [
        "print(\"Hello my name is \"+ name+'.')"
      ],
      "metadata": {
        "colab": {
          "base_uri": "https://localhost:8080/"
        },
        "id": "dIvWYSMudfkF",
        "outputId": "55553094-36ab-4d96-afdd-9a6edf0459b6"
      },
      "execution_count": null,
      "outputs": [
        {
          "output_type": "stream",
          "name": "stdout",
          "text": [
            "Hello my name is Bill.\n"
          ]
        }
      ]
    },
    {
      "cell_type": "code",
      "source": [
        "# A String is sinply series of charactors.You can use single quote or double quote around string like this.\n",
        "# 'This is string.'\n",
        "# \"This is string to.\""
      ],
      "metadata": {
        "id": "PzZbXeZMfd3I"
      },
      "execution_count": null,
      "outputs": []
    },
    {
      "cell_type": "code",
      "source": [
        "# This is flexible to allow you to use quote and aposetrophes with in your string.\n",
        "# 'I told my frineds,\"Python is my faverite language!\"\n",
        "# \"The language is named after 'Monty Python' ,not the snake.\"\n"
      ],
      "metadata": {
        "id": "1XWK9jrTgdkB"
      },
      "execution_count": null,
      "outputs": []
    },
    {
      "cell_type": "code",
      "source": [
        "# Changing case in the string with Methods.\n",
        "name = \"ruby roundhouse\"\n",
        "print(name.title())"
      ],
      "metadata": {
        "colab": {
          "base_uri": "https://localhost:8080/"
        },
        "id": "DqYJ7xhMiuYt",
        "outputId": "d31ff0b8-0e41-404c-f1a4-6718b906b875"
      },
      "execution_count": null,
      "outputs": [
        {
          "output_type": "stream",
          "name": "stdout",
          "text": [
            "Ruby Roundhouse\n"
          ]
        }
      ]
    },
    {
      "cell_type": "code",
      "source": [
        "# Now try to change with your name with other methods and check the result.\n",
        "name = \"yourname hear\"\n",
        "print(name.upper())\n",
        "print(name.lower())"
      ],
      "metadata": {
        "colab": {
          "base_uri": "https://localhost:8080/"
        },
        "id": "_PKvq5znjY1E",
        "outputId": "3463b883-8c94-4d14-999a-59f09bac8cf5"
      },
      "execution_count": null,
      "outputs": [
        {
          "output_type": "stream",
          "name": "stdout",
          "text": [
            "YOURNAME HEAR\n",
            "yourname hear\n"
          ]
        }
      ]
    },
    {
      "cell_type": "code",
      "source": [
        "# Combine or concatenating stings.\n",
        "first_name = \"smolder\"\n",
        "last_name = \"bravestone\"\n",
        "full_name = firstname+\" \"+lastname\n",
        "print(fullname)"
      ],
      "metadata": {
        "colab": {
          "base_uri": "https://localhost:8080/"
        },
        "id": "LopD_oYUkB2U",
        "outputId": "eaace5ee-b82b-4681-8dc5-1ef3d1c8b19f"
      },
      "execution_count": null,
      "outputs": [
        {
          "output_type": "stream",
          "name": "stdout",
          "text": [
            "smolder bravestone\n"
          ]
        }
      ]
    }
  ]
}