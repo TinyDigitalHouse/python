{
  "nbformat": 4,
  "nbformat_minor": 0,
  "metadata": {
    "colab": {
      "provenance": [],
      "authorship_tag": "ABX9TyPg7YlH/21FuTqRCH6LzxdQ",
      "include_colab_link": true
    },
    "kernelspec": {
      "name": "python3",
      "display_name": "Python 3"
    },
    "language_info": {
      "name": "python"
    }
  },
  "cells": [
    {
      "cell_type": "markdown",
      "metadata": {
        "id": "view-in-github",
        "colab_type": "text"
      },
      "source": [
        "<a href=\"https://colab.research.google.com/github/TinyDigitalHouse/python/blob/main/python_lesson2.ipynb\" target=\"_parent\"><img src=\"https://colab.research.google.com/assets/colab-badge.svg\" alt=\"Open In Colab\"/></a>"
      ]
    },
    {
      "cell_type": "markdown",
      "source": [
        "Common Data Types\n",
        "\n",
        "Examples Data type\n",
        "\n",
        "> Integers           -2, -1, 0, 1, 2, 3, 4, 5\n",
        "\n",
        "\n",
        "\n",
        "> Floating-point numbers  -1.25, -1.0, -0.5, 0.0, 0.5, 1.0, 1.25\n",
        "\n",
        "\n",
        "> Strings  'a', 'aa', 'aaa', 'Hello!', '11 cats'\n"
      ],
      "metadata": {
        "id": "aHPPbOgjUctm"
      }
    },
    {
      "cell_type": "code",
      "execution_count": null,
      "metadata": {
        "id": "MeEwmYqrTp1I"
      },
      "outputs": [],
      "source": [
        "# Integers and Floats\n",
        "# When you divide any two numbers, even if they are integers that result\n",
        "# in a whole number, you’ll always get a float:\n",
        "4/2"
      ]
    },
    {
      "cell_type": "code",
      "source": [
        "#If you mix an integer and a float in any other operation, you’ll get a float as well\n",
        "1 + 2.0"
      ],
      "metadata": {
        "id": "pkRrahi0gsFl"
      },
      "execution_count": null,
      "outputs": []
    },
    {
      "cell_type": "code",
      "source": [
        "3.0 ** 2"
      ],
      "metadata": {
        "id": "XIgcK5P5g5xE"
      },
      "execution_count": null,
      "outputs": []
    },
    {
      "cell_type": "code",
      "source": [
        "2 * 3.0"
      ],
      "metadata": {
        "id": "zjqw28JWg4cs"
      },
      "execution_count": null,
      "outputs": []
    },
    {
      "cell_type": "code",
      "source": [
        "type(3.0 ** 2)"
      ],
      "metadata": {
        "id": "KWCQOwlig811"
      },
      "execution_count": null,
      "outputs": []
    }
  ]
}