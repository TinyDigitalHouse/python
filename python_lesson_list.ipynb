{
  "nbformat": 4,
  "nbformat_minor": 0,
  "metadata": {
    "colab": {
      "provenance": [],
      "authorship_tag": "ABX9TyMwxFpkB913AEUS4glJ4xsG",
      "include_colab_link": true
    },
    "kernelspec": {
      "name": "python3",
      "display_name": "Python 3"
    },
    "language_info": {
      "name": "python"
    }
  },
  "cells": [
    {
      "cell_type": "markdown",
      "metadata": {
        "id": "view-in-github",
        "colab_type": "text"
      },
      "source": [
        "<a href=\"https://colab.research.google.com/github/TinyDigitalHouse/python/blob/main/python_lesson_list.ipynb\" target=\"_parent\"><img src=\"https://colab.research.google.com/assets/colab-badge.svg\" alt=\"Open In Colab\"/></a>"
      ]
    },
    {
      "cell_type": "markdown",
      "source": [
        "# **INTRODUCING LISTS**"
      ],
      "metadata": {
        "id": "JSBU07huiM7W"
      }
    },
    {
      "cell_type": "markdown",
      "source": [
        "What Is a List?\n",
        "A list is a collection of items in a particular order. You can make a list\n",
        "that includes the letters of the alphabet, the digits from 0–9, or the\n",
        "names of all the people in your family. You can put anything you want\n",
        "into a list, and the items in your list don’t have to be related in any\n",
        "particular way. Because a list usually contains more than one element,\n",
        "it’s a good idea to make the name of your list plural, such as letters,\n",
        "digits, or names.\n"
      ],
      "metadata": {
        "id": "5xJEQAqPiUni"
      }
    },
    {
      "cell_type": "code",
      "execution_count": null,
      "metadata": {
        "id": "o06N9YCQiGmo"
      },
      "outputs": [],
      "source": [
        "bicycles = ['trek', 'cannondale', 'redline', 'specialized']"
      ]
    },
    {
      "cell_type": "code",
      "source": [
        "print(bicycles)"
      ],
      "metadata": {
        "id": "8OvUxGFbie4V"
      },
      "execution_count": null,
      "outputs": []
    },
    {
      "cell_type": "markdown",
      "source": [
        "Lists are ordered collections, so you can access any element in a list by\n",
        "telling Python the position, or index,"
      ],
      "metadata": {
        "id": "jQ9yezF6inKN"
      }
    },
    {
      "cell_type": "code",
      "source": [
        "print(bicycles[0])"
      ],
      "metadata": {
        "id": "g2hB2zZ_ipw1"
      },
      "execution_count": null,
      "outputs": []
    },
    {
      "cell_type": "code",
      "source": [
        "print(bicycles[0].title())"
      ],
      "metadata": {
        "id": "mxWLhyGyizcl"
      },
      "execution_count": null,
      "outputs": []
    },
    {
      "cell_type": "code",
      "source": [
        "# Index Positions Start at 0, Not 1\n",
        "print(bicycles)\n",
        "print(bicycles[1])\n",
        "print(bicycles[3])"
      ],
      "metadata": {
        "id": "Oa3o0f39i6uk"
      },
      "execution_count": null,
      "outputs": []
    },
    {
      "cell_type": "markdown",
      "source": [
        "Python has a special syntax for accessing the last element in a list. By\n",
        "asking for the item at index -1, Python always returns the last item in\n",
        "the list:"
      ],
      "metadata": {
        "id": "KHHFa6X_jV0k"
      }
    },
    {
      "cell_type": "code",
      "source": [
        "print(bicycles[-1])"
      ],
      "metadata": {
        "id": "8Q7goJtvjXq9"
      },
      "execution_count": null,
      "outputs": []
    },
    {
      "cell_type": "code",
      "source": [
        "# Let’s try pulling the first bicycle from the list and composing a message using that value.\n",
        "message = f\"My first bicycle was a {bicycles[0].title()}.\"\n",
        "print(message)"
      ],
      "metadata": {
        "id": "MTCGTkk5jrq6"
      },
      "execution_count": null,
      "outputs": []
    },
    {
      "cell_type": "markdown",
      "source": [
        "# **TRY IT YOURSELF**\n",
        "Try these short programs to get some firsthand experience with Python’s lists. You\n",
        "might want to create a new folder for each chapter’s exercises to keep them organized.\n"
      ],
      "metadata": {
        "id": "sKQ5pap6kMQs"
      }
    },
    {
      "cell_type": "markdown",
      "source": [
        "1.  Names: Store the names of a few of your friends in a list called names. Print each person’s name by accessing each element in the list, one at a time"
      ],
      "metadata": {
        "id": "7ELf7z94kZ0T"
      }
    },
    {
      "cell_type": "code",
      "source": [
        "# Code here."
      ],
      "metadata": {
        "id": "161L1RRqkdm7"
      },
      "execution_count": null,
      "outputs": []
    },
    {
      "cell_type": "markdown",
      "source": [
        "2. Greetings: Start with the list you used in Exercise 1., but instead of just printing each person’s name, print a message to them. The text of each message should be the same, but each message should be personalized with the person’s name."
      ],
      "metadata": {
        "id": "GEK-mK5-ksrM"
      }
    },
    {
      "cell_type": "code",
      "source": [
        "# Code here."
      ],
      "metadata": {
        "id": "HCJMis-Kk6GT"
      },
      "execution_count": null,
      "outputs": []
    },
    {
      "cell_type": "markdown",
      "source": [
        "3. Your Own List: Think of your favorite mode of transportation, such as a\n",
        "motorcycle or a car, and make a list that stores several examples. Use your list to print a series of statements about these items, such as “I would like to own a Honda motorcycle.”"
      ],
      "metadata": {
        "id": "YmiHT40nlF9s"
      }
    },
    {
      "cell_type": "code",
      "source": [
        "# Code here."
      ],
      "metadata": {
        "id": "cq_MC_frlAps"
      },
      "execution_count": null,
      "outputs": []
    },
    {
      "cell_type": "markdown",
      "source": [
        "# **Modifying Elements in a List**"
      ],
      "metadata": {
        "id": "dMEMOSMilzb8"
      }
    },
    {
      "cell_type": "code",
      "source": [
        "motorcycles = ['honda', 'yamaha', 'suzuki']\n",
        "print(motorcycles)"
      ],
      "metadata": {
        "id": "jzqPQwxkl2dh"
      },
      "execution_count": null,
      "outputs": []
    },
    {
      "cell_type": "code",
      "source": [
        "motorcycles[0] = 'ducati'\n",
        "print(motorcycles)"
      ],
      "metadata": {
        "id": "hP434gQjmRqW"
      },
      "execution_count": null,
      "outputs": []
    },
    {
      "cell_type": "code",
      "source": [
        "#modify last list with bmw\n",
        "\n"
      ],
      "metadata": {
        "id": "Z_b0qfv-ObWR"
      },
      "execution_count": null,
      "outputs": []
    },
    {
      "cell_type": "markdown",
      "source": [
        "Appending Elements to the End of a List"
      ],
      "metadata": {
        "id": "MZ54Q_5NmZ4z"
      }
    },
    {
      "cell_type": "code",
      "source": [
        "motorcycles = ['honda', 'yamaha', 'suzuki']\n",
        "motorcycles.append('ducati')\n",
        "print(motorcycles)"
      ],
      "metadata": {
        "id": "ldk12UTsmbib"
      },
      "execution_count": null,
      "outputs": []
    },
    {
      "cell_type": "markdown",
      "source": [
        "The append() method makes it easy to build lists dynamically. For\n",
        "example, you can start with an empty list and then add items to the list\n",
        "using a series of append() calls. Using an empty list, let’s add the elements\n",
        "'honda', 'yamaha', and 'suzuki' to the list:\n"
      ],
      "metadata": {
        "id": "cBiBkxBom3RE"
      }
    },
    {
      "cell_type": "code",
      "source": [
        "motorcycles = []\n",
        "motorcycles.append('honda')\n",
        "motorcycles.append('yamaha')\n",
        "motorcycles.append('suzuki')\n",
        "\n",
        "print(motorcycles)"
      ],
      "metadata": {
        "colab": {
          "base_uri": "https://localhost:8080/"
        },
        "id": "uv6Z78f_m8JU",
        "outputId": "6af1bb78-c2d4-4cc8-923b-d74399e2373c"
      },
      "execution_count": null,
      "outputs": [
        {
          "output_type": "stream",
          "name": "stdout",
          "text": [
            "['honda', 'yamaha', 'suzuki']\n"
          ]
        }
      ]
    },
    {
      "cell_type": "markdown",
      "source": [
        "Try it yor self.\n",
        "\n",
        "1. Using an empty list, let’s add the elements 'apple', 'banana', and 'mango' to the list:\n",
        "2. Using an empty list, let’s add the elements 'red', 'blue', and 'green' to the list:\n",
        "3. Access first and last element in a list by telling Python the position, or index of fruits and colors."
      ],
      "metadata": {
        "id": "O8FNpkaynDXk"
      }
    },
    {
      "cell_type": "code",
      "source": [
        "# code here."
      ],
      "metadata": {
        "id": "1CMtEz5ioEJ7"
      },
      "execution_count": null,
      "outputs": []
    },
    {
      "cell_type": "code",
      "source": [],
      "metadata": {
        "id": "rN8GZCg0m2HM"
      },
      "execution_count": null,
      "outputs": []
    },
    {
      "cell_type": "code",
      "source": [],
      "metadata": {
        "id": "Ev5qQWcKBkiN"
      },
      "execution_count": null,
      "outputs": []
    },
    {
      "cell_type": "markdown",
      "source": [
        "You can also use the remove() method to work with a value"
      ],
      "metadata": {
        "id": "VsYHg9Z2BqVk"
      }
    },
    {
      "cell_type": "code",
      "source": [
        "too_expensive = 'ducati'\n",
        "motorcycles.remove(too_expensive)\n",
        "print(motorcycles)"
      ],
      "metadata": {
        "id": "VWXQQc-eBmW_"
      },
      "execution_count": null,
      "outputs": []
    },
    {
      "cell_type": "code",
      "source": [],
      "metadata": {
        "id": "ot1-_jz0ByDX"
      },
      "execution_count": null,
      "outputs": []
    },
    {
      "cell_type": "markdown",
      "source": [
        "# **Sorting a List Permanently with the sort() Method**"
      ],
      "metadata": {
        "id": "8n1ErsUjERgA"
      }
    },
    {
      "cell_type": "code",
      "source": [
        "cars = ['bmw', 'audi', 'toyota', 'subaru']\n",
        "cars.sort()\n",
        "print(cars)\n"
      ],
      "metadata": {
        "id": "shyELZHXEQoD"
      },
      "execution_count": null,
      "outputs": []
    },
    {
      "cell_type": "markdown",
      "source": [
        "# Removing Elements from a List\n",
        "\n",
        "Removing an Item Using the del Statement\n",
        "If you know the position of the item you want to remove from a list,\n",
        "you can use the del statement"
      ],
      "metadata": {
        "id": "EbIJQLyiPIhc"
      }
    },
    {
      "cell_type": "code",
      "source": [
        "motorcycles = ['honda', 'yamaha', 'suzuki']\n",
        "print(motorcycles)\n"
      ],
      "metadata": {
        "colab": {
          "base_uri": "https://localhost:8080/"
        },
        "id": "pBbb4-REPRai",
        "outputId": "bb99460a-3a32-44fd-dffd-fed60f459c50"
      },
      "execution_count": null,
      "outputs": [
        {
          "output_type": "stream",
          "name": "stdout",
          "text": [
            "['honda', 'yamaha', 'suzuki']\n"
          ]
        }
      ]
    },
    {
      "cell_type": "code",
      "source": [
        "del motorcycles[0]\n",
        "print(motorcycles)"
      ],
      "metadata": {
        "colab": {
          "base_uri": "https://localhost:8080/"
        },
        "id": "8e4C1xDfPasV",
        "outputId": "39120f5a-c061-4ac3-ebd4-0cb2f6b8f15d"
      },
      "execution_count": null,
      "outputs": [
        {
          "output_type": "stream",
          "name": "stdout",
          "text": [
            "['yamaha', 'suzuki']\n"
          ]
        }
      ]
    },
    {
      "cell_type": "markdown",
      "source": [
        "You can remove an item from any position in a list using the del\n",
        "statement if you know its index. For example, here’s how to remove the\n",
        "second item, 'yamaha', in the list:"
      ],
      "metadata": {
        "id": "m2pFW8ndPkO9"
      }
    },
    {
      "cell_type": "code",
      "source": [
        "motorcycles = ['honda', 'yamaha', 'suzuki']\n",
        "print(motorcycles)\n"
      ],
      "metadata": {
        "id": "a35pH8OcPlyM"
      },
      "execution_count": null,
      "outputs": []
    },
    {
      "cell_type": "code",
      "source": [
        "del motorcycles[1]\n",
        "print(motorcycles)"
      ],
      "metadata": {
        "id": "6fygb18EPrlU"
      },
      "execution_count": null,
      "outputs": []
    },
    {
      "cell_type": "markdown",
      "source": [
        "Removing an Item Using the pop() Method\n"
      ],
      "metadata": {
        "id": "FVDIJeARP33c"
      }
    },
    {
      "cell_type": "markdown",
      "source": [
        "The pop() method removes the last item in a list, but it lets you work\n",
        "with that item after removing it. The term pop comes from thinking of a\n",
        "list as a stack of items and popping one item off the top of the stack. In\n",
        "this analogy, the top of a stack corresponds to the end of a list.\n"
      ],
      "metadata": {
        "id": "d3B32vR9P-fj"
      }
    },
    {
      "cell_type": "code",
      "source": [
        "motorcycles = ['honda', 'yamaha', 'suzuki']\n",
        "print(motorcycles)"
      ],
      "metadata": {
        "colab": {
          "base_uri": "https://localhost:8080/"
        },
        "id": "Uam8OPFvP_aD",
        "outputId": "c8d826b3-e24d-4efa-863e-35e977b11ad5"
      },
      "execution_count": null,
      "outputs": [
        {
          "output_type": "stream",
          "name": "stdout",
          "text": [
            "['honda', 'yamaha', 'suzuki']\n"
          ]
        }
      ]
    },
    {
      "cell_type": "code",
      "source": [
        "popped_motorcycle = motorcycles.pop()\n",
        "print(motorcycles)\n",
        "print(popped_motorcycle)"
      ],
      "metadata": {
        "colab": {
          "base_uri": "https://localhost:8080/"
        },
        "id": "2askAB4LQGeV",
        "outputId": "e8866d89-b7ab-474b-88d2-f9eb8792fe33"
      },
      "execution_count": null,
      "outputs": [
        {
          "output_type": "stream",
          "name": "stdout",
          "text": [
            "['honda', 'yamaha']\n",
            "suzuki\n"
          ]
        }
      ]
    },
    {
      "cell_type": "markdown",
      "source": [
        "Popping Items from any Position in a List"
      ],
      "metadata": {
        "id": "gc5CuOJaQUuM"
      }
    },
    {
      "cell_type": "code",
      "source": [
        "motorcycles = ['honda', 'yamaha', 'suzuki']\n",
        "first_owned = motorcycles.pop(0)\n",
        "print(f\"The first motorcycle I owned was a {first_owned.title()}.\")"
      ],
      "metadata": {
        "colab": {
          "base_uri": "https://localhost:8080/"
        },
        "id": "PzLmSjamQX8s",
        "outputId": "0ce419fe-4707-4bd6-8032-f0cccf52fc57"
      },
      "execution_count": null,
      "outputs": [
        {
          "output_type": "stream",
          "name": "stdout",
          "text": [
            "The first motorcycle I owned was a Honda.\n"
          ]
        }
      ]
    },
    {
      "cell_type": "markdown",
      "source": [
        "Removing an Item by Value\n",
        "\n",
        "For example, let’s say we want to remove the value 'ducati' from the\n",
        "list of motorcycles.\n"
      ],
      "metadata": {
        "id": "xwHSu_BHQjkW"
      }
    },
    {
      "cell_type": "code",
      "source": [
        "motorcycles = ['honda', 'yamaha', 'suzuki', 'ducati']"
      ],
      "metadata": {
        "id": "xMWsjQQCQr00"
      },
      "execution_count": null,
      "outputs": []
    },
    {
      "cell_type": "code",
      "source": [
        "print(motorcycles)"
      ],
      "metadata": {
        "id": "mLJKAjBsQ11g"
      },
      "execution_count": null,
      "outputs": []
    },
    {
      "cell_type": "code",
      "source": [
        "motorcycles.remove('ducati')"
      ],
      "metadata": {
        "id": "UIO06RpJQ56i"
      },
      "execution_count": null,
      "outputs": []
    },
    {
      "cell_type": "code",
      "source": [
        "print(motorcycles)"
      ],
      "metadata": {
        "id": "fuSiaFKGQ8M5"
      },
      "execution_count": null,
      "outputs": []
    },
    {
      "cell_type": "markdown",
      "source": [
        "# Try It your self"
      ],
      "metadata": {
        "id": "1oxGdc35RVdv"
      }
    },
    {
      "cell_type": "markdown",
      "source": [
        "Guest List: If you could invite anyone, living or deceased, to dinner, who would\n",
        "you invite? Make a list that includes at least three people you’d like to invite to dinner.\n",
        "Then use your list to print a message to each person, inviting them to dinner.\n"
      ],
      "metadata": {
        "id": "hfRHwd1cRdOc"
      }
    },
    {
      "cell_type": "code",
      "source": [],
      "metadata": {
        "id": "gLkXtJCBRe4E"
      },
      "execution_count": null,
      "outputs": []
    },
    {
      "cell_type": "code",
      "source": [],
      "metadata": {
        "id": "IWWu2CEaRf4M"
      },
      "execution_count": null,
      "outputs": []
    },
    {
      "cell_type": "code",
      "source": [],
      "metadata": {
        "id": "9L5UGf95RfrE"
      },
      "execution_count": null,
      "outputs": []
    },
    {
      "cell_type": "markdown",
      "source": [
        "Changing Guest List: You just heard that one of your guests can’t make the dinner,\n",
        "so you need to send out a new set of invitations. You’ll have to think of someone else to\n",
        "invite.\n"
      ],
      "metadata": {
        "id": "hpHoUfRTRlq3"
      }
    },
    {
      "cell_type": "code",
      "source": [],
      "metadata": {
        "id": "x1ui2ycjRoSl"
      },
      "execution_count": null,
      "outputs": []
    },
    {
      "cell_type": "code",
      "source": [],
      "metadata": {
        "id": "o7pad8hVRo3B"
      },
      "execution_count": null,
      "outputs": []
    },
    {
      "cell_type": "code",
      "source": [],
      "metadata": {
        "id": "UemJ3CB5Ro0E"
      },
      "execution_count": null,
      "outputs": []
    },
    {
      "cell_type": "code",
      "source": [],
      "metadata": {
        "id": "KL6tMAVxRoxk"
      },
      "execution_count": null,
      "outputs": []
    },
    {
      "cell_type": "markdown",
      "source": [
        "Getting a List’s Length with the len() Function\n",
        "The len() function will return the number of values that are in a list value passed to it, just like it can count the number of characters in a string value. Enter the following into the interactive shell:"
      ],
      "metadata": {
        "id": "_rrE3TjVx5be"
      }
    },
    {
      "cell_type": "code",
      "source": [
        "spam = ['cat', 'dog', 'moose']"
      ],
      "metadata": {
        "id": "EbV3_f5cyBvG"
      },
      "execution_count": 1,
      "outputs": []
    },
    {
      "cell_type": "code",
      "source": [
        "len(spam)"
      ],
      "metadata": {
        "id": "FhXtYQwPyHoE"
      },
      "execution_count": null,
      "outputs": []
    },
    {
      "cell_type": "markdown",
      "source": [
        "# WORKING WITH LISTS"
      ],
      "metadata": {
        "id": "zGLNtrhj2Rri"
      }
    },
    {
      "cell_type": "markdown",
      "source": [
        "Looping Through an Entire List\n",
        "You’ll often want to run through all entries in a list, performing the\n",
        "same task with each item. For example, in a game you might want to\n",
        "move every element on the screen by the same amount, or in a list of\n",
        "numbers you might want to perform the same statistical operation on\n",
        "every element. Or perhaps you’ll want to display each headline from a\n",
        "list of articles on a website. When you want to do the same action with\n",
        "every item in a list, you can use Python’s for loop."
      ],
      "metadata": {
        "id": "P3b1eyeQ2Ves"
      }
    },
    {
      "cell_type": "markdown",
      "source": [
        "To print hello five times in Python, you could do the following:"
      ],
      "metadata": {
        "id": "2DivOD3r3Jdd"
      }
    },
    {
      "cell_type": "code",
      "source": [
        "print(\"hello\")\n",
        "print(\"hello\")\n",
        "print(\"hello\")\n",
        "print(\"hello\")\n",
        "print(\"hello\")\n",
        "print(\"hello\")"
      ],
      "metadata": {
        "id": "hsML_qdr3LXl"
      },
      "execution_count": null,
      "outputs": []
    },
    {
      "cell_type": "code",
      "source": [
        "#But this is rather tedious. Instead, you can use a for loop to\n",
        "#reduce the amount of typing and repetition, like this:\n",
        "for i in range(0, 5):\n",
        "  print('hello')"
      ],
      "metadata": {
        "id": "Cb68bfBv3aHF",
        "outputId": "542046ff-f7c2-4cd2-8469-3995525a3124",
        "colab": {
          "base_uri": "https://localhost:8080/"
        }
      },
      "execution_count": 8,
      "outputs": [
        {
          "output_type": "stream",
          "name": "stdout",
          "text": [
            "hello\n",
            "hello\n",
            "hello\n",
            "hello\n",
            "hello\n"
          ]
        }
      ]
    },
    {
      "cell_type": "code",
      "source": [
        "magicians = ['alice', 'david', 'carolina']\n",
        "for magician in magicians:\n",
        "  print(magician)"
      ],
      "metadata": {
        "id": "aTFXf0TD2dVA"
      },
      "execution_count": null,
      "outputs": []
    },
    {
      "cell_type": "markdown",
      "source": [
        "# A Closer Look at Looping\n",
        "The concept of looping is important because it’s one of the most\n",
        "common ways a computer automates repetitive tasks. For example, in a\n",
        "simple loop like we used, Python initially reads the first\n",
        "line of the loop:"
      ],
      "metadata": {
        "id": "Wn7aWDC64g11"
      }
    },
    {
      "cell_type": "code",
      "source": [
        "#for magician in magicians:"
      ],
      "metadata": {
        "id": "z01rt1qp4y52"
      },
      "execution_count": null,
      "outputs": []
    },
    {
      "cell_type": "markdown",
      "source": [
        "This line tells Python to retrieve the first value from the list magicians\n",
        "and associate it with the variable magician. This first value is 'alice'.\n",
        "Python then reads the next line:"
      ],
      "metadata": {
        "id": "SLbBg6Fc4u8H"
      }
    },
    {
      "cell_type": "code",
      "source": [
        "#print(magician)"
      ],
      "metadata": {
        "id": "XhSV0Vea4_ke"
      },
      "execution_count": null,
      "outputs": []
    },
    {
      "cell_type": "markdown",
      "source": [
        "Python prints the current value of magician, which is still 'alice'.\n",
        "Because the list contains more values, Python returns to the first line of\n",
        "the loop:"
      ],
      "metadata": {
        "id": "hnRqfFG95QtV"
      }
    },
    {
      "cell_type": "code",
      "source": [
        "#for magician in magicians:"
      ],
      "metadata": {
        "id": "k5ycA7Lb5SLF"
      },
      "execution_count": null,
      "outputs": []
    },
    {
      "cell_type": "markdown",
      "source": [
        "When you’re using loops for the first time, keep in mind that the set\n",
        "of steps is repeated once for each item in the list, no matter how many\n",
        "items are in the list. If you have a million items in your list, Python\n",
        "repeats these steps a million times—and usually very quickly.\n",
        "Also keep in mind when writing your own for loops that you can\n",
        "choose any name you want for the temporary variable that will be\n",
        "associated with each value in the list. However, it’s helpful to choose a\n",
        "meaningful name that represents a single item from the list. For\n",
        "example, here’s a good way to start a for loop for a list of cats, a list of\n",
        "dogs, and a general list of items:"
      ],
      "metadata": {
        "id": "05-jfTB66lnI"
      }
    },
    {
      "cell_type": "code",
      "source": [
        "#for cat in cats:\n",
        "#for dog in dogs:\n",
        "#for item in list_of_items:"
      ],
      "metadata": {
        "id": "czEGu6kS6mrf"
      },
      "execution_count": 10,
      "outputs": []
    },
    {
      "cell_type": "code",
      "source": [
        "motorcycles = ['honda', 'yamaha', 'suzuki']\n",
        "for item in motorcycles:\n",
        "  print(item)"
      ],
      "metadata": {
        "id": "xOoxbOF963G3",
        "outputId": "4e7e76f6-a9db-42ed-d4bc-582c5be4d9b2",
        "colab": {
          "base_uri": "https://localhost:8080/"
        }
      },
      "execution_count": 11,
      "outputs": [
        {
          "output_type": "stream",
          "name": "stdout",
          "text": [
            "honda\n",
            "yamaha\n",
            "suzuki\n"
          ]
        }
      ]
    },
    {
      "cell_type": "code",
      "source": [
        "#create list of color and print each color\n",
        "\n"
      ],
      "metadata": {
        "id": "D3HNvBqL7UyC"
      },
      "execution_count": null,
      "outputs": []
    },
    {
      "cell_type": "code",
      "source": [
        "#Create list of 5 latters and print each latter.\n",
        "\n"
      ],
      "metadata": {
        "id": "H7OxXbh37fXn"
      },
      "execution_count": null,
      "outputs": []
    },
    {
      "cell_type": "code",
      "source": [
        "# Create list of fruits and print each friut."
      ],
      "metadata": {
        "id": "tXrtKbTp7ruv"
      },
      "execution_count": null,
      "outputs": []
    },
    {
      "cell_type": "markdown",
      "source": [
        "# Doing More Work Within a for Loop"
      ],
      "metadata": {
        "id": "1zVljAUT7-3I"
      }
    },
    {
      "cell_type": "code",
      "source": [
        "magicians = ['alice', 'david', 'carolina']\n",
        "for magician in magicians:\n",
        "  print(f\"{magician.title()}, that was a great trick!\")"
      ],
      "metadata": {
        "id": "_edKL5Te7tNO",
        "outputId": "a9f0cf44-6dcd-4db2-fdd4-d347ce45f459",
        "colab": {
          "base_uri": "https://localhost:8080/"
        }
      },
      "execution_count": 12,
      "outputs": [
        {
          "output_type": "stream",
          "name": "stdout",
          "text": [
            "Alice, that was a great trick!\n",
            "David, that was a great trick!\n",
            "Carolina, that was a great trick!\n"
          ]
        }
      ]
    },
    {
      "cell_type": "code",
      "source": [],
      "metadata": {
        "id": "h6MLs-Ho8Btp"
      },
      "execution_count": null,
      "outputs": []
    },
    {
      "cell_type": "markdown",
      "source": [
        "#Exercise\n",
        "Animals: Think of at least three different animals that have a common\n",
        "characteristic. Store the names of these animals in a list, and then use a for loop to print\n",
        "out the name of each animal.\n",
        "*  Modify your program to print a statement about each animal,\n",
        "such as A dog would make a great pet.\n",
        "* Add a line at the end of your program stating what these\n",
        "animals have in common. You could print a sentence such as Any of these animals would make a great pet!"
      ],
      "metadata": {
        "id": "Wn4RTzOM8mpO"
      }
    },
    {
      "cell_type": "code",
      "source": [],
      "metadata": {
        "id": "lqUX6jNx87dW"
      },
      "execution_count": null,
      "outputs": []
    },
    {
      "cell_type": "code",
      "source": [],
      "metadata": {
        "id": "-548oLXj9etW"
      },
      "execution_count": null,
      "outputs": []
    },
    {
      "cell_type": "code",
      "source": [],
      "metadata": {
        "id": "FRr_wvu69eqW"
      },
      "execution_count": null,
      "outputs": []
    },
    {
      "cell_type": "code",
      "source": [
        "\"\"\"\n",
        "magicians = ['alice', 'david', 'carolina']\n",
        "for magician in magicians:\n",
        "  print(f\"{magician.title()}, that was a great trick!\")\n",
        "  print(f\"I can't wait to see your next trick, {magician.title()}.\\n\")\n",
        "  print(\"Thank you everyone, that was a great magic show!\")\n",
        "\"\"\"\n",
        "\n"
      ],
      "metadata": {
        "id": "eWZFa_LR9enG"
      },
      "execution_count": null,
      "outputs": []
    },
    {
      "cell_type": "markdown",
      "source": [
        "# Making Numerical Lists\n",
        "Many reasons exist to store a set of numbers. For example, you’ll need\n",
        "to keep track of the positions of each character in a game, and you\n",
        "might want to keep track of a player’s high scores as well. In data\n",
        "visualizations, you’ll almost always work with sets of numbers, such as\n",
        "temperatures, distances, population sizes, or latitude and longitude\n",
        "values, among other types of numerical sets.\n",
        "Lists are ideal for storing sets of numbers, and Python provides a\n",
        "variety of tools to help you work efficiently with lists of numbers. Once\n",
        "you understand how to use these tools effectively, your code will work\n",
        "well even when your lists contain millions of items."
      ],
      "metadata": {
        "id": "DIA4akMe971i"
      }
    },
    {
      "cell_type": "markdown",
      "source": [
        "# Using the range() Function\n",
        "Python’s range() function makes it easy to generate a series of numbers.\n",
        "For example, you can use the range() function to print a series of\n",
        "numbers like this:"
      ],
      "metadata": {
        "id": "H1Bp8Z4--Fe7"
      }
    },
    {
      "cell_type": "code",
      "source": [
        "for value in range(1, 5):\n",
        "  print(value)"
      ],
      "metadata": {
        "id": "892CJvtZ9-9H"
      },
      "execution_count": null,
      "outputs": []
    },
    {
      "cell_type": "markdown",
      "source": [
        "In this example, range() prints only the numbers 1 through 4. This is\n",
        "another result of the off-by-one behavior you’ll see often in programming languages. The range() function causes Python to start\n",
        "counting at the first value you give it, and it stops when it reaches the\n",
        "second value you provide. Because it stops at that second value, the\n",
        "output never contains the end value, which would have been 5 in this\n",
        "case.\n",
        "To print the numbers from 1 to 5, you would use range(1, 6):"
      ],
      "metadata": {
        "id": "Q1RdMfYd-395"
      }
    },
    {
      "cell_type": "code",
      "source": [
        "for value in range(1, 6):\n",
        "  print(value)"
      ],
      "metadata": {
        "id": "m7EQVFHw-_TV"
      },
      "execution_count": null,
      "outputs": []
    },
    {
      "cell_type": "markdown",
      "source": [
        "If your output is different than what you expect when you’re using\n",
        "range(), try adjusting your end value by 1.\n",
        "You can also pass range() only one argument, and it will start the\n",
        "sequence of numbers at 0. For example, range(6) would return the\n",
        "numbers from 0 through 5."
      ],
      "metadata": {
        "id": "fnzqouqe_GbY"
      }
    },
    {
      "cell_type": "code",
      "source": [
        "for value in range(1, 10):\n",
        "  print(value)"
      ],
      "metadata": {
        "id": "Y0EhaCuk_IDO"
      },
      "execution_count": null,
      "outputs": []
    },
    {
      "cell_type": "code",
      "source": [
        "#for value in range(1, 11):\n",
        "  print(value)"
      ],
      "metadata": {
        "id": "Ol4U-kbr_PqG"
      },
      "execution_count": null,
      "outputs": []
    },
    {
      "cell_type": "markdown",
      "source": [
        "#Using range() to Make a List of Numbers\n",
        "If you want to make a list of numbers, you can convert the results of\n",
        "range() directly into a list using the list() function. When you wrap\n",
        "list() around a call to the range() function, the output will be a list of\n",
        "numbers.\n",
        "In the example in the previous section, we simply printed out a series\n",
        "of numbers. We can use list() to convert that same set of numbers into\n",
        "a list:"
      ],
      "metadata": {
        "id": "rooM3bXc_Xca"
      }
    },
    {
      "cell_type": "code",
      "source": [
        "numbers = list(range(1, 6))\n",
        "print(numbers)"
      ],
      "metadata": {
        "id": "8X3CX3EN_gcf"
      },
      "execution_count": null,
      "outputs": []
    },
    {
      "cell_type": "markdown",
      "source": [
        "We can also use the range() function to tell Python to skip numbers\n",
        "in a given range. If you pass a third argument to range(), Python uses\n",
        "that value as a step size when generating numbers.\n",
        "For example, here’s how to list the even numbers between 1 and 10:"
      ],
      "metadata": {
        "id": "kTTlqRJ1_ram"
      }
    },
    {
      "cell_type": "code",
      "source": [
        "even_numbers = list(range(1, 11, 2))\n",
        "print(even_numbers)"
      ],
      "metadata": {
        "id": "DXt4ftP4_s9f"
      },
      "execution_count": null,
      "outputs": []
    },
    {
      "cell_type": "code",
      "source": [
        "#  how to list the odd numbers between 1 and 10\n",
        "\n"
      ],
      "metadata": {
        "id": "cJrT36HN_117"
      },
      "execution_count": null,
      "outputs": []
    },
    {
      "cell_type": "markdown",
      "source": [
        "You can create almost any set of numbers you want to using the\n",
        "range() function. For example, consider how you might make a list of\n",
        "the first 10 square numbers (that is, the square of each integer from 1\n",
        "through 10). In Python, two asterisks (**) represent exponents. Here’s\n",
        "how you might put the first 10 square numbers into a list"
      ],
      "metadata": {
        "id": "LwCVAEnoAE0H"
      }
    },
    {
      "cell_type": "code",
      "source": [
        "squares = []\n",
        "for value in range(1, 11):\n",
        "  square = value ** 2\n",
        "  squares.append(square)\n",
        "print(squares)"
      ],
      "metadata": {
        "id": "kSrr86dO__1C",
        "outputId": "f25f280a-764e-42b3-83f9-aa90e312b582",
        "colab": {
          "base_uri": "https://localhost:8080/"
        }
      },
      "execution_count": 23,
      "outputs": [
        {
          "output_type": "stream",
          "name": "stdout",
          "text": [
            "[1, 4, 9, 16, 25, 36, 49, 64, 81, 100]\n"
          ]
        }
      ]
    },
    {
      "cell_type": "markdown",
      "source": [
        "# Simple Statistics with a List of Numbers\n",
        "A few Python functions are helpful when working with lists of numbers.\n",
        "For example, you can easily find the minimum, maximum, and sum of a\n",
        "list of numbers:"
      ],
      "metadata": {
        "id": "BCQRK1xRCCYu"
      }
    },
    {
      "cell_type": "code",
      "source": [
        "digits = [1, 2, 3, 4, 5, 6, 7, 8, 9, 0]\n",
        "min(digits)\n",
        "\n"
      ],
      "metadata": {
        "id": "xZ2DCdqqCE13",
        "outputId": "b5514d75-fd32-487c-8f30-1e6ae55eefc2",
        "colab": {
          "base_uri": "https://localhost:8080/"
        }
      },
      "execution_count": 24,
      "outputs": [
        {
          "output_type": "execute_result",
          "data": {
            "text/plain": [
              "45"
            ]
          },
          "metadata": {},
          "execution_count": 24
        }
      ]
    },
    {
      "cell_type": "code",
      "source": [
        "max(digits)"
      ],
      "metadata": {
        "id": "WK3YeUE5CRIH",
        "outputId": "cd024cd2-4fe4-450b-e913-bbac9a2d734d",
        "colab": {
          "base_uri": "https://localhost:8080/"
        }
      },
      "execution_count": 25,
      "outputs": [
        {
          "output_type": "execute_result",
          "data": {
            "text/plain": [
              "9"
            ]
          },
          "metadata": {},
          "execution_count": 25
        }
      ]
    },
    {
      "cell_type": "code",
      "source": [
        "sum(digits)"
      ],
      "metadata": {
        "id": "HmSxmvsRCUCB",
        "outputId": "76dbf7e6-b444-4331-9993-58ed212962ff",
        "colab": {
          "base_uri": "https://localhost:8080/"
        }
      },
      "execution_count": 26,
      "outputs": [
        {
          "output_type": "execute_result",
          "data": {
            "text/plain": [
              "45"
            ]
          },
          "metadata": {},
          "execution_count": 26
        }
      ]
    },
    {
      "cell_type": "markdown",
      "source": [
        "# Exercise"
      ],
      "metadata": {
        "id": "-Mib53ddCgsB"
      }
    },
    {
      "cell_type": "code",
      "source": [
        "#Counting to Twenty: Use a for loop to print the numbers from 1 to 20, inclusive."
      ],
      "metadata": {
        "id": "ZSLYiEEACjxJ"
      },
      "execution_count": null,
      "outputs": []
    },
    {
      "cell_type": "code",
      "source": [],
      "metadata": {
        "id": "jAP6rZM4Cwx_"
      },
      "execution_count": null,
      "outputs": []
    },
    {
      "cell_type": "code",
      "source": [],
      "metadata": {
        "id": "9Av2bwhMCyQn"
      },
      "execution_count": null,
      "outputs": []
    },
    {
      "cell_type": "code",
      "source": [
        "# One Million: Make a list of the numbers from one to one million, and then use a\n",
        "#for loop to print the numbers. (If the output is taking too long, stop it by pressing\n",
        "#CTRL-C or by closing the output window.)"
      ],
      "metadata": {
        "id": "1vmtLxBKCprQ"
      },
      "execution_count": null,
      "outputs": []
    },
    {
      "cell_type": "code",
      "source": [],
      "metadata": {
        "id": "SWsPvthpCxX3"
      },
      "execution_count": null,
      "outputs": []
    },
    {
      "cell_type": "code",
      "source": [],
      "metadata": {
        "id": "tC7Xbg5kCxUA"
      },
      "execution_count": null,
      "outputs": []
    },
    {
      "cell_type": "code",
      "source": [
        "# Summing a Million: Make a list of the numbers from one to one million, and then\n",
        "#se min() and max() to make sure your list actually starts at one and ends at one\n",
        "#million. Also, use the sum() function to see how quickly Python can add a million\n",
        "#numbers.#"
      ],
      "metadata": {
        "id": "yAPAUXRhC1no"
      },
      "execution_count": null,
      "outputs": []
    },
    {
      "cell_type": "code",
      "source": [],
      "metadata": {
        "id": "UaM8Clp4Dq0H"
      },
      "execution_count": null,
      "outputs": []
    },
    {
      "cell_type": "code",
      "source": [],
      "metadata": {
        "id": "gvNAgtE4Dqj-"
      },
      "execution_count": null,
      "outputs": []
    },
    {
      "cell_type": "code",
      "source": [
        "#Odd Numbers: Use the third argument of the range() function to make a list of\n",
        "#the odd numbers from 1 to 20. Use a for loop to print each number."
      ],
      "metadata": {
        "id": "v2ySLLnDDfQ-"
      },
      "execution_count": null,
      "outputs": []
    },
    {
      "cell_type": "code",
      "source": [],
      "metadata": {
        "id": "y3fDXoqmDrj2"
      },
      "execution_count": null,
      "outputs": []
    },
    {
      "cell_type": "code",
      "source": [],
      "metadata": {
        "id": "5k5Vsp9-Drgf"
      },
      "execution_count": null,
      "outputs": []
    },
    {
      "cell_type": "code",
      "source": [],
      "metadata": {
        "id": "4x3sWErfDrd3"
      },
      "execution_count": null,
      "outputs": []
    },
    {
      "cell_type": "code",
      "source": [
        "#Threes: Make a list of the multiples of 3 from 3 to 30. Use a for loop to print the\n",
        "#numbers in your list."
      ],
      "metadata": {
        "id": "ZHn_Jt3YDpku"
      },
      "execution_count": null,
      "outputs": []
    },
    {
      "cell_type": "code",
      "source": [],
      "metadata": {
        "id": "3jS53oYcD0Zh"
      },
      "execution_count": null,
      "outputs": []
    },
    {
      "cell_type": "code",
      "source": [],
      "metadata": {
        "id": "YK1q1QQ4D0U5"
      },
      "execution_count": null,
      "outputs": []
    },
    {
      "cell_type": "code",
      "source": [
        "#Cubes: A number raised to the third power is called a cube. For example, the cube\n",
        "#of 2 is written as 2**3 in Python. Make a list of the first 10 cubes (that is, the cube of\n",
        "##each integer from 1 through 10), and use a for loop to print out the value of each cube."
      ],
      "metadata": {
        "id": "-VTeUx-yD-Nn"
      },
      "execution_count": null,
      "outputs": []
    },
    {
      "cell_type": "code",
      "source": [],
      "metadata": {
        "id": "bPTU331OEB9C"
      },
      "execution_count": null,
      "outputs": []
    },
    {
      "cell_type": "code",
      "source": [],
      "metadata": {
        "id": "xMv2axNvEFRy"
      },
      "execution_count": null,
      "outputs": []
    },
    {
      "cell_type": "code",
      "source": [],
      "metadata": {
        "id": "F9QRvAaVEFOR"
      },
      "execution_count": null,
      "outputs": []
    },
    {
      "cell_type": "code",
      "source": [
        "#Cube Comprehension: Use a list comprehension to generate a list of the first 10\n",
        "#cubes."
      ],
      "metadata": {
        "id": "9afdpeFdEB5p"
      },
      "execution_count": null,
      "outputs": []
    },
    {
      "cell_type": "code",
      "source": [],
      "metadata": {
        "id": "DUZgUPfOEKRY"
      },
      "execution_count": null,
      "outputs": []
    },
    {
      "cell_type": "code",
      "source": [],
      "metadata": {
        "id": "8VCOygIyEKN_"
      },
      "execution_count": null,
      "outputs": []
    },
    {
      "cell_type": "code",
      "source": [],
      "metadata": {
        "id": "EFwchJiPEKLC"
      },
      "execution_count": null,
      "outputs": []
    }
  ]
}