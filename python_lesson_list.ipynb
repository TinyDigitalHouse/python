{
  "nbformat": 4,
  "nbformat_minor": 0,
  "metadata": {
    "colab": {
      "provenance": [],
      "authorship_tag": "ABX9TyOY2mZUOkzEKiHTnR96zSDn",
      "include_colab_link": true
    },
    "kernelspec": {
      "name": "python3",
      "display_name": "Python 3"
    },
    "language_info": {
      "name": "python"
    }
  },
  "cells": [
    {
      "cell_type": "markdown",
      "metadata": {
        "id": "view-in-github",
        "colab_type": "text"
      },
      "source": [
        "<a href=\"https://colab.research.google.com/github/TinyDigitalHouse/python/blob/main/python_lesson_list.ipynb\" target=\"_parent\"><img src=\"https://colab.research.google.com/assets/colab-badge.svg\" alt=\"Open In Colab\"/></a>"
      ]
    },
    {
      "cell_type": "markdown",
      "source": [
        "# **INTRODUCING LISTS**"
      ],
      "metadata": {
        "id": "JSBU07huiM7W"
      }
    },
    {
      "cell_type": "markdown",
      "source": [
        "What Is a List?\n",
        "A list is a collection of items in a particular order. You can make a list\n",
        "that includes the letters of the alphabet, the digits from 0–9, or the\n",
        "names of all the people in your family. You can put anything you want\n",
        "into a list, and the items in your list don’t have to be related in any\n",
        "particular way. Because a list usually contains more than one element,\n",
        "it’s a good idea to make the name of your list plural, such as letters,\n",
        "digits, or names.\n"
      ],
      "metadata": {
        "id": "5xJEQAqPiUni"
      }
    },
    {
      "cell_type": "code",
      "execution_count": 1,
      "metadata": {
        "id": "o06N9YCQiGmo"
      },
      "outputs": [],
      "source": [
        "bicycles = ['trek', 'cannondale', 'redline', 'specialized']"
      ]
    },
    {
      "cell_type": "code",
      "source": [
        "print(bicycles)"
      ],
      "metadata": {
        "id": "8OvUxGFbie4V"
      },
      "execution_count": null,
      "outputs": []
    },
    {
      "cell_type": "markdown",
      "source": [
        "Lists are ordered collections, so you can access any element in a list by\n",
        "telling Python the position, or index,"
      ],
      "metadata": {
        "id": "jQ9yezF6inKN"
      }
    },
    {
      "cell_type": "code",
      "source": [
        "print(bicycles[0])"
      ],
      "metadata": {
        "id": "g2hB2zZ_ipw1"
      },
      "execution_count": null,
      "outputs": []
    },
    {
      "cell_type": "code",
      "source": [
        "print(bicycles[0].title())"
      ],
      "metadata": {
        "id": "mxWLhyGyizcl"
      },
      "execution_count": null,
      "outputs": []
    },
    {
      "cell_type": "code",
      "source": [
        "# Index Positions Start at 0, Not 1\n",
        "print(bicycles)\n",
        "print(bicycles[1])\n",
        "print(bicycles[3])"
      ],
      "metadata": {
        "id": "Oa3o0f39i6uk"
      },
      "execution_count": null,
      "outputs": []
    },
    {
      "cell_type": "markdown",
      "source": [
        "Python has a special syntax for accessing the last element in a list. By\n",
        "asking for the item at index -1, Python always returns the last item in\n",
        "the list:"
      ],
      "metadata": {
        "id": "KHHFa6X_jV0k"
      }
    },
    {
      "cell_type": "code",
      "source": [
        "print(bicycles[-1])"
      ],
      "metadata": {
        "id": "8Q7goJtvjXq9"
      },
      "execution_count": null,
      "outputs": []
    },
    {
      "cell_type": "code",
      "source": [
        "# Let’s try pulling the first bicycle from the list and composing a message using that value.\n",
        "message = f\"My first bicycle was a {bicycles[0].title()}.\"\n",
        "print(message)"
      ],
      "metadata": {
        "id": "MTCGTkk5jrq6"
      },
      "execution_count": null,
      "outputs": []
    },
    {
      "cell_type": "markdown",
      "source": [
        "# **TRY IT YOURSELF**\n",
        "Try these short programs to get some firsthand experience with Python’s lists. You\n",
        "might want to create a new folder for each chapter’s exercises to keep them organized.\n"
      ],
      "metadata": {
        "id": "sKQ5pap6kMQs"
      }
    },
    {
      "cell_type": "markdown",
      "source": [
        "1.  Names: Store the names of a few of your friends in a list called names. Print each person’s name by accessing each element in the list, one at a time"
      ],
      "metadata": {
        "id": "7ELf7z94kZ0T"
      }
    },
    {
      "cell_type": "code",
      "source": [
        "# Code here."
      ],
      "metadata": {
        "id": "161L1RRqkdm7"
      },
      "execution_count": null,
      "outputs": []
    },
    {
      "cell_type": "markdown",
      "source": [
        "2. Greetings: Start with the list you used in Exercise 1., but instead of just printing each person’s name, print a message to them. The text of each message should be the same, but each message should be personalized with the person’s name."
      ],
      "metadata": {
        "id": "GEK-mK5-ksrM"
      }
    },
    {
      "cell_type": "code",
      "source": [
        "# Code here."
      ],
      "metadata": {
        "id": "HCJMis-Kk6GT"
      },
      "execution_count": null,
      "outputs": []
    },
    {
      "cell_type": "markdown",
      "source": [
        "3. Your Own List: Think of your favorite mode of transportation, such as a\n",
        "motorcycle or a car, and make a list that stores several examples. Use your list to print a series of statements about these items, such as “I would like to own a Honda motorcycle.”"
      ],
      "metadata": {
        "id": "YmiHT40nlF9s"
      }
    },
    {
      "cell_type": "code",
      "source": [
        "# Code here."
      ],
      "metadata": {
        "id": "cq_MC_frlAps"
      },
      "execution_count": null,
      "outputs": []
    },
    {
      "cell_type": "markdown",
      "source": [
        "# **Modifying Elements in a List**"
      ],
      "metadata": {
        "id": "dMEMOSMilzb8"
      }
    },
    {
      "cell_type": "code",
      "source": [
        "motorcycles = ['honda', 'yamaha', 'suzuki']\n",
        "print(motorcycles)"
      ],
      "metadata": {
        "id": "jzqPQwxkl2dh"
      },
      "execution_count": null,
      "outputs": []
    },
    {
      "cell_type": "code",
      "source": [
        "motorcycles[0] = 'ducati'\n",
        "print(motorcycles)"
      ],
      "metadata": {
        "id": "hP434gQjmRqW"
      },
      "execution_count": null,
      "outputs": []
    },
    {
      "cell_type": "markdown",
      "source": [
        "Appending Elements to the End of a List"
      ],
      "metadata": {
        "id": "MZ54Q_5NmZ4z"
      }
    },
    {
      "cell_type": "code",
      "source": [
        "motorcycles = ['honda', 'yamaha', 'suzuki']\n",
        "motorcycles.append('ducati')\n",
        "print(motorcycles)"
      ],
      "metadata": {
        "id": "ldk12UTsmbib"
      },
      "execution_count": null,
      "outputs": []
    },
    {
      "cell_type": "markdown",
      "source": [
        "The append() method makes it easy to build lists dynamically. For\n",
        "example, you can start with an empty list and then add items to the list\n",
        "using a series of append() calls. Using an empty list, let’s add the elements\n",
        "'honda', 'yamaha', and 'suzuki' to the list:\n"
      ],
      "metadata": {
        "id": "cBiBkxBom3RE"
      }
    },
    {
      "cell_type": "code",
      "source": [
        "motorcycles = []\n",
        "motorcycles.append('honda')\n",
        "motorcycles.append('yamaha')\n",
        "motorcycles.append('suzuki')\n",
        "\n",
        "print(motorcycles)"
      ],
      "metadata": {
        "colab": {
          "base_uri": "https://localhost:8080/"
        },
        "id": "uv6Z78f_m8JU",
        "outputId": "6af1bb78-c2d4-4cc8-923b-d74399e2373c"
      },
      "execution_count": 13,
      "outputs": [
        {
          "output_type": "stream",
          "name": "stdout",
          "text": [
            "['honda', 'yamaha', 'suzuki']\n"
          ]
        }
      ]
    },
    {
      "cell_type": "markdown",
      "source": [
        "Try it yor self.\n",
        "\n",
        "1. Using an empty list, let’s add the elements 'apple', 'banana', and 'mango' to the list:\n",
        "2. Using an empty list, let’s add the elements 'red', 'blue', and 'green' to the list:\n",
        "3. Access first and last element in a list by telling Python the position, or index of fruits and colors."
      ],
      "metadata": {
        "id": "O8FNpkaynDXk"
      }
    },
    {
      "cell_type": "code",
      "source": [
        "# code here."
      ],
      "metadata": {
        "id": "1CMtEz5ioEJ7"
      },
      "execution_count": null,
      "outputs": []
    },
    {
      "cell_type": "code",
      "source": [],
      "metadata": {
        "id": "rN8GZCg0m2HM"
      },
      "execution_count": null,
      "outputs": []
    },
    {
      "cell_type": "code",
      "source": [],
      "metadata": {
        "id": "Ev5qQWcKBkiN"
      },
      "execution_count": null,
      "outputs": []
    },
    {
      "cell_type": "markdown",
      "source": [
        "You can also use the remove() method to work with a value"
      ],
      "metadata": {
        "id": "VsYHg9Z2BqVk"
      }
    },
    {
      "cell_type": "code",
      "source": [
        "too_expensive = 'ducati'\n",
        "motorcycles.remove(too_expensive)\n",
        "print(motorcycles)"
      ],
      "metadata": {
        "id": "VWXQQc-eBmW_"
      },
      "execution_count": null,
      "outputs": []
    },
    {
      "cell_type": "code",
      "source": [],
      "metadata": {
        "id": "ot1-_jz0ByDX"
      },
      "execution_count": null,
      "outputs": []
    },
    {
      "cell_type": "markdown",
      "source": [
        "# **Sorting a List Permanently with the sort() Method**"
      ],
      "metadata": {
        "id": "8n1ErsUjERgA"
      }
    },
    {
      "cell_type": "code",
      "source": [
        "cars = ['bmw', 'audi', 'toyota', 'subaru']\n",
        "cars.sort()\n",
        "print(cars)\n"
      ],
      "metadata": {
        "colab": {
          "base_uri": "https://localhost:8080/"
        },
        "id": "shyELZHXEQoD",
        "outputId": "20c35c8e-19f4-4c4c-cca8-54d1dc45257f"
      },
      "execution_count": 1,
      "outputs": [
        {
          "output_type": "stream",
          "name": "stdout",
          "text": [
            "['audi', 'bmw', 'subaru', 'toyota']\n"
          ]
        }
      ]
    }
  ]
}